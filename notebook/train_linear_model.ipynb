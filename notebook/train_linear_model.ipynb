{
 "cells": [
  {
   "cell_type": "code",
   "execution_count": 1,
   "metadata": {},
   "outputs": [],
   "source": [
    "import pandas as pd\n",
    "import tensorflow as tf\n",
    "import numpy as np\n",
    "import matplotlib.pyplot as plt\n",
    "from tensorflow import keras\n",
    "import os\n",
    "import re\n",
    "import shutil\n",
    "import string\n",
    "from py_file.estimate_batch_size import *"
   ]
  },
  {
   "cell_type": "code",
   "execution_count": 2,
   "metadata": {},
   "outputs": [],
   "source": [
    "train = pd.read_csv(\"../dataset/goodreads_train.csv\")\n",
    "# test = pd.read_csv(\"dataset/goodreads_test.csv\")\n",
    "\n",
    "x_train = train['review_text']\n",
    "# x_test = test['review_text']\n",
    "\n",
    "y_train = train['rating']\n",
    "# y_test = test['rating']"
   ]
  },
  {
   "cell_type": "code",
   "execution_count": 3,
   "metadata": {},
   "outputs": [],
   "source": [
    "vectorize_layer = tf.keras.layers.TextVectorization(\n",
    "    max_tokens= 376576,\n",
    "    standardize='lower_and_strip_punctuation',\n",
    "    split='whitespace',\n",
    "    output_mode='int',\n",
    "    output_sequence_length=1400,\n",
    "    vocabulary=np.load('voc.npy'))"
   ]
  },
  {
   "cell_type": "code",
   "execution_count": null,
   "metadata": {},
   "outputs": [],
   "source": [
    "# print(\"adapt\")\n",
    "# vectorize_layer.adapt(x_train)\n",
    "# print(\"model_adding\")\n",
    "# print(len(vectorize_layer.get_vocabulary()))"
   ]
  },
  {
   "cell_type": "code",
   "execution_count": 4,
   "metadata": {},
   "outputs": [],
   "source": [
    "model = tf.keras.models.Sequential()"
   ]
  },
  {
   "cell_type": "code",
   "execution_count": 5,
   "metadata": {},
   "outputs": [],
   "source": [
    "model.add(tf.keras.Input(shape=(1,), dtype=tf.string))\n",
    "model.add(vectorize_layer)\n",
    "model.add(tf.keras.layers.Dense(1, activation=tf.keras.activations.linear))"
   ]
  },
  {
   "cell_type": "code",
   "execution_count": 6,
   "metadata": {},
   "outputs": [],
   "source": [
    "model.compile(optimizer=tf.keras.optimizers.RMSprop(learning_rate=0.001),\n",
    "              loss=tf.keras.losses.mse\n",
    "              )"
   ]
  },
  {
   "cell_type": "code",
   "execution_count": 7,
   "metadata": {},
   "outputs": [
    {
     "name": "stdout",
     "output_type": "stream",
     "text": [
      "Batch Size:  64\n",
      "64\n"
     ]
    }
   ],
   "source": [
    "optimal_batch_size = FindBatchSize(model)\n",
    "print(optimal_batch_size)"
   ]
  },
  {
   "cell_type": "code",
   "execution_count": 8,
   "metadata": {},
   "outputs": [
    {
     "name": "stdout",
     "output_type": "stream",
     "text": [
      "training\n"
     ]
    }
   ],
   "source": [
    "print(\"training\")"
   ]
  },
  {
   "cell_type": "code",
   "execution_count": 9,
   "metadata": {
    "pycharm": {
     "is_executing": true
    }
   },
   "outputs": [
    {
     "name": "stdout",
     "output_type": "stream",
     "text": [
      "Epoch 1/50\n",
      "9/9 [==============================] - 50s 5s/step - loss: 28334370.0000\n",
      "Epoch 2/50\n",
      "9/9 [==============================] - 43s 5s/step - loss: 15690998.0000\n",
      "Epoch 3/50\n",
      "9/9 [==============================] - 41s 5s/step - loss: 9305280.0000\n",
      "Epoch 4/50\n",
      "9/9 [==============================] - 40s 4s/step - loss: 5418092.5000\n",
      "Epoch 5/50\n",
      "9/9 [==============================] - 39s 4s/step - loss: 3045477.7500\n",
      "Epoch 6/50\n",
      "9/9 [==============================] - 40s 4s/step - loss: 1598035.3750\n",
      "Epoch 7/50\n",
      "9/9 [==============================] - 40s 4s/step - loss: 879627.7500\n",
      "Epoch 8/50\n",
      "9/9 [==============================] - 41s 5s/step - loss: 578363.7500\n",
      "Epoch 9/50\n",
      "9/9 [==============================] - 41s 5s/step - loss: 341872.4062\n",
      "Epoch 10/50\n",
      "9/9 [==============================] - 40s 4s/step - loss: 290145.5312\n",
      "Epoch 11/50\n",
      "9/9 [==============================] - 40s 4s/step - loss: 295728.5000\n",
      "Epoch 12/50\n",
      "9/9 [==============================] - 40s 4s/step - loss: 208966.3281\n",
      "Epoch 13/50\n",
      "9/9 [==============================] - 40s 4s/step - loss: 234485.1719\n",
      "Epoch 14/50\n",
      "9/9 [==============================] - 40s 4s/step - loss: 228734.7344\n",
      "Epoch 15/50\n",
      "9/9 [==============================] - 41s 5s/step - loss: 195936.4062\n",
      "Epoch 16/50\n",
      "9/9 [==============================] - 40s 4s/step - loss: 217393.0625\n",
      "Epoch 17/50\n",
      "9/9 [==============================] - 40s 4s/step - loss: 217784.4219\n",
      "Epoch 18/50\n",
      "9/9 [==============================] - 40s 4s/step - loss: 198517.5781\n",
      "Epoch 19/50\n",
      "9/9 [==============================] - 40s 4s/step - loss: 194290.2500\n",
      "Epoch 20/50\n",
      "9/9 [==============================] - 42s 5s/step - loss: 213897.7500\n",
      "Epoch 21/50\n",
      "9/9 [==============================] - 40s 4s/step - loss: 205273.3906\n",
      "Epoch 22/50\n",
      "9/9 [==============================] - 40s 4s/step - loss: 191455.8750\n",
      "Epoch 23/50\n",
      "9/9 [==============================] - 40s 4s/step - loss: 202525.1562\n",
      "Epoch 24/50\n",
      "9/9 [==============================] - 40s 4s/step - loss: 208951.3906\n",
      "Epoch 25/50\n",
      "9/9 [==============================] - 40s 4s/step - loss: 211655.6094\n",
      "Epoch 26/50\n",
      "9/9 [==============================] - 40s 4s/step - loss: 170488.9844\n",
      "Epoch 27/50\n",
      "9/9 [==============================] - 41s 5s/step - loss: 266826.9062\n",
      "Epoch 28/50\n",
      "9/9 [==============================] - 41s 5s/step - loss: 125656.1875\n",
      "Epoch 29/50\n",
      "9/9 [==============================] - 40s 4s/step - loss: 220861.2500\n",
      "Epoch 30/50\n",
      "9/9 [==============================] - 40s 4s/step - loss: 216582.4375\n",
      "Epoch 31/50\n",
      "9/9 [==============================] - 40s 4s/step - loss: 188590.7031\n",
      "Epoch 32/50\n",
      "9/9 [==============================] - 40s 4s/step - loss: 192965.1875\n",
      "Epoch 33/50\n",
      "9/9 [==============================] - 40s 4s/step - loss: 206058.8125\n",
      "Epoch 34/50\n",
      "9/9 [==============================] - 41s 5s/step - loss: 201067.2812\n",
      "Epoch 35/50\n",
      "9/9 [==============================] - 41s 4s/step - loss: 196351.2031\n",
      "Epoch 36/50\n",
      "9/9 [==============================] - 40s 4s/step - loss: 198423.8594\n",
      "Epoch 37/50\n",
      "9/9 [==============================] - 40s 4s/step - loss: 219332.3125\n",
      "Epoch 38/50\n",
      "9/9 [==============================] - 41s 5s/step - loss: 161275.9219\n",
      "Epoch 39/50\n",
      "9/9 [==============================] - 41s 5s/step - loss: 250937.7656\n",
      "Epoch 40/50\n",
      "9/9 [==============================] - 40s 4s/step - loss: 163665.4062\n",
      "Epoch 41/50\n",
      "9/9 [==============================] - 40s 4s/step - loss: 211698.7188\n",
      "Epoch 42/50\n",
      "9/9 [==============================] - 40s 4s/step - loss: 215810.5000\n",
      "Epoch 43/50\n",
      "9/9 [==============================] - 40s 4s/step - loss: 157144.9688\n",
      "Epoch 44/50\n",
      "9/9 [==============================] - 40s 4s/step - loss: 228087.5781\n",
      "Epoch 45/50\n",
      "9/9 [==============================] - 40s 4s/step - loss: 206540.5781\n",
      "Epoch 46/50\n",
      "9/9 [==============================] - 39s 4s/step - loss: 184121.0000\n",
      "Epoch 47/50\n",
      "9/9 [==============================] - 37s 4s/step - loss: 199718.9688\n",
      "Epoch 48/50\n",
      "9/9 [==============================] - 36s 4s/step - loss: 204712.3594\n",
      "Epoch 49/50\n",
      "9/9 [==============================] - 37s 4s/step - loss: 205857.6094\n",
      "Epoch 50/50\n",
      "9/9 [==============================] - 37s 4s/step - loss: 195417.1719\n"
     ]
    },
    {
     "data": {
      "text/plain": [
       "<keras.callbacks.History at 0x1a9943e2b60>"
      ]
     },
     "execution_count": 9,
     "metadata": {},
     "output_type": "execute_result"
    }
   ],
   "source": [
    "model.fit(x_train, y_train, epochs=50,\n",
    "                  callbacks=[\n",
    "                      tf.keras.callbacks.TensorBoard(log_dir=\"/logs\"),\n",
    "                  ],\n",
    "                  batch_size=100000\n",
    "                  )"
   ]
  },
  {
   "cell_type": "code",
   "execution_count": null,
   "metadata": {},
   "outputs": [],
   "source": [
    "model.save(\"models_trained/linear_model_1\")"
   ]
  }
 ],
 "metadata": {
  "kernelspec": {
   "display_name": "Python 3 (ipykernel)",
   "language": "python",
   "name": "python3"
  },
  "language_info": {
   "codemirror_mode": {
    "name": "ipython",
    "version": 3
   },
   "file_extension": ".py",
   "mimetype": "text/x-python",
   "name": "python",
   "nbconvert_exporter": "python",
   "pygments_lexer": "ipython3",
   "version": "3.10.6"
  }
 },
 "nbformat": 4,
 "nbformat_minor": 1
}
