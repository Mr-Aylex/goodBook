{
 "cells": [
  {
   "cell_type": "code",
   "execution_count": 1,
   "metadata": {
    "collapsed": true
   },
   "outputs": [],
   "source": [
    "import numpy as np\n",
    "import tensorflow as tf\n",
    "from tensorflow import keras\n",
    "from tensorflow.keras import layers\n",
    "from tensorflow.python.keras.callbacks import TensorBoard\n",
    "import pandas as pd\n",
    "import numpy as np\n",
    "from multiprocessing import  Pool\n",
    "from tqdm import tqdm\n",
    "import nltk\n",
    "from nltk.corpus import stopwords\n",
    "from nltk.stem.porter import PorterStemmer\n",
    "from time import time"
   ]
  },
  {
   "cell_type": "code",
   "execution_count": 2,
   "outputs": [
    {
     "name": "stdout",
     "output_type": "stream",
     "text": [
      "open dataset\n"
     ]
    }
   ],
   "source": [
    "print(\"open dataset\")\n",
    "train = pd.read_csv(\"../dataset/goodreads_train.csv\")\n",
    "# test = pd.read_csv(\"dataset/goodreads_test.csv\")"
   ],
   "metadata": {
    "collapsed": false
   }
  },
  {
   "cell_type": "code",
   "execution_count": 3,
   "outputs": [],
   "source": [
    "nb_note =  train[\"n_votes\"]"
   ],
   "metadata": {
    "collapsed": false
   }
  },
  {
   "cell_type": "code",
   "execution_count": 4,
   "outputs": [
    {
     "data": {
      "text/plain": "0         28\n1          1\n2         22\n3          5\n4          9\n          ..\n899995     0\n899996     1\n899997     1\n899998     0\n899999     0\nName: n_votes, Length: 900000, dtype: int64"
     },
     "execution_count": 4,
     "metadata": {},
     "output_type": "execute_result"
    }
   ],
   "source": [
    "nb_note"
   ],
   "metadata": {
    "collapsed": false
   }
  },
  {
   "cell_type": "code",
   "execution_count": 5,
   "outputs": [],
   "source": [
    "y_train = train['rating']"
   ],
   "metadata": {
    "collapsed": false
   }
  },
  {
   "cell_type": "code",
   "execution_count": 6,
   "outputs": [],
   "source": [
    "train_prepro = pd.DataFrame(data=np.load(file=\"../prepro_train_archive.npy\", allow_pickle=True), columns=['review_text'])['review_text']"
   ],
   "metadata": {
    "collapsed": false
   }
  },
  {
   "cell_type": "code",
   "execution_count": 6,
   "outputs": [],
   "source": [],
   "metadata": {
    "collapsed": false
   }
  },
  {
   "cell_type": "code",
   "execution_count": 7,
   "outputs": [
    {
     "data": {
      "text/plain": "'dic = {}\\nall_stop_word = stopwords.words(\"english\")\\nfor stop_word in all_stop_word:\\n    dic[stop_word] = stop_word\\ndef parallelize_dataframe(df, func, n_cores=4):\\n    print(\"split\")\\n\\n    df_split = np.array_split(df, n_cores)\\n    del df\\n    print(df_split)\\n\\n    with Pool(n_cores) as pool:\\n        df = pd.concat(pool.map(func, df_split))\\n\\n    return df\\ndef prepro(text):\\n    words = text.lower()\\n    tokens = nltk.word_tokenize(words)\\n    words_stop_less = [w for w in tokens if dic.get(w) == None]\\n    stemmed = [PorterStemmer().stem(w) for w in words_stop_less]\\n    return \" \".join(stemmed)\\n\\ndef prepro_map(data_frame):\\n    tqdm.pandas()\\n    return data_frame.progress_apply(lambda x: prepro(x))'"
     },
     "execution_count": 7,
     "metadata": {},
     "output_type": "execute_result"
    }
   ],
   "source": [
    "\"\"\"dic = {}\n",
    "all_stop_word = stopwords.words(\"english\")\n",
    "for stop_word in all_stop_word:\n",
    "    dic[stop_word] = stop_word\n",
    "def parallelize_dataframe(df, func, n_cores=4):\n",
    "    print(\"split\")\n",
    "\n",
    "    df_split = np.array_split(df, n_cores)\n",
    "    del df\n",
    "    print(df_split)\n",
    "\n",
    "    with Pool(n_cores) as pool:\n",
    "        df = pd.concat(pool.map(func, df_split))\n",
    "\n",
    "    return df\n",
    "def prepro(text):\n",
    "    words = text.lower()\n",
    "    tokens = nltk.word_tokenize(words)\n",
    "    words_stop_less = [w for w in tokens if dic.get(w) == None]\n",
    "    stemmed = [PorterStemmer().stem(w) for w in words_stop_less]\n",
    "    return \" \".join(stemmed)\n",
    "\n",
    "def prepro_map(data_frame):\n",
    "    tqdm.pandas()\n",
    "    return data_frame.progress_apply(lambda x: prepro(x))\"\"\""
   ],
   "metadata": {
    "collapsed": false
   }
  },
  {
   "cell_type": "code",
   "execution_count": 8,
   "outputs": [],
   "source": [
    "inputs = keras.Input(shape=(1,), dtype=tf.string)\n",
    "inputs2 = keras.Input(shape=(1), dtype=tf.int64)\n",
    "\n",
    "vectorize_layer = keras.layers.TextVectorization(\n",
    "    max_tokens= 494871,\n",
    "    standardize='lower_and_strip_punctuation',\n",
    "    split='whitespace',\n",
    "    output_mode='int',\n",
    "    output_sequence_length=1400,\n",
    "    vocabulary=np.load('../voc2.npy')\n",
    ")(inputs)\n",
    "\n",
    "conc = keras.layers.concatenate([vectorize_layer, inputs2])\n",
    "\n",
    "layer1 = keras.layers.Dense(64, activation=tf.keras.activations.tanh)(conc)\n",
    "layer2 = keras.layers.Dense(64, activation=tf.keras.activations.tanh)(layer1)\n",
    "layer3 = keras.layers.Dense(64, activation=tf.keras.activations.tanh)(layer2)\n",
    "outputs = keras.layers.Dense(1, activation=tf.keras.activations.relu)(layer3)"
   ],
   "metadata": {
    "collapsed": false
   }
  },
  {
   "cell_type": "code",
   "execution_count": 9,
   "outputs": [],
   "source": [
    "model = keras.Model(inputs=[inputs, inputs2], outputs=outputs, name=\"mnist_model\")\n",
    "tensorboard = TensorBoard(log_dir=\"../logs/relu\".format(time()))"
   ],
   "metadata": {
    "collapsed": false
   }
  },
  {
   "cell_type": "code",
   "execution_count": 10,
   "outputs": [
    {
     "data": {
      "image/png": "[encoded data removed]",
      "text/plain": "<IPython.core.display.Image object>"
     },
     "execution_count": 10,
     "metadata": {},
     "output_type": "execute_result"
    }
   ],
   "source": [
    "keras.utils.plot_model(model, \"my_first_model.png\")"
   ],
   "metadata": {
    "collapsed": false
   }
  },
  {
   "cell_type": "code",
   "execution_count": 11,
   "outputs": [
    {
     "data": {
      "image/png": "[encoded data removed]",
      "text/plain": "<IPython.core.display.Image object>"
     },
     "execution_count": 11,
     "metadata": {},
     "output_type": "execute_result"
    }
   ],
   "source": [
    "keras.utils.plot_model(model, \"my_first_model.png\")"
   ],
   "metadata": {
    "collapsed": false
   }
  },
  {
   "cell_type": "code",
   "execution_count": 12,
   "outputs": [
    {
     "name": "stdout",
     "output_type": "stream",
     "text": [
      "Model: \"mnist_model\"\n",
      "__________________________________________________________________________________________________\n",
      " Layer (type)                   Output Shape         Param #     Connected to                     \n",
      "==================================================================================================\n",
      " input_1 (InputLayer)           [(None, 1)]          0           []                               \n",
      "                                                                                                  \n",
      " text_vectorization (TextVector  (None, 1400)        0           ['input_1[0][0]']                \n",
      " ization)                                                                                         \n",
      "                                                                                                  \n",
      " input_2 (InputLayer)           [(None, 1)]          0           []                               \n",
      "                                                                                                  \n",
      " concatenate (Concatenate)      (None, 1401)         0           ['text_vectorization[0][0]',     \n",
      "                                                                  'input_2[0][0]']                \n",
      "                                                                                                  \n",
      " dense (Dense)                  (None, 64)           89728       ['concatenate[0][0]']            \n",
      "                                                                                                  \n",
      " dense_1 (Dense)                (None, 1)            65          ['dense[0][0]']                  \n",
      "                                                                                                  \n",
      "==================================================================================================\n",
      "Total params: 89,793\n",
      "Trainable params: 89,793\n",
      "Non-trainable params: 0\n",
      "__________________________________________________________________________________________________\n"
     ]
    }
   ],
   "source": [
    "model.summary()"
   ],
   "metadata": {
    "collapsed": false
   }
  },
  {
   "cell_type": "code",
   "execution_count": 13,
   "outputs": [],
   "source": [
    "model.compile(optimizer=tf.keras.optimizers.RMSprop(learning_rate=0.001),\n",
    "              loss=tf.keras.losses.mse,\n",
    "              metrics=[tf.keras.metrics.Accuracy()]\n",
    "              )"
   ],
   "metadata": {
    "collapsed": false
   }
  },
  {
   "cell_type": "code",
   "execution_count": 14,
   "outputs": [
    {
     "name": "stdout",
     "output_type": "stream",
     "text": [
      "Epoch 1/20\n",
      "9/9 [==============================] - 25s 3s/step - loss: 2087521.2500 - accuracy: 0.0256\n",
      "Epoch 2/20\n",
      "9/9 [==============================] - 23s 3s/step - loss: 57602.1406 - accuracy: 0.0321\n",
      "Epoch 3/20\n",
      "9/9 [==============================] - 23s 3s/step - loss: 16393.8438 - accuracy: 0.0335\n",
      "Epoch 4/20\n",
      "9/9 [==============================] - 23s 3s/step - loss: 6326.9585 - accuracy: 0.0340\n",
      "Epoch 5/20\n",
      "9/9 [==============================] - 23s 3s/step - loss: 2731.2578 - accuracy: 0.0343\n",
      "Epoch 6/20\n",
      "9/9 [==============================] - 23s 3s/step - loss: 1239.9238 - accuracy: 0.0343\n",
      "Epoch 7/20\n",
      "9/9 [==============================] - 23s 3s/step - loss: 552.8607 - accuracy: 0.0344\n",
      "Epoch 8/20\n",
      "9/9 [==============================] - 22s 2s/step - loss: 232.3226 - accuracy: 0.0344\n",
      "Epoch 9/20\n",
      "9/9 [==============================] - 22s 2s/step - loss: 102.2282 - accuracy: 0.0344\n",
      "Epoch 10/20\n",
      "9/9 [==============================] - 22s 2s/step - loss: 49.4841 - accuracy: 0.0344\n",
      "Epoch 11/20\n",
      "9/9 [==============================] - 23s 3s/step - loss: 29.4169 - accuracy: 0.0344\n",
      "Epoch 12/20\n",
      "9/9 [==============================] - 23s 3s/step - loss: 20.0792 - accuracy: 0.0344\n",
      "Epoch 13/20\n",
      "9/9 [==============================] - 22s 2s/step - loss: 16.4376 - accuracy: 0.0344\n",
      "Epoch 14/20\n",
      "9/9 [==============================] - 22s 2s/step - loss: 15.6479 - accuracy: 0.0344\n",
      "Epoch 15/20\n",
      "9/9 [==============================] - 23s 3s/step - loss: 15.4574 - accuracy: 0.0344\n",
      "Epoch 16/20\n",
      "9/9 [==============================] - 23s 3s/step - loss: 15.3364 - accuracy: 0.0344\n",
      "Epoch 17/20\n",
      "9/9 [==============================] - 23s 2s/step - loss: 15.2689 - accuracy: 0.0344\n",
      "Epoch 18/20\n",
      "9/9 [==============================] - 23s 3s/step - loss: 15.2286 - accuracy: 0.0344\n",
      "Epoch 19/20\n",
      "9/9 [==============================] - 23s 3s/step - loss: 15.2096 - accuracy: 0.0344\n",
      "Epoch 20/20\n",
      "9/9 [==============================] - 23s 3s/step - loss: 15.1988 - accuracy: 0.0344\n"
     ]
    },
    {
     "data": {
      "text/plain": "<keras.callbacks.History at 0x1d2f090b8e0>"
     },
     "execution_count": 14,
     "metadata": {},
     "output_type": "execute_result"
    }
   ],
   "source": [
    "model.fit([train_prepro,nb_note], y_train, epochs=20,\n",
    "                  callbacks=[\n",
    "                      tf.keras.callbacks.TensorBoard(log_dir=\"../logs/relu\"),\n",
    "                  ],\n",
    "                  batch_size=200000\n",
    "                  )"
   ],
   "metadata": {
    "collapsed": false
   }
  },
  {
   "cell_type": "code",
   "execution_count": 15,
   "outputs": [],
   "source": [
    "#model.save(\"../models_trained/linear_model_2\")"
   ],
   "metadata": {
    "collapsed": false
   }
  },
  {
   "cell_type": "code",
   "execution_count": 15,
   "outputs": [],
   "source": [],
   "metadata": {
    "collapsed": false
   }
  }
 ],
 "metadata": {
  "kernelspec": {
   "display_name": "Python 3",
   "language": "python",
   "name": "python3"
  },
  "language_info": {
   "codemirror_mode": {
    "name": "ipython",
    "version": 2
   },
   "file_extension": ".py",
   "mimetype": "text/x-python",
   "name": "python",
   "nbconvert_exporter": "python",
   "pygments_lexer": "ipython2",
   "version": "2.7.6"
  }
 },
 "nbformat": 4,
 "nbformat_minor": 0
}
