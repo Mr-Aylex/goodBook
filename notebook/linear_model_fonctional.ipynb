{
 "cells": [
  {
   "cell_type": "code",
   "execution_count": 1,
   "metadata": {
    "collapsed": true
   },
   "outputs": [],
   "source": [
    "import numpy as np\n",
    "import tensorflow as tf\n",
    "from tensorflow import keras\n",
    "from tensorflow.keras import layers\n",
    "from tensorflow.python.keras.callbacks import TensorBoard\n",
    "import tensorflow_addons as tfa\n",
    "import pandas as pd\n",
    "import numpy as np\n",
    "from multiprocessing import  Pool\n",
    "from tqdm import tqdm\n",
    "import nltk\n",
    "from nltk.corpus import stopwords\n",
    "from nltk.stem.porter import PorterStemmer\n",
    "from time import time"
   ]
  },
  {
   "cell_type": "code",
   "execution_count": 2,
   "outputs": [
    {
     "name": "stdout",
     "output_type": "stream",
     "text": [
      "open dataset\n"
     ]
    }
   ],
   "source": [
    "print(\"open dataset\")\n",
    "train = pd.read_csv(\"../dataset/goodreads_train.csv\")"
   ],
   "metadata": {
    "collapsed": false
   }
  },
  {
   "cell_type": "code",
   "execution_count": 3,
   "outputs": [],
   "source": [
    "train_prepro = pd.DataFrame(data=np.load(file=\"../prepro_train_archive_PN_less.npy\", allow_pickle=True), columns=['review_text'])['review_text']\n",
    "# test = pd.read_csv(\"dataset/goodreads_test.csv\")"
   ],
   "metadata": {
    "collapsed": false
   }
  },
  {
   "cell_type": "code",
   "execution_count": 4,
   "outputs": [],
   "source": [
    "train['review_text'] = train_prepro"
   ],
   "metadata": {
    "collapsed": false
   }
  },
  {
   "cell_type": "code",
   "execution_count": 5,
   "outputs": [
    {
     "name": "stdout",
     "output_type": "stream",
     "text": [
      "0   30988\n",
      "1   28718\n",
      "2   72627\n",
      "3   188972\n",
      "4   313688\n",
      "5   265007\n"
     ]
    },
    {
     "data": {
      "text/plain": "                                 user_id   book_id  \\\n0       8842281e1d1347389f2ab93d60773d4d  18245960   \n1       8842281e1d1347389f2ab93d60773d4d     16981   \n2       8842281e1d1347389f2ab93d60773d4d  28684704   \n4       8842281e1d1347389f2ab93d60773d4d  25884323   \n5       8842281e1d1347389f2ab93d60773d4d  19398490   \n...                                  ...       ...   \n899995  b9450d1c1f97f891c392b1105959b56e  11832081   \n899996  b9450d1c1f97f891c392b1105959b56e  16095092   \n899997  b9450d1c1f97f891c392b1105959b56e   8430896   \n899998  b9450d1c1f97f891c392b1105959b56e  12275680   \n899999  b9450d1c1f97f891c392b1105959b56e     17005   \n\n                               review_id  rating  \\\n0       dfdbb7b0eb5a7e4c26d59a937e2e5feb       5   \n1       a5d2c3628987712d0e05c4f90798eb67       3   \n2       2ede853b14dc4583f96cf5d120af636f       3   \n4       332732725863131279a8e345b63ac33e       4   \n5       ea4a220b10e6b5c796dae0e3b970aff1       4   \n...                                  ...     ...   \n899995  7c34c15ad8cb28a4afca32946e2016ea       3   \n899996  e979c735276431915d089cfaf446d64f       3   \n899997  feb9fe6439f9fbba8a1cce36020ad977       4   \n899998  741e29369f70531bfffbd02add86f228       4   \n899999  d55f3a967230940e75a314700caec9a5       3   \n\n                                              review_text  \\\n0       this special book . it started slow first thir...   \n1       recommended . free : http : //www.audible.com/...   \n2       a fun , fast paced science fiction thriller . ...   \n4       i really enjoyed book , lot recommend . it dra...   \n5       a beautiful story . it rare encounter book goo...   \n...                                                   ...   \n899995  3.5 star . popular author agent want character...   \n899996  this quick read . i read lot book recently one...   \n899997  * spoiler alert * 3.5 star . this book sweet i...   \n899998  * spoiler alert another fun read ! 's new assi...   \n899999  * spoiler alert * 3.5 star i liked ! the story...   \n\n                            date_added                    date_updated  \\\n0       Sun Jul 30 07:44:10 -0700 2017  Wed Aug 30 00:00:26 -0700 2017   \n1       Mon Dec 05 10:46:44 -0800 2016  Wed Mar 22 11:37:04 -0700 2017   \n2       Tue Nov 15 11:29:22 -0800 2016  Mon Mar 20 23:40:27 -0700 2017   \n4       Mon Apr 25 09:31:23 -0700 2016  Mon Apr 25 09:31:23 -0700 2016   \n5       Sun Jan 03 21:20:46 -0800 2016  Tue Sep 20 23:30:15 -0700 2016   \n...                                ...                             ...   \n899995  Fri Nov 16 22:10:17 -0800 2012  Sat Nov 17 22:42:44 -0800 2012   \n899996  Fri Nov 16 22:09:49 -0800 2012  Sat Nov 17 23:38:58 -0800 2012   \n899997  Tue Nov 13 05:38:24 -0800 2012  Tue Nov 13 23:29:17 -0800 2012   \n899998  Mon Nov 12 05:42:30 -0800 2012  Tue Nov 13 22:32:05 -0800 2012   \n899999  Sun Nov 11 00:05:43 -0800 2012  Sun Nov 11 21:59:08 -0800 2012   \n\n                               read_at                      started_at  \\\n0       Sat Aug 26 12:05:52 -0700 2017  Tue Aug 15 13:23:18 -0700 2017   \n1                                  NaN                             NaN   \n2       Sat Mar 18 23:22:42 -0700 2017  Fri Mar 17 23:45:40 -0700 2017   \n4       Sun Jun 26 00:00:00 -0700 2016  Sat May 28 00:00:00 -0700 2016   \n5       Tue Sep 13 11:51:51 -0700 2016  Sat Aug 20 07:03:03 -0700 2016   \n...                                ...                             ...   \n899995  Sat Nov 17 00:00:00 -0800 2012  Fri Nov 16 00:00:00 -0800 2012   \n899996  Sat Nov 17 00:00:00 -0800 2012  Fri Nov 16 00:00:00 -0800 2012   \n899997  Tue Nov 13 00:00:00 -0800 2012  Tue Nov 13 00:00:00 -0800 2012   \n899998  Tue Nov 13 00:00:00 -0800 2012  Mon Nov 12 00:00:00 -0800 2012   \n899999  Sun Nov 11 00:00:00 -0800 2012  Sun Nov 11 00:00:00 -0800 2012   \n\n        n_votes  n_comments  \n0            28           1  \n1             1           0  \n2            22           0  \n4             9           1  \n5            35           5  \n...         ...         ...  \n899995        0           0  \n899996        1           1  \n899997        1           0  \n899998        0           0  \n899999        0           0  \n\n[767667 rows x 11 columns]",
      "text/html": "<div>\n<style scoped>\n    .dataframe tbody tr th:only-of-type {\n        vertical-align: middle;\n    }\n\n    .dataframe tbody tr th {\n        vertical-align: top;\n    }\n\n    .dataframe thead th {\n        text-align: right;\n    }\n</style>\n<table border=\"1\" class=\"dataframe\">\n  <thead>\n    <tr style=\"text-align: right;\">\n      <th></th>\n      <th>user_id</th>\n      <th>book_id</th>\n      <th>review_id</th>\n      <th>rating</th>\n      <th>review_text</th>\n      <th>date_added</th>\n      <th>date_updated</th>\n      <th>read_at</th>\n      <th>started_at</th>\n      <th>n_votes</th>\n      <th>n_comments</th>\n    </tr>\n  </thead>\n  <tbody>\n    <tr>\n      <th>0</th>\n      <td>8842281e1d1347389f2ab93d60773d4d</td>\n      <td>18245960</td>\n      <td>dfdbb7b0eb5a7e4c26d59a937e2e5feb</td>\n      <td>5</td>\n      <td>this special book . it started slow first thir...</td>\n      <td>Sun Jul 30 07:44:10 -0700 2017</td>\n      <td>Wed Aug 30 00:00:26 -0700 2017</td>\n      <td>Sat Aug 26 12:05:52 -0700 2017</td>\n      <td>Tue Aug 15 13:23:18 -0700 2017</td>\n      <td>28</td>\n      <td>1</td>\n    </tr>\n    <tr>\n      <th>1</th>\n      <td>8842281e1d1347389f2ab93d60773d4d</td>\n      <td>16981</td>\n      <td>a5d2c3628987712d0e05c4f90798eb67</td>\n      <td>3</td>\n      <td>recommended . free : http : //www.audible.com/...</td>\n      <td>Mon Dec 05 10:46:44 -0800 2016</td>\n      <td>Wed Mar 22 11:37:04 -0700 2017</td>\n      <td>NaN</td>\n      <td>NaN</td>\n      <td>1</td>\n      <td>0</td>\n    </tr>\n    <tr>\n      <th>2</th>\n      <td>8842281e1d1347389f2ab93d60773d4d</td>\n      <td>28684704</td>\n      <td>2ede853b14dc4583f96cf5d120af636f</td>\n      <td>3</td>\n      <td>a fun , fast paced science fiction thriller . ...</td>\n      <td>Tue Nov 15 11:29:22 -0800 2016</td>\n      <td>Mon Mar 20 23:40:27 -0700 2017</td>\n      <td>Sat Mar 18 23:22:42 -0700 2017</td>\n      <td>Fri Mar 17 23:45:40 -0700 2017</td>\n      <td>22</td>\n      <td>0</td>\n    </tr>\n    <tr>\n      <th>4</th>\n      <td>8842281e1d1347389f2ab93d60773d4d</td>\n      <td>25884323</td>\n      <td>332732725863131279a8e345b63ac33e</td>\n      <td>4</td>\n      <td>i really enjoyed book , lot recommend . it dra...</td>\n      <td>Mon Apr 25 09:31:23 -0700 2016</td>\n      <td>Mon Apr 25 09:31:23 -0700 2016</td>\n      <td>Sun Jun 26 00:00:00 -0700 2016</td>\n      <td>Sat May 28 00:00:00 -0700 2016</td>\n      <td>9</td>\n      <td>1</td>\n    </tr>\n    <tr>\n      <th>5</th>\n      <td>8842281e1d1347389f2ab93d60773d4d</td>\n      <td>19398490</td>\n      <td>ea4a220b10e6b5c796dae0e3b970aff1</td>\n      <td>4</td>\n      <td>a beautiful story . it rare encounter book goo...</td>\n      <td>Sun Jan 03 21:20:46 -0800 2016</td>\n      <td>Tue Sep 20 23:30:15 -0700 2016</td>\n      <td>Tue Sep 13 11:51:51 -0700 2016</td>\n      <td>Sat Aug 20 07:03:03 -0700 2016</td>\n      <td>35</td>\n      <td>5</td>\n    </tr>\n    <tr>\n      <th>...</th>\n      <td>...</td>\n      <td>...</td>\n      <td>...</td>\n      <td>...</td>\n      <td>...</td>\n      <td>...</td>\n      <td>...</td>\n      <td>...</td>\n      <td>...</td>\n      <td>...</td>\n      <td>...</td>\n    </tr>\n    <tr>\n      <th>899995</th>\n      <td>b9450d1c1f97f891c392b1105959b56e</td>\n      <td>11832081</td>\n      <td>7c34c15ad8cb28a4afca32946e2016ea</td>\n      <td>3</td>\n      <td>3.5 star . popular author agent want character...</td>\n      <td>Fri Nov 16 22:10:17 -0800 2012</td>\n      <td>Sat Nov 17 22:42:44 -0800 2012</td>\n      <td>Sat Nov 17 00:00:00 -0800 2012</td>\n      <td>Fri Nov 16 00:00:00 -0800 2012</td>\n      <td>0</td>\n      <td>0</td>\n    </tr>\n    <tr>\n      <th>899996</th>\n      <td>b9450d1c1f97f891c392b1105959b56e</td>\n      <td>16095092</td>\n      <td>e979c735276431915d089cfaf446d64f</td>\n      <td>3</td>\n      <td>this quick read . i read lot book recently one...</td>\n      <td>Fri Nov 16 22:09:49 -0800 2012</td>\n      <td>Sat Nov 17 23:38:58 -0800 2012</td>\n      <td>Sat Nov 17 00:00:00 -0800 2012</td>\n      <td>Fri Nov 16 00:00:00 -0800 2012</td>\n      <td>1</td>\n      <td>1</td>\n    </tr>\n    <tr>\n      <th>899997</th>\n      <td>b9450d1c1f97f891c392b1105959b56e</td>\n      <td>8430896</td>\n      <td>feb9fe6439f9fbba8a1cce36020ad977</td>\n      <td>4</td>\n      <td>* spoiler alert * 3.5 star . this book sweet i...</td>\n      <td>Tue Nov 13 05:38:24 -0800 2012</td>\n      <td>Tue Nov 13 23:29:17 -0800 2012</td>\n      <td>Tue Nov 13 00:00:00 -0800 2012</td>\n      <td>Tue Nov 13 00:00:00 -0800 2012</td>\n      <td>1</td>\n      <td>0</td>\n    </tr>\n    <tr>\n      <th>899998</th>\n      <td>b9450d1c1f97f891c392b1105959b56e</td>\n      <td>12275680</td>\n      <td>741e29369f70531bfffbd02add86f228</td>\n      <td>4</td>\n      <td>* spoiler alert another fun read ! 's new assi...</td>\n      <td>Mon Nov 12 05:42:30 -0800 2012</td>\n      <td>Tue Nov 13 22:32:05 -0800 2012</td>\n      <td>Tue Nov 13 00:00:00 -0800 2012</td>\n      <td>Mon Nov 12 00:00:00 -0800 2012</td>\n      <td>0</td>\n      <td>0</td>\n    </tr>\n    <tr>\n      <th>899999</th>\n      <td>b9450d1c1f97f891c392b1105959b56e</td>\n      <td>17005</td>\n      <td>d55f3a967230940e75a314700caec9a5</td>\n      <td>3</td>\n      <td>* spoiler alert * 3.5 star i liked ! the story...</td>\n      <td>Sun Nov 11 00:05:43 -0800 2012</td>\n      <td>Sun Nov 11 21:59:08 -0800 2012</td>\n      <td>Sun Nov 11 00:00:00 -0800 2012</td>\n      <td>Sun Nov 11 00:00:00 -0800 2012</td>\n      <td>0</td>\n      <td>0</td>\n    </tr>\n  </tbody>\n</table>\n<p>767667 rows × 11 columns</p>\n</div>"
     },
     "execution_count": 5,
     "metadata": {},
     "output_type": "execute_result"
    }
   ],
   "source": [
    "print(\"0  \",train[train['rating'] == 0][\"rating\"].count())\n",
    "print(\"1  \", train[train['rating'] == 1][\"rating\"].count())\n",
    "print(\"2  \", train[train['rating'] == 2][\"rating\"].count())\n",
    "print(\"3  \", train[train['rating'] == 3][\"rating\"].count())\n",
    "print(\"4  \", train[train['rating'] == 4][\"rating\"].count())\n",
    "print(\"5  \", train[train['rating'] == 5][\"rating\"].count())\n",
    "train_3_5 = train[train['rating'] >= 3]\n",
    "train_3_5"
   ],
   "metadata": {
    "collapsed": false
   }
  },
  {
   "cell_type": "code",
   "execution_count": 23,
   "outputs": [
    {
     "data": {
      "text/plain": "pandas.core.series.Series"
     },
     "execution_count": 23,
     "metadata": {},
     "output_type": "execute_result"
    }
   ],
   "source": [
    "nb_comments =  train_3_5[\"n_comments\"]\n",
    "nb_votes = train_3_5[\"n_votes\"]\n",
    "truc = train_3_5['rating']\n",
    "type(train['rating'])\n",
    "type(truc)"
   ],
   "metadata": {
    "collapsed": false
   }
  },
  {
   "cell_type": "code",
   "execution_count": 20,
   "outputs": [],
   "source": [
    "rating = keras.utils.to_categorical(train['rating'], num_classes=6)"
   ],
   "metadata": {
    "collapsed": false
   }
  },
  {
   "cell_type": "code",
   "execution_count": null,
   "outputs": [],
   "source": [
    "rating"
   ],
   "metadata": {
    "collapsed": false
   }
  },
  {
   "cell_type": "code",
   "execution_count": 6,
   "outputs": [],
   "source": [],
   "metadata": {
    "collapsed": false
   }
  },
  {
   "cell_type": "code",
   "execution_count": 26,
   "outputs": [],
   "source": [
    "inputs = keras.Input(shape=(1,), dtype=tf.string)\n",
    "inputs2 = keras.Input(shape=(1), dtype=tf.int64)\n",
    "inputs3 = keras.Input(shape=(1), dtype=tf.int64)\n",
    "\n",
    "vectorize_layer = keras.layers.TextVectorization(\n",
    "    standardize='lower_and_strip_punctuation',\n",
    "    split='whitespace',\n",
    "    output_mode='int',\n",
    "    output_sequence_length=1400,\n",
    "    vocabulary=np.load('../vocabulaires/voc_lemm_without_NP.npy')\n",
    ")(inputs)\n",
    "conc = keras.layers.concatenate([vectorize_layer, inputs2,inputs3])\n",
    "\n",
    "layer1 = keras.layers.Dense(100, activation=tf.keras.activations.tanh)(conc)\n",
    "layer2 = keras.layers.Dense(100, activation=tf.keras.activations.tanh)(layer1)\n",
    "layer3 = keras.layers.Dense(100, activation=tf.keras.activations.tanh)(layer2)\n",
    "outputs = keras.layers.Dense(6, activation=tf.keras.activations.tanh)(layer3)"
   ],
   "metadata": {
    "collapsed": false
   }
  },
  {
   "cell_type": "code",
   "execution_count": 27,
   "outputs": [],
   "source": [
    "model = keras.Model(inputs=[inputs, inputs2, inputs3], outputs=outputs, name=\"mnist_model\")\n",
    "tensorboard = TensorBoard(log_dir=\"../logs/relu\".format(time()))"
   ],
   "metadata": {
    "collapsed": false
   }
  },
  {
   "cell_type": "code",
   "execution_count": 28,
   "outputs": [],
   "source": [
    "#learning_rates = [0.01, 0.001, 0.000001, 0.0000001]"
   ],
   "metadata": {
    "collapsed": false
   }
  },
  {
   "cell_type": "code",
   "execution_count": 30,
   "outputs": [
    {
     "name": "stdout",
     "output_type": "stream",
     "text": [
      "Epoch 1/4\n",
      "90/90 [==============================] - 25s 278ms/step - loss: 1.4690 - categorical_accuracy: 0.2396\n",
      "Epoch 2/4\n",
      "90/90 [==============================] - 26s 284ms/step - loss: 1.3613 - categorical_accuracy: 0.2186\n",
      "Epoch 3/4\n",
      "90/90 [==============================] - 26s 292ms/step - loss: 1.3345 - categorical_accuracy: 0.1932\n",
      "Epoch 4/4\n",
      "90/90 [==============================] - 27s 295ms/step - loss: 1.3169 - categorical_accuracy: 0.2196\n"
     ]
    },
    {
     "data": {
      "text/plain": "<keras.callbacks.History at 0x17f4083fc70>"
     },
     "execution_count": 30,
     "metadata": {},
     "output_type": "execute_result"
    }
   ],
   "source": [
    "#for learning_rate in learning_rates:\n",
    "model.compile(optimizer=tf.keras.optimizers.Adam(),\n",
    "              loss=tf.keras.losses.binary_crossentropy,\n",
    "              metrics=[tf.keras.metrics.categorical_accuracy]\n",
    "              )\n",
    "model.fit([train_prepro, nb_comments, nb_votes], keras.utils.to_categorical(train['rating'], num_classes=6), epochs=4,\n",
    "                  callbacks=[\n",
    "                      tf.keras.callbacks.TensorBoard(log_dir=\"../logs/relu\"),\n",
    "                  ],\n",
    "                  batch_size=10000\n",
    "                  )"
   ],
   "metadata": {
    "collapsed": false
   }
  },
  {
   "cell_type": "code",
   "execution_count": 11,
   "outputs": [],
   "source": [
    "#model.save(\"../models_trained/linear_model_2\")"
   ],
   "metadata": {
    "collapsed": false
   }
  },
  {
   "cell_type": "code",
   "execution_count": 15,
   "outputs": [
    {
     "name": "stdout",
     "output_type": "stream",
     "text": [
      "28125/28125 [==============================] - 115s 4ms/step\n"
     ]
    },
    {
     "data": {
      "text/plain": "array([[-0.18595007, -0.8972698 , -0.3929689 ,  0.79503214,  0.74524134,\n         0.60949266],\n       [ 0.26015648, -0.41109988,  0.10981959,  0.23053342,  0.3345841 ,\n         0.3506639 ],\n       [ 0.3790108 , -0.87722063, -0.04805964,  0.16727996,  0.55584353,\n         0.35468698],\n       ...,\n       [-0.6583284 , -0.8462807 ,  0.3042675 , -0.20152466,  0.22014128,\n         0.43758956],\n       [-0.34691152, -0.83316463,  0.60525113,  0.5558279 ,  0.5043566 ,\n         0.5192424 ],\n       [-0.49532208, -0.8980831 ,  0.39868203,  0.3463079 ,  0.61871976,\n         0.48810557]], dtype=float32)"
     },
     "execution_count": 15,
     "metadata": {},
     "output_type": "execute_result"
    }
   ],
   "source": [
    "model.predict([train_prepro,nb_comments, nb_votes])"
   ],
   "metadata": {
    "collapsed": false
   }
  },
  {
   "cell_type": "code",
   "execution_count": null,
   "outputs": [],
   "source": [],
   "metadata": {
    "collapsed": false
   }
  }
 ],
 "metadata": {
  "kernelspec": {
   "display_name": "Python 3",
   "language": "python",
   "name": "python3"
  },
  "language_info": {
   "codemirror_mode": {
    "name": "ipython",
    "version": 2
   },
   "file_extension": ".py",
   "mimetype": "text/x-python",
   "name": "python",
   "nbconvert_exporter": "python",
   "pygments_lexer": "ipython2",
   "version": "2.7.6"
  }
 },
 "nbformat": 4,
 "nbformat_minor": 0
}
