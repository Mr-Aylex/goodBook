{
 "cells": [
  {
   "cell_type": "code",
   "execution_count": 24,
   "metadata": {
    "collapsed": true
   },
   "outputs": [],
   "source": [
    "import pandas as pd\n",
    "import matplotlib.pyplot as plt\n",
    "import numpy as np\n",
    "from collections import Counter\n",
    "from tensorflow import keras\n",
    "import seaborn as sns\n",
    "from sklearn.utils import compute_class_weight"
   ]
  },
  {
   "cell_type": "code",
   "execution_count": 25,
   "outputs": [],
   "source": [
    "train = pd.read_csv(\"../dataset/goodreads_train.csv\")\n"
   ],
   "metadata": {
    "collapsed": false
   }
  },
  {
   "cell_type": "code",
   "execution_count": 26,
   "outputs": [],
   "source": [
    "X = train[\"review_text\"]\n",
    "y = keras.utils.to_categorical(train['rating'], num_classes=6).astype(int)"
   ],
   "metadata": {
    "collapsed": false
   }
  },
  {
   "cell_type": "code",
   "execution_count": 27,
   "outputs": [],
   "source": [
    "classWeight = compute_class_weight(class_weight='balanced',\n",
    "                                   classes =np.unique(train['rating']),\n",
    "                                   y=train['rating'])\n",
    "classWeight = dict(enumerate(classWeight))"
   ],
   "metadata": {
    "collapsed": false
   }
  },
  {
   "cell_type": "code",
   "execution_count": 28,
   "outputs": [
    {
     "data": {
      "text/plain": "{0: 4.8405834516587065,\n 1: 5.223204958562574,\n 2: 2.0653475980007436,\n 3: 0.7937683889676778,\n 4: 0.4781821427660605,\n 5: 0.5660227843038108}"
     },
     "execution_count": 28,
     "metadata": {},
     "output_type": "execute_result"
    }
   ],
   "source": [
    "classWeight"
   ],
   "metadata": {
    "collapsed": false
   }
  },
  {
   "cell_type": "code",
   "execution_count": 29,
   "outputs": [],
   "source": [
    "vectorize_layer = keras.layers.TextVectorization(\n",
    "    max_tokens= 494871,\n",
    "    standardize='lower_and_strip_punctuation',\n",
    "    split='whitespace',\n",
    "    output_mode='int',\n",
    "    output_sequence_length=1400,\n",
    "    vocabulary=np.load('../voc2.npy')\n",
    ")"
   ],
   "metadata": {
    "collapsed": false
   }
  },
  {
   "cell_type": "code",
   "execution_count": 30,
   "outputs": [],
   "source": [
    "model = keras.Sequential([\n",
    "    vectorize_layer,\n",
    "    keras.layers.Dense(32, activation = 'relu'),\n",
    "    keras.layers.Dense(16, activation = 'relu'),\n",
    "    keras.layers.Dropout(0.3),\n",
    "    keras.layers.Dense(8, activation = 'relu'),\n",
    "    keras.layers.Dense(6, activation = 'softmax')\n",
    "])"
   ],
   "metadata": {
    "collapsed": false
   }
  },
  {
   "cell_type": "code",
   "execution_count": 31,
   "outputs": [],
   "source": [
    "model.compile(loss = 'categorical_crossentropy', optimizer='adam', metrics=['accuracy'])"
   ],
   "metadata": {
    "collapsed": false
   }
  },
  {
   "cell_type": "code",
   "execution_count": null,
   "outputs": [
    {
     "name": "stdout",
     "output_type": "stream",
     "text": [
      "Epoch 1/100\n",
      "144/144 [==============================] - 44s 309ms/step - loss: 27.5557 - accuracy: 0.0842 - val_loss: 2.8728 - val_accuracy: 0.0781\n",
      "Epoch 2/100\n",
      "144/144 [==============================] - 43s 302ms/step - loss: 2.1885 - accuracy: 0.0817 - val_loss: 2.1890 - val_accuracy: 0.0775\n",
      "Epoch 3/100\n",
      "144/144 [==============================] - 43s 302ms/step - loss: 1.9156 - accuracy: 0.0816 - val_loss: 2.0531 - val_accuracy: 0.0771\n",
      "Epoch 4/100\n",
      "108/144 [=====================>........] - ETA: 8s - loss: 1.8559 - accuracy: 0.0816"
     ]
    },
    {
     "name": "stderr",
     "output_type": "stream",
     "text": [
      "Exception ignored in: <function WeakKeyDictionary.__init__.<locals>.remove at 0x0000015358CED3F0>\n",
      "Traceback (most recent call last):\n",
      "  File \"C:\\Users\\alhus\\anaconda3\\envs\\Book_Review_Project\\lib\\weakref.py\", line 371, in remove\n",
      "    self = selfref()\n",
      "KeyboardInterrupt: \n"
     ]
    }
   ],
   "source": [
    "history = model.fit(X, y, epochs = 100, batch_size = 5000 , validation_split = 0.2, class_weight= classWeight)\n",
    "plt.plot(history.history['accuracy'])\n",
    "plt.plot(history.history['val_accuracy'])\n",
    "plt.show()\n",
    "plt.plot(history.history['loss'])\n",
    "plt.plot(history.history['val_loss'])\n",
    "plt.show()"
   ],
   "metadata": {
    "collapsed": false,
    "pycharm": {
     "is_executing": true
    }
   }
  },
  {
   "cell_type": "code",
   "execution_count": null,
   "outputs": [],
   "source": [],
   "metadata": {
    "collapsed": false,
    "pycharm": {
     "is_executing": true
    }
   }
  },
  {
   "cell_type": "code",
   "execution_count": null,
   "outputs": [],
   "source": [],
   "metadata": {
    "collapsed": false
   }
  }
 ],
 "metadata": {
  "kernelspec": {
   "display_name": "Python 3",
   "language": "python",
   "name": "python3"
  },
  "language_info": {
   "codemirror_mode": {
    "name": "ipython",
    "version": 2
   },
   "file_extension": ".py",
   "mimetype": "text/x-python",
   "name": "python",
   "nbconvert_exporter": "python",
   "pygments_lexer": "ipython2",
   "version": "2.7.6"
  }
 },
 "nbformat": 4,
 "nbformat_minor": 0
}
