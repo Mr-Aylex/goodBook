{
 "cells": [
  {
   "cell_type": "code",
   "execution_count": 31,
   "metadata": {
    "collapsed": true
   },
   "outputs": [],
   "source": [
    "import tensorflow as tf\n",
    "import nltk\n",
    "from nltk.corpus import stopwords\n",
    "from nltk.stem.porter import PorterStemmer\n",
    "import pandas as pd\n",
    "from nltk.corpus import treebank"
   ]
  },
  {
   "cell_type": "code",
   "execution_count": 32,
   "outputs": [],
   "source": [
    "train_data = pd.read_csv(\"../dataset/goodreads_train.csv\", sep=\",\")"
   ],
   "metadata": {
    "collapsed": false
   }
  },
  {
   "cell_type": "code",
   "execution_count": 35,
   "outputs": [
    {
     "data": {
      "text/plain": "'This is a special book. It started slow for about the first third, then in the middle third it started to get interesting, then the last third blew my mind. This is what I love about good science fiction - it pushes your thinking about where things can go. \\n It is a 2015 Hugo winner, and translated from its original Chinese, which made it interesting in just a different way from most things I\\'ve read. For instance the intermixing of Chinese revolutionary history - how they kept accusing people of being \"reactionaries\", etc. \\n It is a book about science, and aliens. The science described in the book is impressive - its a book grounded in physics and pretty accurate as far as I could tell. (view spoiler)[Though when it got to folding protons into 8 dimensions I think he was just making stuff up - interesting to think about though. \\n But what would happen if our SETI stations received a message - if we found someone was out there - and the person monitoring and answering the signal on our side was disillusioned? That part of the book was a bit dark - I would like to think human reaction to discovering alien civilization that is hostile would be more like Enders Game where we would band together. \\n I did like how the book unveiled the Trisolaran culture through the game. It was a smart way to build empathy with them and also understand what they\\'ve gone through across so many centuries. And who know a 3 body problem was an unsolvable math problem? But I still don\\'t get who made the game - maybe that will come in the next book. \\n I loved this quote: \\n \"In the long history of scientific progress, how many protons have been smashed apart in accelerators by physicists? How many neutrons and electrons? Probably no fewer than a hundred million. Every collision was probably the end of the civilizations and intelligences in a microcosmos. In fact, even in nature, the destruction of universes must be happening at every second--for example, through the decay of neutrons. Also, a high-energy cosmic ray entering the atmosphere may destroy thousands of such miniature universes....\" \\n (hide spoiler)]'"
     },
     "execution_count": 35,
     "metadata": {},
     "output_type": "execute_result"
    }
   ],
   "source": [
    "sentence = train_data[\"review_text\"][0]\n",
    "sentence"
   ],
   "metadata": {
    "collapsed": false
   }
  },
  {
   "cell_type": "code",
   "execution_count": 36,
   "outputs": [],
   "source": [
    "words = sentence.lower()"
   ],
   "metadata": {
    "collapsed": false
   }
  },
  {
   "cell_type": "code",
   "execution_count": 37,
   "outputs": [],
   "source": [
    "#stopwords.words(\"english\")"
   ],
   "metadata": {
    "collapsed": false
   }
  },
  {
   "cell_type": "code",
   "execution_count": 48,
   "outputs": [
    {
     "data": {
      "text/plain": "['special',\n 'book',\n '.',\n 'started',\n 'slow',\n 'first',\n 'third',\n ',',\n 'middle',\n 'third',\n 'started',\n 'get',\n 'interesting',\n ',',\n 'last',\n 'third',\n 'blew',\n 'mind',\n '.',\n 'love',\n 'good',\n 'science',\n 'fiction',\n '-',\n 'pushes',\n 'thinking',\n 'things',\n 'go',\n '.',\n '2015',\n 'hugo',\n 'winner',\n ',',\n 'translated',\n 'original',\n 'chinese',\n ',',\n 'made',\n 'interesting',\n 'different',\n 'way',\n 'things',\n \"'ve\",\n 'read',\n '.',\n 'instance',\n 'intermixing',\n 'chinese',\n 'revolutionary',\n 'history',\n '-',\n 'kept',\n 'accusing',\n 'people',\n '``',\n 'reactionaries',\n \"''\",\n ',',\n 'etc',\n '.',\n 'book',\n 'science',\n ',',\n 'aliens',\n '.',\n 'science',\n 'described',\n 'book',\n 'impressive',\n '-',\n 'book',\n 'grounded',\n 'physics',\n 'pretty',\n 'accurate',\n 'far',\n 'could',\n 'tell',\n '.',\n '(',\n 'view',\n 'spoiler',\n ')',\n '[',\n 'though',\n 'got',\n 'folding',\n 'protons',\n '8',\n 'dimensions',\n 'think',\n 'making',\n 'stuff',\n '-',\n 'interesting',\n 'think',\n 'though',\n '.',\n 'would',\n 'happen',\n 'seti',\n 'stations',\n 'received',\n 'message',\n '-',\n 'found',\n 'someone',\n '-',\n 'person',\n 'monitoring',\n 'answering',\n 'signal',\n 'side',\n 'disillusioned',\n '?',\n 'part',\n 'book',\n 'bit',\n 'dark',\n '-',\n 'would',\n 'like',\n 'think',\n 'human',\n 'reaction',\n 'discovering',\n 'alien',\n 'civilization',\n 'hostile',\n 'would',\n 'like',\n 'enders',\n 'game',\n 'would',\n 'band',\n 'together',\n '.',\n 'like',\n 'book',\n 'unveiled',\n 'trisolaran',\n 'culture',\n 'game',\n '.',\n 'smart',\n 'way',\n 'build',\n 'empathy',\n 'also',\n 'understand',\n \"'ve\",\n 'gone',\n 'across',\n 'many',\n 'centuries',\n '.',\n 'know',\n '3',\n 'body',\n 'problem',\n 'unsolvable',\n 'math',\n 'problem',\n '?',\n 'still',\n \"n't\",\n 'get',\n 'made',\n 'game',\n '-',\n 'maybe',\n 'come',\n 'next',\n 'book',\n '.',\n 'loved',\n 'quote',\n ':',\n '``',\n 'long',\n 'history',\n 'scientific',\n 'progress',\n ',',\n 'many',\n 'protons',\n 'smashed',\n 'apart',\n 'accelerators',\n 'physicists',\n '?',\n 'many',\n 'neutrons',\n 'electrons',\n '?',\n 'probably',\n 'fewer',\n 'hundred',\n 'million',\n '.',\n 'every',\n 'collision',\n 'probably',\n 'end',\n 'civilizations',\n 'intelligences',\n 'microcosmos',\n '.',\n 'fact',\n ',',\n 'even',\n 'nature',\n ',',\n 'destruction',\n 'universes',\n 'must',\n 'happening',\n 'every',\n 'second',\n '--',\n 'example',\n ',',\n 'decay',\n 'neutrons',\n '.',\n 'also',\n ',',\n 'high-energy',\n 'cosmic',\n 'ray',\n 'entering',\n 'atmosphere',\n 'may',\n 'destroy',\n 'thousands',\n 'miniature',\n 'universes',\n '....',\n \"''\",\n '(',\n 'hide',\n 'spoiler',\n ')',\n ']']"
     },
     "execution_count": 48,
     "metadata": {},
     "output_type": "execute_result"
    }
   ],
   "source": [
    "tokens = nltk.word_tokenize(words)\n",
    "words_stop_less = [w for w in tokens if w not in stopwords.words(\"english\")]\n",
    "words_stop_less"
   ],
   "metadata": {
    "collapsed": false
   }
  },
  {
   "cell_type": "code",
   "execution_count": 41,
   "outputs": [
    {
     "data": {
      "text/plain": "['special',\n 'book',\n '.',\n 'start',\n 'slow',\n 'first',\n 'third',\n ',',\n 'middl',\n 'third',\n 'start',\n 'get',\n 'interest',\n ',',\n 'last',\n 'third',\n 'blew',\n 'mind',\n '.',\n 'love',\n 'good',\n 'scienc',\n 'fiction',\n '-',\n 'push',\n 'think',\n 'thing',\n 'go',\n '.',\n '2015',\n 'hugo',\n 'winner',\n ',',\n 'translat',\n 'origin',\n 'chines',\n ',',\n 'made',\n 'interest',\n 'differ',\n 'way',\n 'thing',\n \"'ve\",\n 'read',\n '.',\n 'instanc',\n 'intermix',\n 'chines',\n 'revolutionari',\n 'histori',\n '-',\n 'kept',\n 'accus',\n 'peopl',\n '``',\n 'reactionari',\n \"''\",\n ',',\n 'etc',\n '.',\n 'book',\n 'scienc',\n ',',\n 'alien',\n '.',\n 'scienc',\n 'describ',\n 'book',\n 'impress',\n '-',\n 'book',\n 'ground',\n 'physic',\n 'pretti',\n 'accur',\n 'far',\n 'could',\n 'tell',\n '.',\n '(',\n 'view',\n 'spoiler',\n ')',\n '[',\n 'though',\n 'got',\n 'fold',\n 'proton',\n '8',\n 'dimens',\n 'think',\n 'make',\n 'stuff',\n '-',\n 'interest',\n 'think',\n 'though',\n '.',\n 'would',\n 'happen',\n 'seti',\n 'station',\n 'receiv',\n 'messag',\n '-',\n 'found',\n 'someon',\n '-',\n 'person',\n 'monitor',\n 'answer',\n 'signal',\n 'side',\n 'disillus',\n '?',\n 'part',\n 'book',\n 'bit',\n 'dark',\n '-',\n 'would',\n 'like',\n 'think',\n 'human',\n 'reaction',\n 'discov',\n 'alien',\n 'civil',\n 'hostil',\n 'would',\n 'like',\n 'ender',\n 'game',\n 'would',\n 'band',\n 'togeth',\n '.',\n 'like',\n 'book',\n 'unveil',\n 'trisolaran',\n 'cultur',\n 'game',\n '.',\n 'smart',\n 'way',\n 'build',\n 'empathi',\n 'also',\n 'understand',\n \"'ve\",\n 'gone',\n 'across',\n 'mani',\n 'centuri',\n '.',\n 'know',\n '3',\n 'bodi',\n 'problem',\n 'unsolv',\n 'math',\n 'problem',\n '?',\n 'still',\n \"n't\",\n 'get',\n 'made',\n 'game',\n '-',\n 'mayb',\n 'come',\n 'next',\n 'book',\n '.',\n 'love',\n 'quot',\n ':',\n '``',\n 'long',\n 'histori',\n 'scientif',\n 'progress',\n ',',\n 'mani',\n 'proton',\n 'smash',\n 'apart',\n 'acceler',\n 'physicist',\n '?',\n 'mani',\n 'neutron',\n 'electron',\n '?',\n 'probabl',\n 'fewer',\n 'hundr',\n 'million',\n '.',\n 'everi',\n 'collis',\n 'probabl',\n 'end',\n 'civil',\n 'intellig',\n 'microcosmo',\n '.',\n 'fact',\n ',',\n 'even',\n 'natur',\n ',',\n 'destruct',\n 'univers',\n 'must',\n 'happen',\n 'everi',\n 'second',\n '--',\n 'exampl',\n ',',\n 'decay',\n 'neutron',\n '.',\n 'also',\n ',',\n 'high-energi',\n 'cosmic',\n 'ray',\n 'enter',\n 'atmospher',\n 'may',\n 'destroy',\n 'thousand',\n 'miniatur',\n 'univers',\n '....',\n \"''\",\n '(',\n 'hide',\n 'spoiler',\n ')',\n ']']"
     },
     "execution_count": 41,
     "metadata": {},
     "output_type": "execute_result"
    }
   ],
   "source": [
    "stemmed = [PorterStemmer().stem(w) for w in words_stop_less]\n",
    "stemmed"
   ],
   "metadata": {
    "collapsed": false
   }
  },
  {
   "cell_type": "code",
   "execution_count": 42,
   "outputs": [],
   "source": [
    "nltk.app.srparser()\n",
    "tagged = nltk.pos_tag(stemmed)"
   ],
   "metadata": {
    "collapsed": false
   }
  },
  {
   "cell_type": "code",
   "execution_count": 43,
   "outputs": [
    {
     "data": {
      "text/plain": "[('special', 'JJ'),\n ('book', 'NN'),\n ('.', '.'),\n ('start', 'VB'),\n ('slow', 'JJ'),\n ('first', 'JJ'),\n ('third', 'JJ'),\n (',', ','),\n ('middl', 'JJ'),\n ('third', 'JJ'),\n ('start', 'NN'),\n ('get', 'VB'),\n ('interest', 'NN'),\n (',', ','),\n ('last', 'JJ'),\n ('third', 'JJ'),\n ('blew', 'VBD'),\n ('mind', 'NN'),\n ('.', '.'),\n ('love', 'VB'),\n ('good', 'JJ'),\n ('scienc', 'NN'),\n ('fiction', 'NN'),\n ('-', ':'),\n ('push', 'NN'),\n ('think', 'VBP'),\n ('thing', 'NN'),\n ('go', 'VBP'),\n ('.', '.'),\n ('2015', 'CD'),\n ('hugo', 'NN'),\n ('winner', 'NN'),\n (',', ','),\n ('translat', 'JJ'),\n ('origin', 'NN'),\n ('chines', 'NNS'),\n (',', ','),\n ('made', 'VBN'),\n ('interest', 'NN'),\n ('differ', 'NN'),\n ('way', 'NN'),\n ('thing', 'NN'),\n (\"'ve\", 'VBP'),\n ('read', 'VBN'),\n ('.', '.'),\n ('instanc', 'VB'),\n ('intermix', 'JJ'),\n ('chines', 'NNS'),\n ('revolutionari', 'VBP'),\n ('histori', 'SYM'),\n ('-', ':'),\n ('kept', 'NN'),\n ('accus', 'NN'),\n ('peopl', 'IN'),\n ('``', '``'),\n ('reactionari', 'NN'),\n (\"''\", \"''\"),\n (',', ','),\n ('etc', 'FW'),\n ('.', '.'),\n ('book', 'NN'),\n ('scienc', 'NN'),\n (',', ','),\n ('alien', 'NN'),\n ('.', '.'),\n ('scienc', 'VB'),\n ('describ', 'JJ'),\n ('book', 'NN'),\n ('impress', 'NN'),\n ('-', ':'),\n ('book', 'NN'),\n ('ground', 'NN'),\n ('physic', 'JJ'),\n ('pretti', 'NN'),\n ('accur', 'NN'),\n ('far', 'RB'),\n ('could', 'MD'),\n ('tell', 'VB'),\n ('.', '.'),\n ('(', '('),\n ('view', 'IN'),\n ('spoiler', 'NN'),\n (')', ')'),\n ('[', 'VBZ'),\n ('though', 'IN'),\n ('got', 'VBD'),\n ('fold', 'JJ'),\n ('proton', 'NN'),\n ('8', 'CD'),\n ('dimens', 'NNS'),\n ('think', 'VBP'),\n ('make', 'VBP'),\n ('stuff', 'JJ'),\n ('-', ':'),\n ('interest', 'NN'),\n ('think', 'VBP'),\n ('though', 'IN'),\n ('.', '.'),\n ('would', 'MD'),\n ('happen', 'VB'),\n ('seti', 'JJ'),\n ('station', 'NN'),\n ('receiv', 'NN'),\n ('messag', 'SYM'),\n ('-', ':'),\n ('found', 'VBN'),\n ('someon', 'SYM'),\n ('-', ':'),\n ('person', 'NN'),\n ('monitor', 'NN'),\n ('answer', 'VBP'),\n ('signal', 'JJ'),\n ('side', 'NN'),\n ('disillus', 'NN'),\n ('?', '.'),\n ('part', 'NN'),\n ('book', 'NN'),\n ('bit', 'NN'),\n ('dark', 'JJ'),\n ('-', ':'),\n ('would', 'MD'),\n ('like', 'VB'),\n ('think', 'VB'),\n ('human', 'JJ'),\n ('reaction', 'NN'),\n ('discov', 'NN'),\n ('alien', 'VBP'),\n ('civil', 'JJ'),\n ('hostil', 'NN'),\n ('would', 'MD'),\n ('like', 'VB'),\n ('ender', 'NN'),\n ('game', 'NN'),\n ('would', 'MD'),\n ('band', 'VB'),\n ('togeth', 'RB'),\n ('.', '.'),\n ('like', 'IN'),\n ('book', 'NN'),\n ('unveil', 'JJ'),\n ('trisolaran', 'NN'),\n ('cultur', 'NN'),\n ('game', 'NN'),\n ('.', '.'),\n ('smart', 'JJ'),\n ('way', 'NN'),\n ('build', 'NN'),\n ('empathi', 'NN'),\n ('also', 'RB'),\n ('understand', 'VBP'),\n (\"'ve\", 'VBP'),\n ('gone', 'VBN'),\n ('across', 'IN'),\n ('mani', 'NN'),\n ('centuri', 'NN'),\n ('.', '.'),\n ('know', 'VB'),\n ('3', 'CD'),\n ('bodi', 'NN'),\n ('problem', 'NN'),\n ('unsolv', 'JJ'),\n ('math', 'NN'),\n ('problem', 'NN'),\n ('?', '.'),\n ('still', 'RB'),\n (\"n't\", 'RB'),\n ('get', 'VB'),\n ('made', 'VBN'),\n ('game', 'NN'),\n ('-', ':'),\n ('mayb', 'NN'),\n ('come', 'VBP'),\n ('next', 'JJ'),\n ('book', 'NN'),\n ('.', '.'),\n ('love', 'VB'),\n ('quot', 'NN'),\n (':', ':'),\n ('``', '``'),\n ('long', 'RB'),\n ('histori', 'JJ'),\n ('scientif', 'NN'),\n ('progress', 'NN'),\n (',', ','),\n ('mani', 'FW'),\n ('proton', 'NN'),\n ('smash', 'VBP'),\n ('apart', 'RB'),\n ('acceler', 'JJ'),\n ('physicist', 'NN'),\n ('?', '.'),\n ('mani', 'NN'),\n ('neutron', 'NN'),\n ('electron', 'NN'),\n ('?', '.'),\n ('probabl', 'NN'),\n ('fewer', 'JJR'),\n ('hundr', 'NN'),\n ('million', 'CD'),\n ('.', '.'),\n ('everi', 'NN'),\n ('collis', 'NN'),\n ('probabl', 'JJ'),\n ('end', 'NN'),\n ('civil', 'JJ'),\n ('intellig', 'NN'),\n ('microcosmo', 'NN'),\n ('.', '.'),\n ('fact', 'NN'),\n (',', ','),\n ('even', 'RB'),\n ('natur', 'UH'),\n (',', ','),\n ('destruct', 'NN'),\n ('univers', 'NNS'),\n ('must', 'MD'),\n ('happen', 'VB'),\n ('everi', 'JJ'),\n ('second', 'NN'),\n ('--', ':'),\n ('exampl', 'NN'),\n (',', ','),\n ('decay', 'NN'),\n ('neutron', 'NN'),\n ('.', '.'),\n ('also', 'RB'),\n (',', ','),\n ('high-energi', 'JJ'),\n ('cosmic', 'JJ'),\n ('ray', 'NN'),\n ('enter', 'NN'),\n ('atmospher', 'NN'),\n ('may', 'MD'),\n ('destroy', 'VB'),\n ('thousand', 'CD'),\n ('miniatur', 'NN'),\n ('univers', 'NNS'),\n ('....', 'VBP'),\n (\"''\", \"''\"),\n ('(', '('),\n ('hide', 'VB'),\n ('spoiler', 'NN'),\n (')', ')'),\n (']', 'NN')]"
     },
     "execution_count": 43,
     "metadata": {},
     "output_type": "execute_result"
    }
   ],
   "source": [
    "tagged"
   ],
   "metadata": {
    "collapsed": false
   }
  },
  {
   "cell_type": "code",
   "execution_count": 44,
   "outputs": [
    {
     "data": {
      "text/plain": "244"
     },
     "execution_count": 44,
     "metadata": {},
     "output_type": "execute_result"
    }
   ],
   "source": [
    "len(tagged)"
   ],
   "metadata": {
    "collapsed": false
   }
  },
  {
   "cell_type": "code",
   "execution_count": null,
   "outputs": [],
   "source": [],
   "metadata": {
    "collapsed": false,
    "pycharm": {
     "is_executing": true
    }
   }
  },
  {
   "cell_type": "code",
   "execution_count": 43,
   "outputs": [],
   "source": [],
   "metadata": {
    "collapsed": false
   }
  }
 ],
 "metadata": {
  "kernelspec": {
   "display_name": "Python 3",
   "language": "python",
   "name": "python3"
  },
  "language_info": {
   "codemirror_mode": {
    "name": "ipython",
    "version": 2
   },
   "file_extension": ".py",
   "mimetype": "text/x-python",
   "name": "python",
   "nbconvert_exporter": "python",
   "pygments_lexer": "ipython2",
   "version": "2.7.6"
  }
 },
 "nbformat": 4,
 "nbformat_minor": 0
}
