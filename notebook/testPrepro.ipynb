{
 "cells": [
  {
   "cell_type": "code",
   "execution_count": 1,
   "metadata": {
    "collapsed": true
   },
   "outputs": [],
   "source": [
    "import tensorflow as tf\n",
    "import nltk\n",
    "from nltk.corpus import stopwords\n",
    "from nltk.stem.porter import PorterStemmer\n",
    "import pandas as pd\n",
    "from nltk.corpus import treebank"
   ]
  },
  {
   "cell_type": "code",
   "execution_count": 4,
   "outputs": [],
   "source": [
    "all_stop_word = stopwords.words(\"english\")"
   ],
   "metadata": {
    "collapsed": false
   }
  },
  {
   "cell_type": "code",
   "execution_count": null,
   "outputs": [],
   "source": [],
   "metadata": {
    "collapsed": false
   }
  },
  {
   "cell_type": "code",
   "execution_count": 10,
   "outputs": [],
   "source": [
    "dic = {}\n",
    "for stop_word in all_stop_word:\n",
    "    dic[stop_word] = stop_word"
   ],
   "metadata": {
    "collapsed": false
   }
  },
  {
   "cell_type": "code",
   "execution_count": 15,
   "outputs": [
    {
     "name": "stdout",
     "output_type": "stream",
     "text": [
      "None\n"
     ]
    }
   ],
   "source": [
    "print(dic.get(\"sgesefg\"))"
   ],
   "metadata": {
    "collapsed": false
   }
  },
  {
   "cell_type": "code",
   "execution_count": 16,
   "outputs": [
    {
     "ename": "NameError",
     "evalue": "name 'w' is not defined",
     "output_type": "error",
     "traceback": [
      "\u001B[1;31m---------------------------------------------------------------------------\u001B[0m",
      "\u001B[1;31mNameError\u001B[0m                                 Traceback (most recent call last)",
      "Cell \u001B[1;32mIn [16], line 1\u001B[0m\n\u001B[1;32m----> 1\u001B[0m PorterStemmer()\u001B[38;5;241m.\u001B[39mstem(\u001B[43mw\u001B[49m)\n",
      "\u001B[1;31mNameError\u001B[0m: name 'w' is not defined"
     ]
    }
   ],
   "source": [],
   "metadata": {
    "collapsed": false
   }
  },
  {
   "cell_type": "code",
   "execution_count": 20,
   "outputs": [],
   "source": [
    "def prepro(text):\n",
    "    words = text.lower()\n",
    "    tokens = nltk.word_tokenize(words)\n",
    "    words_stop_less = [w for w in tokens if dic.get(w) == None]\n",
    "    stemmed = [PorterStemmer().stem(w) for w in words_stop_less]\n",
    "    return \" \".join(stemmed)"
   ],
   "metadata": {
    "collapsed": false
   }
  },
  {
   "cell_type": "code",
   "execution_count": 23,
   "outputs": [],
   "source": [
    "def prepro_not(text):\n",
    "    words = text.lower()\n",
    "    tokens = nltk.word_tokenize(words)\n",
    "    words_stop_less = [w for w in tokens if w not in stopwords.words(\"english\")]\n",
    "    stemmed = [PorterStemmer().stem(w) for w in words_stop_less]\n",
    "    return \" \".join(stemmed)"
   ],
   "metadata": {
    "collapsed": false
   }
  },
  {
   "cell_type": "code",
   "execution_count": 17,
   "outputs": [],
   "source": [
    "train_data = pd.read_csv(\"../dataset/goodreads_train.csv\", sep=\",\")"
   ],
   "metadata": {
    "collapsed": false
   }
  },
  {
   "cell_type": "code",
   "execution_count": 18,
   "outputs": [
    {
     "data": {
      "text/plain": "'This is a special book. It started slow for about the first third, then in the middle third it started to get interesting, then the last third blew my mind. This is what I love about good science fiction - it pushes your thinking about where things can go. \\n It is a 2015 Hugo winner, and translated from its original Chinese, which made it interesting in just a different way from most things I\\'ve read. For instance the intermixing of Chinese revolutionary history - how they kept accusing people of being \"reactionaries\", etc. \\n It is a book about science, and aliens. The science described in the book is impressive - its a book grounded in physics and pretty accurate as far as I could tell. (view spoiler)[Though when it got to folding protons into 8 dimensions I think he was just making stuff up - interesting to think about though. \\n But what would happen if our SETI stations received a message - if we found someone was out there - and the person monitoring and answering the signal on our side was disillusioned? That part of the book was a bit dark - I would like to think human reaction to discovering alien civilization that is hostile would be more like Enders Game where we would band together. \\n I did like how the book unveiled the Trisolaran culture through the game. It was a smart way to build empathy with them and also understand what they\\'ve gone through across so many centuries. And who know a 3 body problem was an unsolvable math problem? But I still don\\'t get who made the game - maybe that will come in the next book. \\n I loved this quote: \\n \"In the long history of scientific progress, how many protons have been smashed apart in accelerators by physicists? How many neutrons and electrons? Probably no fewer than a hundred million. Every collision was probably the end of the civilizations and intelligences in a microcosmos. In fact, even in nature, the destruction of universes must be happening at every second--for example, through the decay of neutrons. Also, a high-energy cosmic ray entering the atmosphere may destroy thousands of such miniature universes....\" \\n (hide spoiler)]'"
     },
     "execution_count": 18,
     "metadata": {},
     "output_type": "execute_result"
    }
   ],
   "source": [
    "sentence = train_data[\"review_text\"][0]\n",
    "sentence"
   ],
   "metadata": {
    "collapsed": false
   }
  },
  {
   "cell_type": "code",
   "execution_count": 25,
   "outputs": [
    {
     "data": {
      "text/plain": "\"special book . start slow first third , middl third start get interest , last third blew mind . love good scienc fiction - push think thing go . 2015 hugo winner , translat origin chines , made interest differ way thing 've read . instanc intermix chines revolutionari histori - kept accus peopl `` reactionari '' , etc . book scienc , alien . scienc describ book impress - book ground physic pretti accur far could tell . ( view spoiler ) [ though got fold proton 8 dimens think make stuff - interest think though . would happen seti station receiv messag - found someon - person monitor answer signal side disillus ? part book bit dark - would like think human reaction discov alien civil hostil would like ender game would band togeth . like book unveil trisolaran cultur game . smart way build empathi also understand 've gone across mani centuri . know 3 bodi problem unsolv math problem ? still n't get made game - mayb come next book . love quot : `` long histori scientif progress , mani proton smash apart acceler physicist ? mani neutron electron ? probabl fewer hundr million . everi collis probabl end civil intellig microcosmo . fact , even natur , destruct univers must happen everi second -- exampl , decay neutron . also , high-energi cosmic ray enter atmospher may destroy thousand miniatur univers .... '' ( hide spoiler ) ]\""
     },
     "execution_count": 25,
     "metadata": {},
     "output_type": "execute_result"
    }
   ],
   "source": [
    "prepro(sentence)"
   ],
   "metadata": {
    "collapsed": false
   }
  },
  {
   "cell_type": "code",
   "execution_count": 26,
   "outputs": [
    {
     "data": {
      "text/plain": "\"special book . start slow first third , middl third start get interest , last third blew mind . love good scienc fiction - push think thing go . 2015 hugo winner , translat origin chines , made interest differ way thing 've read . instanc intermix chines revolutionari histori - kept accus peopl `` reactionari '' , etc . book scienc , alien . scienc describ book impress - book ground physic pretti accur far could tell . ( view spoiler ) [ though got fold proton 8 dimens think make stuff - interest think though . would happen seti station receiv messag - found someon - person monitor answer signal side disillus ? part book bit dark - would like think human reaction discov alien civil hostil would like ender game would band togeth . like book unveil trisolaran cultur game . smart way build empathi also understand 've gone across mani centuri . know 3 bodi problem unsolv math problem ? still n't get made game - mayb come next book . love quot : `` long histori scientif progress , mani proton smash apart acceler physicist ? mani neutron electron ? probabl fewer hundr million . everi collis probabl end civil intellig microcosmo . fact , even natur , destruct univers must happen everi second -- exampl , decay neutron . also , high-energi cosmic ray enter atmospher may destroy thousand miniatur univers .... '' ( hide spoiler ) ]\""
     },
     "execution_count": 26,
     "metadata": {},
     "output_type": "execute_result"
    }
   ],
   "source": [
    "prepro_not(sentence)"
   ],
   "metadata": {
    "collapsed": false
   }
  },
  {
   "cell_type": "code",
   "execution_count": null,
   "outputs": [],
   "source": [],
   "metadata": {
    "collapsed": false
   }
  }
 ],
 "metadata": {
  "kernelspec": {
   "display_name": "Python 3",
   "language": "python",
   "name": "python3"
  },
  "language_info": {
   "codemirror_mode": {
    "name": "ipython",
    "version": 2
   },
   "file_extension": ".py",
   "mimetype": "text/x-python",
   "name": "python",
   "nbconvert_exporter": "python",
   "pygments_lexer": "ipython2",
   "version": "2.7.6"
  }
 },
 "nbformat": 4,
 "nbformat_minor": 0
}
