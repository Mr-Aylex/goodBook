{
 "cells": [
  {
   "cell_type": "code",
   "execution_count": 3,
   "outputs": [],
   "source": [
    "import pandas as pd\n",
    "import tensorflow as tf\n",
    "import numpy as np\n",
    "import matplotlib.pyplot as plt\n",
    "from tensorflow import keras\n",
    "import os\n",
    "import re\n",
    "import shutil\n",
    "from collections import Counter\n",
    "import string\n",
    "from nltk.tag import map_tag\n",
    "from gensim.parsing.preprocessing import remove_stopwords, strip_non_alphanum, strip_multiple_whitespaces, strip_punctuation, strip_numeric"
   ],
   "metadata": {
    "collapsed": false
   }
  },
  {
   "cell_type": "code",
   "execution_count": 2,
   "outputs": [],
   "source": [
    "train = pd.read_csv(\"../dataset/goodreads_train.csv\")"
   ],
   "metadata": {
    "collapsed": false
   }
  },
  {
   "cell_type": "code",
   "execution_count": 3,
   "outputs": [],
   "source": [
    "x_train = train['review_text']\n",
    "x_train_rm_st = x_train\n",
    "y_train = train['rating']"
   ],
   "metadata": {
    "collapsed": false
   }
  },
  {
   "cell_type": "code",
   "execution_count": 4,
   "outputs": [
    {
     "name": "stdout",
     "output_type": "stream",
     "text": [
      "cleaning data\n",
      "remove stopword\n",
      "non alphanumeric\n",
      "multiple whitespaces\n",
      "strip punctuation\n"
     ]
    }
   ],
   "source": [
    "print(\"cleaning data\")\n",
    "print(\"remove stopword\")\n",
    "print(\"non alphanumeric\")\n",
    "print(\"multiple whitespaces\")\n",
    "print(\"strip punctuation\")\n",
    "x_train_rm_st = x_train_rm_st.apply(lambda x: strip_numeric(strip_non_alphanum(strip_multiple_whitespaces(remove_stopwords(strip_punctuation(x))))))"
   ],
   "metadata": {
    "collapsed": false
   }
  },
  {
   "cell_type": "code",
   "execution_count": 6,
   "outputs": [],
   "source": [
    "#this function count all words in dataset\n",
    "def count_dataset(dataset) -> dict:\n",
    "    dataset.apply(lambda x: Counter(x.split()))\n",
    "    list_of_word = {}\n",
    "    for el in dataset:\n",
    "        for word, nb in el.items():\n",
    "            if not list_of_word.get(word) is None:\n",
    "                list_of_word[word].append(nb)\n",
    "            else:\n",
    "                list_of_word[word] = [nb]\n",
    "    return list_of_word"
   ],
   "metadata": {
    "collapsed": false
   }
  },
  {
   "cell_type": "code",
   "execution_count": 15,
   "outputs": [],
   "source": [
    "# res2 = 0\n",
    "# for x in range(len(x_train)):\n",
    "#\n",
    "#     res2 += len(x_train.iloc[x])\n",
    "# res2\n",
    "#\n",
    "# res = 0\n",
    "# for x in range(len(x_train_rm_st)):\n",
    "#\n",
    "#     res += len(x_train_rm_st.iloc[x])\n",
    "# res"
   ],
   "metadata": {
    "collapsed": false
   }
  },
  {
   "cell_type": "code",
   "execution_count": 10,
   "outputs": [],
   "source": [
    "vectorize_layer = tf.keras.layers.TextVectorization(\n",
    "    max_tokens= 376576,\n",
    "    standardize='lower_and_strip_punctuation',\n",
    "    split='whitespace',\n",
    "    output_mode='int',\n",
    "    output_sequence_length=1400,\n",
    "    vocabulary=None)\n"
   ],
   "metadata": {
    "collapsed": false
   }
  },
  {
   "cell_type": "code",
   "execution_count": 10,
   "outputs": [],
   "source": [
    "print(\"tokenizing data\")\n",
    "#layer = tf.keras.layers.StringLookup()\n",
    "vectorize_layer.adapt(x_train_rm_st, batch_size=1000)"
   ],
   "metadata": {
    "collapsed": false
   }
  },
  {
   "cell_type": "code",
   "execution_count": 11,
   "outputs": [
    {
     "name": "stdout",
     "output_type": "stream",
     "text": [
      "1267\n",
      "2119\n"
     ]
    }
   ],
   "source": [
    "# print(len(x_train_rm_st.iloc[0]))\n",
    "# print(len(x_train.iloc[0]))"
   ],
   "metadata": {
    "collapsed": false
   }
  },
  {
   "cell_type": "code",
   "execution_count": 12,
   "outputs": [],
   "source": [
    "np.save('voc', np.array(vectorize_layer.get_vocabulary()))"
   ],
   "metadata": {
    "collapsed": false
   }
  }
 ],
 "metadata": {
  "kernelspec": {
   "display_name": "Python 3",
   "language": "python",
   "name": "python3"
  },
  "language_info": {
   "codemirror_mode": {
    "name": "ipython",
    "version": 2
   },
   "file_extension": ".py",
   "mimetype": "text/x-python",
   "name": "python",
   "nbconvert_exporter": "python",
   "pygments_lexer": "ipython2",
   "version": "2.7.6"
  }
 },
 "nbformat": 4,
 "nbformat_minor": 0
}
