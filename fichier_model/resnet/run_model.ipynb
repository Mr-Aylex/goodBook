{
 "cells": [
  {
   "cell_type": "code",
   "execution_count": 1,
   "metadata": {
    "collapsed": true
   },
   "outputs": [
    {
     "name": "stdout",
     "output_type": "stream",
     "text": [
      "INFO: Pandarallel will run on 16 workers.\n",
      "INFO: Pandarallel will use standard multiprocessing data transfer (pipe) to transfer data between the main process and workers.\n",
      "\n",
      "WARNING: You are on Windows. If you detect any issue with pandarallel, be sure you checked out the Troubleshooting page:\n",
      "https://nalepae.github.io/pandarallel/troubleshooting/\n"
     ]
    }
   ],
   "source": [
    "import tensorflow as tf\n",
    "from tensorflow import keras\n",
    "from tensorflow.keras import regularizers\n",
    "import pandas as pd\n",
    "import numpy as np\n",
    "import os\n",
    "from tqdm.notebook import tqdm\n",
    "from Model import *\n",
    "from sklearn.metrics import classification_report\n",
    "import tensorflow_addons as tfa\n",
    "from keras.utils import io_utils\n",
    "from pandarallel import pandarallel\n",
    "from sklearn.utils import shuffle\n",
    "from sklearn.model_selection import train_test_split\n",
    "pandarallel.initialize(progress_bar=True, nb_workers=16)\n",
    "tqdm.pandas()"
   ]
  },
  {
   "cell_type": "code",
   "execution_count": 2,
   "outputs": [],
   "source": [
    "train = pd.read_csv(\"../../dataset/goodreads_train.csv\")\n",
    "test = pd.read_csv(\"../../dataset/goodreads_test.csv\")\n",
    "vocabulary = np.load('../../vocabulaires/voc_without_std_word_count_5.npy', allow_pickle=True)\n",
    "#train['review_text'] = train['review_text'].str.replace('[^\\w\\s]','')\n",
    "train = shuffle(train)"
   ],
   "metadata": {
    "collapsed": false
   }
  },
  {
   "cell_type": "code",
   "execution_count": 3,
   "outputs": [
    {
     "data": {
      "text/plain": "VBox(children=(HBox(children=(IntProgress(value=0, description='0.00%', max=225000), Label(value='0 / 225000')…",
      "application/vnd.jupyter.widget-view+json": {
       "version_major": 2,
       "version_minor": 0,
       "model_id": "4b01a9c1af364001862a72553f200cdd"
      }
     },
     "metadata": {},
     "output_type": "display_data"
    }
   ],
   "source": [
    "def convert_timestamp(x):\n",
    "    import pandas as pd\n",
    "    if pd.isna(x):#parallel_apply\n",
    "        return 0.0\n",
    "    else:\n",
    "        try:\n",
    "            return float(pd.Timestamp(x).value / 10**18)\n",
    "        except:\n",
    "            return 0\n",
    "train[['read_at','date_added','date_updated' ,'started_at']] = train[['read_at','date_added','date_updated' ,'started_at']].parallel_applymap(convert_timestamp)"
   ],
   "metadata": {
    "collapsed": false
   }
  },
  {
   "cell_type": "code",
   "execution_count": 4,
   "outputs": [],
   "source": [
    "inputs_data = train[['review_text','n_comments', 'n_votes','read_at','date_added','date_updated','started_at']]\n",
    "outputs_data = keras.utils.to_categorical(train['rating'], num_classes=6)\n",
    "train_in, validation_in, train_out, validation_out = train_test_split(inputs_data, outputs_data, test_size=0.2)"
   ],
   "metadata": {
    "collapsed": false
   }
  },
  {
   "cell_type": "code",
   "execution_count": 5,
   "outputs": [],
   "source": [
    "train_in = [train_in['review_text'], train_in['n_comments'], train_in['n_votes'], train_in['read_at'], train_in['date_added'], train_in['date_updated'], train_in['started_at']]\n",
    "validation_in = [validation_in['review_text'], validation_in['n_comments'], validation_in['n_votes'], validation_in['read_at'], validation_in['date_added'], validation_in['date_updated'], validation_in['started_at']]"
   ],
   "metadata": {
    "collapsed": false
   }
  },
  {
   "cell_type": "code",
   "execution_count": null,
   "outputs": [
    {
     "name": "stdout",
     "output_type": "stream",
     "text": [
      "resnet3\n",
      "Model: \"resnet3\"\n",
      "__________________________________________________________________________________________________\n",
      " Layer (type)                   Output Shape         Param #     Connected to                     \n",
      "==================================================================================================\n",
      " input_1 (InputLayer)           [(None, 1)]          0           []                               \n",
      "                                                                                                  \n",
      " text_vectorization (TextVector  (None, 352)         0           ['input_1[0][0]']                \n",
      " ization)                                                                                         \n",
      "                                                                                                  \n",
      " embedding (Embedding)          (None, 352, 220)     24089780    ['text_vectorization[0][0]']     \n",
      "                                                                                                  \n",
      " zero_padding1d (ZeroPadding1D)  (None, 358, 220)    0           ['embedding[0][0]']              \n",
      "                                                                                                  \n",
      " conv1 (Conv1D)                 (None, 352, 32)      49312       ['zero_padding1d[0][0]']         \n",
      "                                                                                                  \n",
      " bn_conv1 (BatchNormalization)  (None, 352, 32)      128         ['conv1[0][0]']                  \n",
      "                                                                                                  \n",
      " activation (Activation)        (None, 352, 32)      0           ['bn_conv1[0][0]']               \n",
      "                                                                                                  \n",
      " max_pooling1d (MaxPooling1D)   (None, 117, 32)      0           ['activation[0][0]']             \n",
      "                                                                                                  \n",
      " res2a_branch2a (Conv1D)        (None, 117, 32)      1056        ['max_pooling1d[0][0]']          \n",
      "                                                                                                  \n",
      " bn2a_branch2a (BatchNormalizat  (None, 117, 32)     128         ['res2a_branch2a[0][0]']         \n",
      " ion)                                                                                             \n",
      "                                                                                                  \n",
      " activation_1 (Activation)      (None, 117, 32)      0           ['bn2a_branch2a[0][0]']          \n",
      "                                                                                                  \n",
      " res2a_branch2b (Conv1D)        (None, 117, 32)      8224        ['activation_1[0][0]']           \n",
      "                                                                                                  \n",
      " bn2a_branch2b (BatchNormalizat  (None, 117, 32)     128         ['res2a_branch2b[0][0]']         \n",
      " ion)                                                                                             \n",
      "                                                                                                  \n",
      " activation_2 (Activation)      (None, 117, 32)      0           ['bn2a_branch2b[0][0]']          \n",
      "                                                                                                  \n",
      " res2a_branch2c (Conv1D)        (None, 117, 128)     4224        ['activation_2[0][0]']           \n",
      "                                                                                                  \n",
      " res2a_branch1 (Conv1D)         (None, 117, 128)     4224        ['max_pooling1d[0][0]']          \n",
      "                                                                                                  \n",
      " bn2a_branch2c (BatchNormalizat  (None, 117, 128)    512         ['res2a_branch2c[0][0]']         \n",
      " ion)                                                                                             \n",
      "                                                                                                  \n",
      " bn2a_branch1 (BatchNormalizati  (None, 117, 128)    512         ['res2a_branch1[0][0]']          \n",
      " on)                                                                                              \n",
      "                                                                                                  \n",
      " add (Add)                      (None, 117, 128)     0           ['bn2a_branch2c[0][0]',          \n",
      "                                                                  'bn2a_branch1[0][0]']           \n",
      "                                                                                                  \n",
      " activation_3 (Activation)      (None, 117, 128)     0           ['add[0][0]']                    \n",
      "                                                                                                  \n",
      " res2b_branch2a (Conv1D)        (None, 117, 32)      4128        ['activation_3[0][0]']           \n",
      "                                                                                                  \n",
      " bn2b_branch2a (BatchNormalizat  (None, 117, 32)     128         ['res2b_branch2a[0][0]']         \n",
      " ion)                                                                                             \n",
      "                                                                                                  \n",
      " activation_4 (Activation)      (None, 117, 32)      0           ['bn2b_branch2a[0][0]']          \n",
      "                                                                                                  \n",
      " res2b_branch2b (Conv1D)        (None, 117, 32)      8224        ['activation_4[0][0]']           \n",
      "                                                                                                  \n",
      " bn2b_branch2b (BatchNormalizat  (None, 117, 32)     128         ['res2b_branch2b[0][0]']         \n",
      " ion)                                                                                             \n",
      "                                                                                                  \n",
      " activation_5 (Activation)      (None, 117, 32)      0           ['bn2b_branch2b[0][0]']          \n",
      "                                                                                                  \n",
      " res2b_branch2c (Conv1D)        (None, 117, 128)     4224        ['activation_5[0][0]']           \n",
      "                                                                                                  \n",
      " bn2b_branch2c (BatchNormalizat  (None, 117, 128)    512         ['res2b_branch2c[0][0]']         \n",
      " ion)                                                                                             \n",
      "                                                                                                  \n",
      " add_1 (Add)                    (None, 117, 128)     0           ['bn2b_branch2c[0][0]',          \n",
      "                                                                  'activation_3[0][0]']           \n",
      "                                                                                                  \n",
      " activation_6 (Activation)      (None, 117, 128)     0           ['add_1[0][0]']                  \n",
      "                                                                                                  \n",
      " res2c_branch2a (Conv1D)        (None, 117, 32)      4128        ['activation_6[0][0]']           \n",
      "                                                                                                  \n",
      " bn2c_branch2a (BatchNormalizat  (None, 117, 32)     128         ['res2c_branch2a[0][0]']         \n",
      " ion)                                                                                             \n",
      "                                                                                                  \n",
      " activation_7 (Activation)      (None, 117, 32)      0           ['bn2c_branch2a[0][0]']          \n",
      "                                                                                                  \n",
      " res2c_branch2b (Conv1D)        (None, 117, 32)      8224        ['activation_7[0][0]']           \n",
      "                                                                                                  \n",
      " bn2c_branch2b (BatchNormalizat  (None, 117, 32)     128         ['res2c_branch2b[0][0]']         \n",
      " ion)                                                                                             \n",
      "                                                                                                  \n",
      " activation_8 (Activation)      (None, 117, 32)      0           ['bn2c_branch2b[0][0]']          \n",
      "                                                                                                  \n",
      " res2c_branch2c (Conv1D)        (None, 117, 128)     4224        ['activation_8[0][0]']           \n",
      "                                                                                                  \n",
      " bn2c_branch2c (BatchNormalizat  (None, 117, 128)    512         ['res2c_branch2c[0][0]']         \n",
      " ion)                                                                                             \n",
      "                                                                                                  \n",
      " add_2 (Add)                    (None, 117, 128)     0           ['bn2c_branch2c[0][0]',          \n",
      "                                                                  'activation_6[0][0]']           \n",
      "                                                                                                  \n",
      " activation_9 (Activation)      (None, 117, 128)     0           ['add_2[0][0]']                  \n",
      "                                                                                                  \n",
      " dropout (Dropout)              (None, 117, 128)     0           ['activation_9[0][0]']           \n",
      "                                                                                                  \n",
      " res3a_branch2a (Conv1D)        (None, 59, 64)       8256        ['dropout[0][0]']                \n",
      "                                                                                                  \n",
      " bn3a_branch2a (BatchNormalizat  (None, 59, 64)      256         ['res3a_branch2a[0][0]']         \n",
      " ion)                                                                                             \n",
      "                                                                                                  \n",
      " activation_10 (Activation)     (None, 59, 64)       0           ['bn3a_branch2a[0][0]']          \n",
      "                                                                                                  \n",
      " res3a_branch2b (Conv1D)        (None, 59, 64)       32832       ['activation_10[0][0]']          \n",
      "                                                                                                  \n",
      " bn3a_branch2b (BatchNormalizat  (None, 59, 64)      256         ['res3a_branch2b[0][0]']         \n",
      " ion)                                                                                             \n",
      "                                                                                                  \n",
      " activation_11 (Activation)     (None, 59, 64)       0           ['bn3a_branch2b[0][0]']          \n",
      "                                                                                                  \n",
      " res3a_branch2c (Conv1D)        (None, 59, 256)      16640       ['activation_11[0][0]']          \n",
      "                                                                                                  \n",
      " res3a_branch1 (Conv1D)         (None, 59, 256)      33024       ['dropout[0][0]']                \n",
      "                                                                                                  \n",
      " bn3a_branch2c (BatchNormalizat  (None, 59, 256)     1024        ['res3a_branch2c[0][0]']         \n",
      " ion)                                                                                             \n",
      "                                                                                                  \n",
      " bn3a_branch1 (BatchNormalizati  (None, 59, 256)     1024        ['res3a_branch1[0][0]']          \n",
      " on)                                                                                              \n",
      "                                                                                                  \n",
      " add_3 (Add)                    (None, 59, 256)      0           ['bn3a_branch2c[0][0]',          \n",
      "                                                                  'bn3a_branch1[0][0]']           \n",
      "                                                                                                  \n",
      " activation_12 (Activation)     (None, 59, 256)      0           ['add_3[0][0]']                  \n",
      "                                                                                                  \n",
      " res3b_branch2a (Conv1D)        (None, 59, 64)       16448       ['activation_12[0][0]']          \n",
      "                                                                                                  \n",
      " bn3b_branch2a (BatchNormalizat  (None, 59, 64)      256         ['res3b_branch2a[0][0]']         \n",
      " ion)                                                                                             \n",
      "                                                                                                  \n",
      " activation_13 (Activation)     (None, 59, 64)       0           ['bn3b_branch2a[0][0]']          \n",
      "                                                                                                  \n",
      " res3b_branch2b (Conv1D)        (None, 59, 64)       32832       ['activation_13[0][0]']          \n",
      "                                                                                                  \n",
      " bn3b_branch2b (BatchNormalizat  (None, 59, 64)      256         ['res3b_branch2b[0][0]']         \n",
      " ion)                                                                                             \n",
      "                                                                                                  \n",
      " activation_14 (Activation)     (None, 59, 64)       0           ['bn3b_branch2b[0][0]']          \n",
      "                                                                                                  \n",
      " res3b_branch2c (Conv1D)        (None, 59, 256)      16640       ['activation_14[0][0]']          \n",
      "                                                                                                  \n",
      " bn3b_branch2c (BatchNormalizat  (None, 59, 256)     1024        ['res3b_branch2c[0][0]']         \n",
      " ion)                                                                                             \n",
      "                                                                                                  \n",
      " add_4 (Add)                    (None, 59, 256)      0           ['bn3b_branch2c[0][0]',          \n",
      "                                                                  'activation_12[0][0]']          \n",
      "                                                                                                  \n",
      " activation_15 (Activation)     (None, 59, 256)      0           ['add_4[0][0]']                  \n",
      "                                                                                                  \n",
      " res3c_branch2a (Conv1D)        (None, 59, 64)       16448       ['activation_15[0][0]']          \n",
      "                                                                                                  \n",
      " bn3c_branch2a (BatchNormalizat  (None, 59, 64)      256         ['res3c_branch2a[0][0]']         \n",
      " ion)                                                                                             \n",
      "                                                                                                  \n",
      " activation_16 (Activation)     (None, 59, 64)       0           ['bn3c_branch2a[0][0]']          \n",
      "                                                                                                  \n",
      " res3c_branch2b (Conv1D)        (None, 59, 64)       32832       ['activation_16[0][0]']          \n",
      "                                                                                                  \n",
      " bn3c_branch2b (BatchNormalizat  (None, 59, 64)      256         ['res3c_branch2b[0][0]']         \n",
      " ion)                                                                                             \n",
      "                                                                                                  \n",
      " activation_17 (Activation)     (None, 59, 64)       0           ['bn3c_branch2b[0][0]']          \n",
      "                                                                                                  \n",
      " res3c_branch2c (Conv1D)        (None, 59, 256)      16640       ['activation_17[0][0]']          \n",
      "                                                                                                  \n",
      " bn3c_branch2c (BatchNormalizat  (None, 59, 256)     1024        ['res3c_branch2c[0][0]']         \n",
      " ion)                                                                                             \n",
      "                                                                                                  \n",
      " add_5 (Add)                    (None, 59, 256)      0           ['bn3c_branch2c[0][0]',          \n",
      "                                                                  'activation_15[0][0]']          \n",
      "                                                                                                  \n",
      " activation_18 (Activation)     (None, 59, 256)      0           ['add_5[0][0]']                  \n",
      "                                                                                                  \n",
      " res3d_branch2a (Conv1D)        (None, 59, 64)       16448       ['activation_18[0][0]']          \n",
      "                                                                                                  \n",
      " bn3d_branch2a (BatchNormalizat  (None, 59, 64)      256         ['res3d_branch2a[0][0]']         \n",
      " ion)                                                                                             \n",
      "                                                                                                  \n",
      " activation_19 (Activation)     (None, 59, 64)       0           ['bn3d_branch2a[0][0]']          \n",
      "                                                                                                  \n",
      " res3d_branch2b (Conv1D)        (None, 59, 64)       32832       ['activation_19[0][0]']          \n",
      "                                                                                                  \n",
      " bn3d_branch2b (BatchNormalizat  (None, 59, 64)      256         ['res3d_branch2b[0][0]']         \n",
      " ion)                                                                                             \n",
      "                                                                                                  \n",
      " activation_20 (Activation)     (None, 59, 64)       0           ['bn3d_branch2b[0][0]']          \n",
      "                                                                                                  \n",
      " res3d_branch2c (Conv1D)        (None, 59, 256)      16640       ['activation_20[0][0]']          \n",
      "                                                                                                  \n",
      " bn3d_branch2c (BatchNormalizat  (None, 59, 256)     1024        ['res3d_branch2c[0][0]']         \n",
      " ion)                                                                                             \n",
      "                                                                                                  \n",
      " add_6 (Add)                    (None, 59, 256)      0           ['bn3d_branch2c[0][0]',          \n",
      "                                                                  'activation_18[0][0]']          \n",
      "                                                                                                  \n",
      " activation_21 (Activation)     (None, 59, 256)      0           ['add_6[0][0]']                  \n",
      "                                                                                                  \n",
      " dropout_1 (Dropout)            (None, 59, 256)      0           ['activation_21[0][0]']          \n",
      "                                                                                                  \n",
      " res5a_branch2a (Conv1D)        (None, 30, 64)       16448       ['dropout_1[0][0]']              \n",
      "                                                                                                  \n",
      " bn5a_branch2a (BatchNormalizat  (None, 30, 64)      256         ['res5a_branch2a[0][0]']         \n",
      " ion)                                                                                             \n",
      "                                                                                                  \n",
      " activation_22 (Activation)     (None, 30, 64)       0           ['bn5a_branch2a[0][0]']          \n",
      "                                                                                                  \n",
      " res5a_branch2b (Conv1D)        (None, 30, 64)       32832       ['activation_22[0][0]']          \n",
      "                                                                                                  \n",
      " bn5a_branch2b (BatchNormalizat  (None, 30, 64)      256         ['res5a_branch2b[0][0]']         \n",
      " ion)                                                                                             \n",
      "                                                                                                  \n",
      " activation_23 (Activation)     (None, 30, 64)       0           ['bn5a_branch2b[0][0]']          \n",
      "                                                                                                  \n",
      " res5a_branch2c (Conv1D)        (None, 30, 256)      16640       ['activation_23[0][0]']          \n",
      "                                                                                                  \n",
      " res5a_branch1 (Conv1D)         (None, 30, 256)      65792       ['dropout_1[0][0]']              \n",
      "                                                                                                  \n",
      " bn5a_branch2c (BatchNormalizat  (None, 30, 256)     1024        ['res5a_branch2c[0][0]']         \n",
      " ion)                                                                                             \n",
      "                                                                                                  \n",
      " bn5a_branch1 (BatchNormalizati  (None, 30, 256)     1024        ['res5a_branch1[0][0]']          \n",
      " on)                                                                                              \n",
      "                                                                                                  \n",
      " add_7 (Add)                    (None, 30, 256)      0           ['bn5a_branch2c[0][0]',          \n",
      "                                                                  'bn5a_branch1[0][0]']           \n",
      "                                                                                                  \n",
      " activation_24 (Activation)     (None, 30, 256)      0           ['add_7[0][0]']                  \n",
      "                                                                                                  \n",
      " res4b_branch2a (Conv1D)        (None, 30, 64)       16448       ['activation_24[0][0]']          \n",
      "                                                                                                  \n",
      " bn4b_branch2a (BatchNormalizat  (None, 30, 64)      256         ['res4b_branch2a[0][0]']         \n",
      " ion)                                                                                             \n",
      "                                                                                                  \n",
      " activation_25 (Activation)     (None, 30, 64)       0           ['bn4b_branch2a[0][0]']          \n",
      "                                                                                                  \n",
      " res4b_branch2b (Conv1D)        (None, 30, 64)       32832       ['activation_25[0][0]']          \n",
      "                                                                                                  \n",
      " bn4b_branch2b (BatchNormalizat  (None, 30, 64)      256         ['res4b_branch2b[0][0]']         \n",
      " ion)                                                                                             \n",
      "                                                                                                  \n",
      " activation_26 (Activation)     (None, 30, 64)       0           ['bn4b_branch2b[0][0]']          \n",
      "                                                                                                  \n",
      " res4b_branch2c (Conv1D)        (None, 30, 256)      16640       ['activation_26[0][0]']          \n",
      "                                                                                                  \n",
      " bn4b_branch2c (BatchNormalizat  (None, 30, 256)     1024        ['res4b_branch2c[0][0]']         \n",
      " ion)                                                                                             \n",
      "                                                                                                  \n",
      " add_8 (Add)                    (None, 30, 256)      0           ['bn4b_branch2c[0][0]',          \n",
      "                                                                  'activation_24[0][0]']          \n",
      "                                                                                                  \n",
      " activation_27 (Activation)     (None, 30, 256)      0           ['add_8[0][0]']                  \n",
      "                                                                                                  \n",
      " res4c_branch2a (Conv1D)        (None, 30, 64)       16448       ['activation_27[0][0]']          \n",
      "                                                                                                  \n",
      " bn4c_branch2a (BatchNormalizat  (None, 30, 64)      256         ['res4c_branch2a[0][0]']         \n",
      " ion)                                                                                             \n",
      "                                                                                                  \n",
      " activation_28 (Activation)     (None, 30, 64)       0           ['bn4c_branch2a[0][0]']          \n",
      "                                                                                                  \n",
      " res4c_branch2b (Conv1D)        (None, 30, 64)       32832       ['activation_28[0][0]']          \n",
      "                                                                                                  \n",
      " bn4c_branch2b (BatchNormalizat  (None, 30, 64)      256         ['res4c_branch2b[0][0]']         \n",
      " ion)                                                                                             \n",
      "                                                                                                  \n",
      " activation_29 (Activation)     (None, 30, 64)       0           ['bn4c_branch2b[0][0]']          \n",
      "                                                                                                  \n",
      " res4c_branch2c (Conv1D)        (None, 30, 256)      16640       ['activation_29[0][0]']          \n",
      "                                                                                                  \n",
      " bn4c_branch2c (BatchNormalizat  (None, 30, 256)     1024        ['res4c_branch2c[0][0]']         \n",
      " ion)                                                                                             \n",
      "                                                                                                  \n",
      " add_9 (Add)                    (None, 30, 256)      0           ['bn4c_branch2c[0][0]',          \n",
      "                                                                  'activation_27[0][0]']          \n",
      "                                                                                                  \n",
      " activation_30 (Activation)     (None, 30, 256)      0           ['add_9[0][0]']                  \n",
      "                                                                                                  \n",
      " dropout_2 (Dropout)            (None, 30, 256)      0           ['activation_30[0][0]']          \n",
      "                                                                                                  \n",
      " input_4 (InputLayer)           [(None, 1)]          0           []                               \n",
      "                                                                                                  \n",
      " input_5 (InputLayer)           [(None, 1)]          0           []                               \n",
      "                                                                                                  \n",
      " input_6 (InputLayer)           [(None, 1)]          0           []                               \n",
      "                                                                                                  \n",
      " input_7 (InputLayer)           [(None, 1)]          0           []                               \n",
      "                                                                                                  \n",
      " avg_pool (AveragePooling1D)    (None, 15, 256)      0           ['dropout_2[0][0]']              \n",
      "                                                                                                  \n",
      " concatenate (Concatenate)      (None, 4)            0           ['input_4[0][0]',                \n",
      "                                                                  'input_5[0][0]',                \n",
      "                                                                  'input_6[0][0]',                \n",
      "                                                                  'input_7[0][0]']                \n",
      "                                                                                                  \n",
      " flatten (Flatten)              (None, 3840)         0           ['avg_pool[0][0]']               \n",
      "                                                                                                  \n",
      " dense (Dense)                  (None, 32)           160         ['concatenate[0][0]']            \n",
      "                                                                                                  \n",
      " concatenate_1 (Concatenate)    (None, 3872)         0           ['flatten[0][0]',                \n",
      "                                                                  'dense[0][0]']                  \n",
      "                                                                                                  \n",
      " dense_1 (Dense)                (None, 64)           247872      ['concatenate_1[0][0]']          \n",
      "                                                                                                  \n",
      " dropout_3 (Dropout)            (None, 64)           0           ['dense_1[0][0]']                \n",
      "                                                                                                  \n",
      " dense_2 (Dense)                (None, 32)           2080        ['dropout_3[0][0]']              \n",
      "                                                                                                  \n",
      " dropout_4 (Dropout)            (None, 32)           0           ['dense_2[0][0]']                \n",
      "                                                                                                  \n",
      " input_2 (InputLayer)           [(None, 1)]          0           []                               \n",
      "                                                                                                  \n",
      " input_3 (InputLayer)           [(None, 1)]          0           []                               \n",
      "                                                                                                  \n",
      " concatenate_2 (Concatenate)    (None, 34)           0           ['dropout_4[0][0]',              \n",
      "                                                                  'input_2[0][0]',                \n",
      "                                                                  'input_3[0][0]']                \n",
      "                                                                                                  \n",
      " dense_3 (Dense)                (None, 16)           560         ['concatenate_2[0][0]']          \n",
      "                                                                                                  \n",
      " dropout_5 (Dropout)            (None, 16)           0           ['dense_3[0][0]']                \n",
      "                                                                                                  \n",
      " dense_4 (Dense)                (None, 16)           272         ['dropout_5[0][0]']              \n",
      "                                                                                                  \n",
      " dropout_6 (Dropout)            (None, 16)           0           ['dense_4[0][0]']                \n",
      "                                                                                                  \n",
      " dense_5 (Dense)                (None, 6)            102         ['dropout_6[0][0]']              \n",
      "                                                                                                  \n",
      "==================================================================================================\n",
      "Total params: 25,008,826\n",
      "Trainable params: 25,000,954\n",
      "Non-trainable params: 7,872\n",
      "__________________________________________________________________________________________________\n",
      "None\n",
      "Epoch 1/14\n",
      " 364/5625 [>.............................] - ETA: 3:34 - loss: 1.5968 - categorical_accuracy: 0.3350 - f1_score: 0.2427"
     ]
    }
   ],
   "source": [
    "model_list = [resnet3, resnet2]\n",
    "kernel_regularizer=regularizers.L1L2(l1=1e-5, l2=1e-4)\n",
    "bias_regularizer=regularizers.L2(1e-4)\n",
    "activity_regularizer=regularizers.L2(1e-5)\n",
    "params=[\n",
    "    #{\"dropout_rate\": .0,\"kernel_regularizer\": None, \"bias_regularizer\": None, \"activity_regularizer\": None},\n",
    "    {\"dropout_rate\": .15,\"kernel_regularizer\": None, \"bias_regularizer\": None, \"activity_regularizer\": None},\n",
    "    #{\"dropout_rate\": .0,\"kernel_regularizer\": regularizers.L1L2(l1=1e-5, l2=1e-4),\n",
    "    #  \"bias_regularizer\": regularizers.L2(1e-4),\n",
    "    #  \"activity_regularizer\": regularizers.L2(1e-5)},\n",
    "    # {\"dropout_rate\": .2,\"kernel_regularizer\": regularizers.L1L2(l1=1e-5, l2=1e-4),\n",
    "    #  \"bias_regularizer\": regularizers.L2(1e-4),\n",
    "    #  \"activity_regularizer\": regularizers.L2(1e-5)}\n",
    "]\n",
    "\n",
    "def scheduler(epoch, lr):\n",
    "    if epoch < 1:\n",
    "        return lr\n",
    "    else:\n",
    "        return lr * tf.math.exp(-0.1)\n",
    "seeds = [42]\n",
    "for seed in seeds:\n",
    "    keras.utils.set_random_seed(seed)\n",
    "    for model_obj in model_list:\n",
    "        for param in params:\n",
    "\n",
    "            dropout_rate = param['dropout_rate']\n",
    "            kernel_regularizer = param['kernel_regularizer']\n",
    "            bias_regularizer = param['bias_regularizer']\n",
    "            activity_regularizer = param['activity_regularizer']\n",
    "\n",
    "            if kernel_regularizer is None:\n",
    "                regularizers_ = \"None\"\n",
    "            else:\n",
    "                regularizers_ = \"L1L2\"\n",
    "            if dropout_rate == .0:\n",
    "                dropout = \"0\"\n",
    "            else:\n",
    "                dropout = f\"{dropout_rate}\"\n",
    "\n",
    "            model = model_obj.model(vocabulary, dropout_rate, kernel_regularizer, bias_regularizer, activity_regularizer)\n",
    "            model.compile(optimizer=keras.optimizers.Adamax(learning_rate=0.01),\n",
    "                           loss=keras.losses.categorical_crossentropy,\n",
    "                           metrics=[keras.metrics.categorical_accuracy, tfa.metrics.F1Score(num_classes=6, average='weighted')]\n",
    "                           )\n",
    "            print(model.name)\n",
    "            print(model.summary())\n",
    "            if not os.path.exists(f\"checkpoint/{model.name}/\"):\n",
    "                os.mkdir(f\"checkpoint/{model.name}\")\n",
    "            if not os.path.exists(f\"checkpoint/{model.name}/{seed}/\"):\n",
    "                os.mkdir(f\"checkpoint/{model.name}/{seed}/\")\n",
    "            if not os.path.exists(f\"checkpoint/{model.name}/{seed}/{dropout}\"):\n",
    "                os.mkdir(f\"checkpoint/{model.name}/{seed}/{dropout}\")\n",
    "            if not os.path.exists(f\"checkpoint/{model.name}/{seed}/{dropout}/{regularizers_}\"):\n",
    "                os.mkdir(f\"checkpoint/{model.name}/{seed}/{dropout}/{regularizers_}\")\n",
    "\n",
    "            if not os.path.exists(f\"logs/{model.name}/\"):\n",
    "                os.mkdir(f\"logs/{model.name}\")\n",
    "            if not os.path.exists(f\"logs/{model.name}/{seed}/\"):\n",
    "                os.mkdir(f\"logs/{model.name}/{seed}/\")\n",
    "            if not os.path.exists(f\"logs/{model.name}/{seed}/{dropout}\"):\n",
    "                os.mkdir(f\"logs/{model.name}/{seed}/{dropout}\")\n",
    "            if not os.path.exists(f\"logs/{model.name}/{seed}/{dropout}/{regularizers_}\"):\n",
    "                os.mkdir(f\"logs/{model.name}/{seed}/{dropout}/{regularizers_}\")\n",
    "\n",
    "            chekpoint = keras.callbacks.ModelCheckpoint(f'checkpoint/{model.name}/{seed}/{dropout}/{regularizers_}/model.h5',\n",
    "            monitor='val_f1_score', mode='max', save_best_only=True)\n",
    "            stop_nan = keras.callbacks.TerminateOnNaN()\n",
    "\n",
    "            sheduler = keras.callbacks.LearningRateScheduler(scheduler,0)\n",
    "            tensorboard_callback = tf.keras.callbacks.TensorBoard(log_dir=f\"logs/{model.name}/{seed}/{dropout}/{regularizers_}/\")\n",
    "            model.fit(x=train_in, y=train_out, validation_data=(validation_in, validation_out), batch_size=128, epochs=14, callbacks=[sheduler, stop_nan, chekpoint, tensorboard_callback])"
   ],
   "metadata": {
    "collapsed": false,
    "pycharm": {
     "is_executing": true
    }
   }
  },
  {
   "cell_type": "code",
   "execution_count": 9,
   "outputs": [
    {
     "name": "stdout",
     "output_type": "stream",
     "text": [
      "22500/22500 [==============================] - 157s 7ms/step\n"
     ]
    }
   ],
   "source": [
    "res = model.predict(train_in)"
   ],
   "metadata": {
    "collapsed": false
   }
  },
  {
   "cell_type": "code",
   "execution_count": 10,
   "outputs": [
    {
     "name": "stdout",
     "output_type": "stream",
     "text": [
      "5625/5625 [==============================] - 39s 7ms/step\n"
     ]
    }
   ],
   "source": [
    "val_res = model.predict(validation_in)"
   ],
   "metadata": {
    "collapsed": false
   }
  },
  {
   "cell_type": "code",
   "execution_count": 13,
   "outputs": [],
   "source": [
    "val_out = np.argmax(validation_out, axis=1)\n",
    "train_out = np.argmax(train_out, axis=1)\n"
   ],
   "metadata": {
    "collapsed": false
   }
  },
  {
   "cell_type": "code",
   "execution_count": 14,
   "outputs": [
    {
     "data": {
      "text/plain": "VBox(children=(HBox(children=(IntProgress(value=0, description='0.00%', max=119512), Label(value='0 / 119512')…",
      "application/vnd.jupyter.widget-view+json": {
       "version_major": 2,
       "version_minor": 0,
       "model_id": "cae4ad82531447f2b48ab77902e6f0d8"
      }
     },
     "metadata": {},
     "output_type": "display_data"
    },
    {
     "name": "stdout",
     "output_type": "stream",
     "text": [
      "14939/14939 [==============================] - 109s 7ms/step\n"
     ]
    }
   ],
   "source": [
    "test[['read_at','date_added','date_updated' ,'started_at']] = test[['read_at','date_added','date_updated' ,'started_at']].parallel_applymap(convert_timestamp)\n",
    "\n",
    "test_data = [test['review_text'], test['n_comments'], test['n_votes'], test['read_at'], test['date_added'], test['date_updated'], test['started_at']]\n",
    "restest = model.model.predict(test_data)"
   ],
   "metadata": {
    "collapsed": false
   }
  },
  {
   "cell_type": "code",
   "execution_count": 15,
   "outputs": [
    {
     "data": {
      "text/plain": "  0%|          | 0/180000 [00:00<?, ?it/s]",
      "application/vnd.jupyter.widget-view+json": {
       "version_major": 2,
       "version_minor": 0,
       "model_id": "697c040a9afc43a487e37d559e40b083"
      }
     },
     "metadata": {},
     "output_type": "display_data"
    },
    {
     "data": {
      "text/plain": "  0%|          | 0/478033 [00:00<?, ?it/s]",
      "application/vnd.jupyter.widget-view+json": {
       "version_major": 2,
       "version_minor": 0,
       "model_id": "933796d0a7f849669ed172bdfff976b9"
      }
     },
     "metadata": {},
     "output_type": "display_data"
    },
    {
     "data": {
      "text/plain": "  0%|          | 0/720000 [00:00<?, ?it/s]",
      "application/vnd.jupyter.widget-view+json": {
       "version_major": 2,
       "version_minor": 0,
       "model_id": "9a45c78a6abe4429b429b52aaf62e85b"
      }
     },
     "metadata": {},
     "output_type": "display_data"
    }
   ],
   "source": [
    "ff = []\n",
    "for line in tqdm(val_res):\n",
    "    tmp = -2\n",
    "    category = None\n",
    "    for i in (range(6)):\n",
    "        if line[i] > tmp:\n",
    "            category = i\n",
    "            tmp = line[i]\n",
    "    ff.append(category)\n",
    "val_data = np.array(ff)\n",
    "\n",
    "ff = []\n",
    "for line in tqdm(restest):\n",
    "    tmp = -2\n",
    "    category = None\n",
    "    for i in (range(6)):\n",
    "        if line[i] > tmp:\n",
    "            category = i\n",
    "            tmp = line[i]\n",
    "    ff.append(category)\n",
    "test_data = np.array(ff)\n",
    "\n",
    "ff = []\n",
    "for line in tqdm(res):\n",
    "    tmp = -2\n",
    "    category = None\n",
    "    for i in (range(6)):\n",
    "        if line[i] > tmp:\n",
    "            category = i\n",
    "            tmp = line[i]\n",
    "    ff.append(category)\n",
    "train_data = np.array(ff)"
   ],
   "metadata": {
    "collapsed": false
   }
  },
  {
   "cell_type": "code",
   "execution_count": 16,
   "outputs": [
    {
     "name": "stdout",
     "output_type": "stream",
     "text": [
      "              precision    recall  f1-score   support\n",
      "\n",
      "           0       0.73      0.44      0.55     24800\n",
      "           1       0.55      0.34      0.42     22993\n",
      "           2       0.55      0.52      0.53     58041\n",
      "           3       0.64      0.65      0.64    151064\n",
      "           4       0.63      0.72      0.67    250900\n",
      "           5       0.76      0.70      0.73    212202\n",
      "\n",
      "    accuracy                           0.66    720000\n",
      "   macro avg       0.64      0.56      0.59    720000\n",
      "weighted avg       0.66      0.66      0.66    720000\n",
      "\n"
     ]
    }
   ],
   "source": [
    "print(classification_report(train_out, train_data))"
   ],
   "metadata": {
    "collapsed": false
   }
  },
  {
   "cell_type": "code",
   "execution_count": 17,
   "outputs": [
    {
     "name": "stdout",
     "output_type": "stream",
     "text": [
      "              precision    recall  f1-score   support\n",
      "\n",
      "           0       0.66      0.40      0.49      6188\n",
      "           1       0.51      0.31      0.38      5725\n",
      "           2       0.50      0.47      0.48     14586\n",
      "           3       0.58      0.59      0.58     37908\n",
      "           4       0.58      0.68      0.63     62788\n",
      "           5       0.72      0.66      0.69     52805\n",
      "\n",
      "    accuracy                           0.61    180000\n",
      "   macro avg       0.59      0.51      0.54    180000\n",
      "weighted avg       0.62      0.61      0.61    180000\n",
      "\n"
     ]
    }
   ],
   "source": [
    "print(classification_report(val_out, val_data))"
   ],
   "metadata": {
    "collapsed": false
   }
  },
  {
   "cell_type": "code",
   "execution_count": 18,
   "outputs": [],
   "source": [
    "test['rating'] = test_data\n",
    "\n",
    "id = test['review_id'].to_numpy()\n",
    "rating = test['rating'].to_numpy()\n",
    "df = pd.DataFrame( columns=['review_id', 'rating'])\n",
    "df['review_id'] = id\n",
    "df['rating'] = rating"
   ],
   "metadata": {
    "collapsed": false
   }
  },
  {
   "cell_type": "code",
   "execution_count": 19,
   "outputs": [],
   "source": [
    "df.to_csv('submission_unet5_embedding_class_weights_model.csv',index=False)"
   ],
   "metadata": {
    "collapsed": false
   }
  },
  {
   "cell_type": "code",
   "execution_count": 16,
   "outputs": [
    {
     "name": "stderr",
     "output_type": "stream",
     "text": [
      "WARNING:absl:Found untraced functions such as _jit_compiled_convolution_op, _jit_compiled_convolution_op, _jit_compiled_convolution_op, _jit_compiled_convolution_op, _jit_compiled_convolution_op while saving (showing 5 of 17). These functions will not be directly callable after loading.\n"
     ]
    },
    {
     "name": "stdout",
     "output_type": "stream",
     "text": [
      "INFO:tensorflow:Assets written to: unet5\\assets\n"
     ]
    },
    {
     "name": "stderr",
     "output_type": "stream",
     "text": [
      "INFO:tensorflow:Assets written to: unet5\\assets\n"
     ]
    }
   ],
   "source": [
    "model.model.save('unet5')"
   ],
   "metadata": {
    "collapsed": false
   }
  },
  {
   "cell_type": "code",
   "execution_count": null,
   "outputs": [],
   "source": [],
   "metadata": {
    "collapsed": false
   }
  }
 ],
 "metadata": {
  "kernelspec": {
   "display_name": "Python 3",
   "language": "python",
   "name": "python3"
  },
  "language_info": {
   "codemirror_mode": {
    "name": "ipython",
    "version": 2
   },
   "file_extension": ".py",
   "mimetype": "text/x-python",
   "name": "python",
   "nbconvert_exporter": "python",
   "pygments_lexer": "ipython2",
   "version": "2.7.6"
  }
 },
 "nbformat": 4,
 "nbformat_minor": 0
}
