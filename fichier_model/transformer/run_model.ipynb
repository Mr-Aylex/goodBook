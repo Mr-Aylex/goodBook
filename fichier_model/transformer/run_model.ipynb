{
 "cells": [
  {
   "cell_type": "code",
   "execution_count": 1,
   "metadata": {
    "collapsed": true
   },
   "outputs": [],
   "source": [
    "import tensorflow as tf\n",
    "from tensorflow import keras\n",
    "import pandas as pd\n",
    "import numpy as np\n",
    "import os\n",
    "from tqdm.notebook import tqdm\n",
    "from Model import *\n",
    "from sklearn.metrics import classification_report\n",
    "import tensorflow_addons as tfa"
   ]
  },
  {
   "cell_type": "code",
   "execution_count": 1,
   "outputs": [],
   "source": [],
   "metadata": {
    "collapsed": false
   }
  },
  {
   "cell_type": "code",
   "execution_count": 2,
   "outputs": [],
   "source": [
    "keras.utils.set_random_seed(7)"
   ],
   "metadata": {
    "collapsed": false
   }
  },
  {
   "cell_type": "code",
   "execution_count": 3,
   "outputs": [],
   "source": [
    "train = pd.read_csv(\"../../dataset/goodreads_train.csv\")\n",
    "vocabulary2 = np.load('../../vocabulaires/voc_without_std_word_count_5.npy', allow_pickle=True)"
   ],
   "metadata": {
    "collapsed": false
   }
  },
  {
   "cell_type": "code",
   "execution_count": 3,
   "outputs": [],
   "source": [],
   "metadata": {
    "collapsed": false
   }
  },
  {
   "cell_type": "code",
   "execution_count": null,
   "outputs": [
    {
     "name": "stdout",
     "output_type": "stream",
     "text": [
      "transf4\n",
      "Model: \"model\"\n",
      "__________________________________________________________________________________________________\n",
      " Layer (type)                   Output Shape         Param #     Connected to                     \n",
      "==================================================================================================\n",
      " input_1 (InputLayer)           [(None, 1)]          0           []                               \n",
      "                                                                                                  \n",
      " text_vectorization (TextVector  (None, 192)         0           ['input_1[0][0]']                \n",
      " ization)                                                                                         \n",
      "                                                                                                  \n",
      " token_and_position_embedding (  (None, 192, 300)    32907300    ['text_vectorization[0][0]']     \n",
      " TokenAndPositionEmbedding)                                                                       \n",
      "                                                                                                  \n",
      " transformer_block (Transformer  (None, 192, 300)    36115840    ['token_and_position_embedding[0]\n",
      " Block)                                                          [0]']                            \n",
      "                                                                                                  \n",
      " conv1d (Conv1D)                (None, 190, 128)     115328      ['transformer_block[0][0]']      \n",
      "                                                                                                  \n",
      " global_max_pooling1d (GlobalMa  (None, 128)         0           ['conv1d[0][0]']                 \n",
      " xPooling1D)                                                                                      \n",
      "                                                                                                  \n",
      " dense_2 (Dense)                (None, 64)           8256        ['global_max_pooling1d[0][0]']   \n",
      "                                                                                                  \n",
      " dropout_2 (Dropout)            (None, 64)           0           ['dense_2[0][0]']                \n",
      "                                                                                                  \n",
      " dense_3 (Dense)                (None, 32)           2080        ['dropout_2[0][0]']              \n",
      "                                                                                                  \n",
      " dropout_3 (Dropout)            (None, 32)           0           ['dense_3[0][0]']                \n",
      "                                                                                                  \n",
      " dense_4 (Dense)                (None, 16)           528         ['dropout_3[0][0]']              \n",
      "                                                                                                  \n",
      " dropout_4 (Dropout)            (None, 16)           0           ['dense_4[0][0]']                \n",
      "                                                                                                  \n",
      " dense_5 (Dense)                (None, 16)           272         ['dropout_4[0][0]']              \n",
      "                                                                                                  \n",
      " input_2 (InputLayer)           [(None, 1)]          0           []                               \n",
      "                                                                                                  \n",
      " input_3 (InputLayer)           [(None, 1)]          0           []                               \n",
      "                                                                                                  \n",
      " dense_6 (Dense)                (None, 6)            102         ['dense_5[0][0]']                \n",
      "                                                                                                  \n",
      "==================================================================================================\n",
      "Total params: 69,149,706\n",
      "Trainable params: 69,149,706\n",
      "Non-trainable params: 0\n",
      "__________________________________________________________________________________________________\n",
      "None\n",
      "WARNING:tensorflow:Model failed to serialize as JSON. Ignoring... \n",
      "Layer TokenAndPositionEmbedding has arguments ['maxlen', 'vocab_size', 'embed_dim']\n",
      "in `__init__` and therefore must override `get_config()`.\n",
      "\n",
      "Example:\n",
      "\n",
      "class CustomLayer(keras.layers.Layer):\n",
      "    def __init__(self, arg1, arg2):\n",
      "        super().__init__()\n",
      "        self.arg1 = arg1\n",
      "        self.arg2 = arg2\n",
      "\n",
      "    def get_config(self):\n",
      "        config = super().get_config()\n",
      "        config.update({\n",
      "            \"arg1\": self.arg1,\n",
      "            \"arg2\": self.arg2,\n",
      "        })\n",
      "        return config\n",
      "Epoch 1/12\n",
      "24000/24000 [==============================] - 4921s 205ms/step - loss: 1.2208 - categorical_accuracy: 0.4735 - f1_score: 0.4582 - val_loss: 1.1277 - val_categorical_accuracy: 0.4995 - val_f1_score: 0.4784 - lr: 0.0010\n",
      "Epoch 2/12\n",
      "24000/24000 [==============================] - 4925s 205ms/step - loss: 1.0961 - categorical_accuracy: 0.5299 - f1_score: 0.5240 - val_loss: 1.1029 - val_categorical_accuracy: 0.5320 - val_f1_score: 0.5315 - lr: 0.0010\n",
      "Epoch 3/12\n",
      "24000/24000 [==============================] - 4923s 205ms/step - loss: 1.0602 - categorical_accuracy: 0.5462 - f1_score: 0.5419 - val_loss: 1.0830 - val_categorical_accuracy: 0.5313 - val_f1_score: 0.5229 - lr: 0.0010\n",
      "Epoch 4/12\n",
      "24000/24000 [==============================] - 4922s 205ms/step - loss: 1.0357 - categorical_accuracy: 0.5572 - f1_score: 0.5535 - val_loss: 1.0897 - val_categorical_accuracy: 0.5265 - val_f1_score: 0.5105 - lr: 0.0010\n",
      "Epoch 5/12\n",
      "24000/24000 [==============================] - 4925s 205ms/step - loss: 1.0123 - categorical_accuracy: 0.5680 - f1_score: 0.5649 - val_loss: 1.0699 - val_categorical_accuracy: 0.5399 - val_f1_score: 0.5346 - lr: 9.0484e-04\n",
      "Epoch 6/12\n",
      "24000/24000 [==============================] - 4925s 205ms/step - loss: 0.9897 - categorical_accuracy: 0.5786 - f1_score: 0.5759 - val_loss: 1.0565 - val_categorical_accuracy: 0.5479 - val_f1_score: 0.5445 - lr: 8.1873e-04\n",
      "Epoch 7/12\n",
      "24000/24000 [==============================] - 4928s 205ms/step - loss: 0.9672 - categorical_accuracy: 0.5897 - f1_score: 0.5872 - val_loss: 1.0679 - val_categorical_accuracy: 0.5414 - val_f1_score: 0.5366 - lr: 7.4082e-04\n",
      "Epoch 8/12\n",
      "16450/24000 [===================>..........] - ETA: 23:54 - loss: 0.9430 - categorical_accuracy: 0.6007 - f1_score: 0.5987"
     ]
    }
   ],
   "source": [
    "#model_list = [cnn1,cnn2, cnn3,cnn4,cnn5,cnn6, cnn8, cnn9, cnn10]\n",
    "model_list = [transf5]\n",
    "for model_obj in model_list:\n",
    "    model = model_obj.Model(vocabulary2)\n",
    "    chekpoint = keras.callbacks.ModelCheckpoint('checkpoint/trans5', save_weights_only=True,\n",
    "    monitor='val_f1_score',\n",
    "    mode='max',\n",
    "    save_best_only=True)\n",
    "    def scheduler(epoch, lr):\n",
    "        if epoch < 4:\n",
    "            return lr\n",
    "        else:\n",
    "            return lr * tf.math.exp(-0.1)\n",
    "    model.model.compile(optimizer=keras.optimizers.Adamax(learning_rate=0.001),\n",
    "                       loss=keras.losses.categorical_crossentropy,\n",
    "                       metrics=[keras.metrics.categorical_accuracy, tfa.metrics.F1Score(num_classes=6, average='weighted')]\n",
    "                       )\n",
    "    print(model.name)\n",
    "    print(model.model.summary())\n",
    "    if not os.path.exists(f\"logs/{model.name}\"):\n",
    "        os.mkdir(f\"logs/{model.name}\")\n",
    "    tensorboard_callback = tf.keras.callbacks.TensorBoard(log_dir=f\"logs/{model.name}\")\n",
    "    model.run_experiment([train['review_text'], train['n_comments'], train['n_votes']], train['rating'], epochs=12, callbacks=[keras.callbacks.LearningRateScheduler(scheduler,0),tensorboard_callback,chekpoint], batch_size=30)"
   ],
   "metadata": {
    "collapsed": false,
    "pycharm": {
     "is_executing": true
    }
   }
  },
  {
   "cell_type": "code",
   "execution_count": null,
   "outputs": [],
   "source": [
    "model.model.save('transf5')"
   ],
   "metadata": {
    "collapsed": false,
    "pycharm": {
     "is_executing": true
    }
   }
  },
  {
   "cell_type": "code",
   "execution_count": null,
   "outputs": [],
   "source": [],
   "metadata": {
    "collapsed": false,
    "pycharm": {
     "is_executing": true
    }
   }
  }
 ],
 "metadata": {
  "kernelspec": {
   "display_name": "Python 3",
   "language": "python",
   "name": "python3"
  },
  "language_info": {
   "codemirror_mode": {
    "name": "ipython",
    "version": 2
   },
   "file_extension": ".py",
   "mimetype": "text/x-python",
   "name": "python",
   "nbconvert_exporter": "python",
   "pygments_lexer": "ipython2",
   "version": "2.7.6"
  }
 },
 "nbformat": 4,
 "nbformat_minor": 0
}
