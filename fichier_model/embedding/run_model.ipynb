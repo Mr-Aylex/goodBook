{
 "cells": [
  {
   "cell_type": "code",
   "execution_count": 1,
   "metadata": {
    "collapsed": true
   },
   "outputs": [
    {
     "name": "stdout",
     "output_type": "stream",
     "text": [
      "INFO: Pandarallel will run on 16 workers.\n",
      "INFO: Pandarallel will use standard multiprocessing data transfer (pipe) to transfer data between the main process and workers.\n",
      "\n",
      "WARNING: You are on Windows. If you detect any issue with pandarallel, be sure you checked out the Troubleshooting page:\n",
      "https://nalepae.github.io/pandarallel/troubleshooting/\n"
     ]
    }
   ],
   "source": [
    "import tensorflow as tf\n",
    "from tensorflow import keras\n",
    "from tensorflow.keras import regularizers\n",
    "import pandas as pd\n",
    "import numpy as np\n",
    "import os\n",
    "from tqdm.notebook import tqdm\n",
    "from Model import *\n",
    "from sklearn.metrics import classification_report\n",
    "import tensorflow_addons as tfa\n",
    "from keras.utils import io_utils\n",
    "from pandarallel import pandarallel\n",
    "from sklearn.utils import shuffle\n",
    "from sklearn.model_selection import train_test_split\n",
    "pandarallel.initialize(progress_bar=True, nb_workers=16)\n",
    "tqdm.pandas()"
   ]
  },
  {
   "cell_type": "code",
   "execution_count": 2,
   "outputs": [],
   "source": [
    "train = pd.read_csv(\"../../dataset/goodreads_train.csv\")\n",
    "test = pd.read_csv(\"../../dataset/goodreads_test.csv\")\n",
    "vocabulary = np.load('../../vocabulaires/voc_without_std_word_count_5.npy', allow_pickle=True)\n",
    "#train['review_text'] = train['review_text'].str.replace('[^\\w\\s]','')\n",
    "train = shuffle(train)"
   ],
   "metadata": {
    "collapsed": false
   }
  },
  {
   "cell_type": "code",
   "execution_count": 3,
   "outputs": [
    {
     "data": {
      "text/plain": "VBox(children=(HBox(children=(IntProgress(value=0, description='0.00%', max=225000), Label(value='0 / 225000')…",
      "application/vnd.jupyter.widget-view+json": {
       "version_major": 2,
       "version_minor": 0,
       "model_id": "770220bf5ccf4fd781fbcf19f67730a7"
      }
     },
     "metadata": {},
     "output_type": "display_data"
    }
   ],
   "source": [
    "def convert_timestamp(x):\n",
    "    import pandas as pd\n",
    "    if pd.isna(x):#parallel_apply\n",
    "        return 0.0\n",
    "    else:\n",
    "        try:\n",
    "            return float(pd.Timestamp(x).value / 10**18)\n",
    "        except:\n",
    "            return 0\n",
    "train[['read_at','date_added','date_updated' ,'started_at']] = train[['read_at','date_added','date_updated' ,'started_at']].parallel_applymap(convert_timestamp)"
   ],
   "metadata": {
    "collapsed": false
   }
  },
  {
   "cell_type": "code",
   "execution_count": 4,
   "outputs": [],
   "source": [
    "inputs_data = train[['review_text','n_comments', 'n_votes','read_at','date_added','date_updated','started_at']]\n",
    "outputs_data = keras.utils.to_categorical(train['rating'], num_classes=6)\n",
    "train_in, validation_in, train_out, validation_out = train_test_split(inputs_data, outputs_data, test_size=0.2)"
   ],
   "metadata": {
    "collapsed": false
   }
  },
  {
   "cell_type": "code",
   "execution_count": 5,
   "outputs": [],
   "source": [
    "train_in = [train_in['review_text'], train_in['n_comments'], train_in['n_votes'], train_in['read_at'], train_in['date_added'], train_in['date_updated'], train_in['started_at']]\n",
    "validation_in = [validation_in['review_text'], validation_in['n_comments'], validation_in['n_votes'], validation_in['read_at'], validation_in['date_added'], validation_in['date_updated'], validation_in['started_at']]"
   ],
   "metadata": {
    "collapsed": false
   }
  },
  {
   "cell_type": "code",
   "execution_count": 6,
   "outputs": [
    {
     "name": "stdout",
     "output_type": "stream",
     "text": [
      "cnn1\n",
      "Epoch 1/8\n",
      "5625/5625 [==============================] - 84s 14ms/step - loss: 1.0599 - categorical_accuracy: 0.5436 - f1_score: 0.5382 - val_loss: 0.9866 - val_categorical_accuracy: 0.5777 - val_f1_score: 0.5713 - lr: 0.0100\n",
      "Epoch 2/8\n",
      "5625/5625 [==============================] - 81s 14ms/step - loss: 0.9528 - categorical_accuracy: 0.5918 - f1_score: 0.5896 - val_loss: 0.9566 - val_categorical_accuracy: 0.5916 - val_f1_score: 0.5888 - lr: 0.0082\n",
      "Epoch 3/8\n",
      "5625/5625 [==============================] - 81s 14ms/step - loss: 0.9136 - categorical_accuracy: 0.6097 - f1_score: 0.6080 - val_loss: 0.9484 - val_categorical_accuracy: 0.5965 - val_f1_score: 0.5931 - lr: 0.0067\n",
      "Epoch 4/8\n",
      "5625/5625 [==============================] - 80s 14ms/step - loss: 0.8816 - categorical_accuracy: 0.6253 - f1_score: 0.6238 - val_loss: 0.9428 - val_categorical_accuracy: 0.5975 - val_f1_score: 0.5963 - lr: 0.0055\n",
      "Epoch 5/8\n",
      "5625/5625 [==============================] - 81s 14ms/step - loss: 0.8521 - categorical_accuracy: 0.6393 - f1_score: 0.6381 - val_loss: 0.9670 - val_categorical_accuracy: 0.5893 - val_f1_score: 0.5897 - lr: 0.0045\n",
      "Epoch 6/8\n",
      "5625/5625 [==============================] - 81s 14ms/step - loss: 0.8243 - categorical_accuracy: 0.6531 - f1_score: 0.6521 - val_loss: 0.9551 - val_categorical_accuracy: 0.5979 - val_f1_score: 0.5957 - lr: 0.0037\n",
      "Epoch 7/8\n",
      "5625/5625 [==============================] - 81s 14ms/step - loss: 0.7965 - categorical_accuracy: 0.6673 - f1_score: 0.6664 - val_loss: 0.9716 - val_categorical_accuracy: 0.5964 - val_f1_score: 0.5941 - lr: 0.0030\n",
      "Epoch 8/8\n",
      "5625/5625 [==============================] - 78s 14ms/step - loss: 0.7689 - categorical_accuracy: 0.6815 - f1_score: 0.6806 - val_loss: 0.9887 - val_categorical_accuracy: 0.5910 - val_f1_score: 0.5903 - lr: 0.0025\n",
      "cnn2\n",
      "Epoch 1/8\n",
      "5625/5625 [==============================] - 81s 14ms/step - loss: 1.0558 - categorical_accuracy: 0.5441 - f1_score: 0.5389 - val_loss: 0.9796 - val_categorical_accuracy: 0.5813 - val_f1_score: 0.5765 - lr: 0.0100\n",
      "Epoch 2/8\n",
      "5625/5625 [==============================] - 88s 16ms/step - loss: 0.9489 - categorical_accuracy: 0.5939 - f1_score: 0.5916 - val_loss: 0.9511 - val_categorical_accuracy: 0.5938 - val_f1_score: 0.5910 - lr: 0.0082\n",
      "Epoch 3/8\n",
      "5625/5625 [==============================] - 87s 15ms/step - loss: 0.9074 - categorical_accuracy: 0.6130 - f1_score: 0.6112 - val_loss: 0.9479 - val_categorical_accuracy: 0.5961 - val_f1_score: 0.5919 - lr: 0.0067\n",
      "Epoch 4/8\n",
      "5625/5625 [==============================] - 82s 15ms/step - loss: 0.8722 - categorical_accuracy: 0.6296 - f1_score: 0.6281 - val_loss: 0.9434 - val_categorical_accuracy: 0.5997 - val_f1_score: 0.5989 - lr: 0.0055\n",
      "Epoch 5/8\n",
      "5625/5625 [==============================] - 84s 15ms/step - loss: 0.8364 - categorical_accuracy: 0.6469 - f1_score: 0.6458 - val_loss: 0.9601 - val_categorical_accuracy: 0.5919 - val_f1_score: 0.5927 - lr: 0.0045\n",
      "Epoch 6/8\n",
      "5625/5625 [==============================] - 79s 14ms/step - loss: 0.8014 - categorical_accuracy: 0.6645 - f1_score: 0.6636 - val_loss: 0.9710 - val_categorical_accuracy: 0.5967 - val_f1_score: 0.5926 - lr: 0.0037\n",
      "Epoch 7/8\n",
      "5625/5625 [==============================] - 79s 14ms/step - loss: 0.7653 - categorical_accuracy: 0.6828 - f1_score: 0.6820 - val_loss: 0.9792 - val_categorical_accuracy: 0.5957 - val_f1_score: 0.5937 - lr: 0.0030\n",
      "Epoch 8/8\n",
      "5625/5625 [==============================] - 78s 14ms/step - loss: 0.7284 - categorical_accuracy: 0.7018 - f1_score: 0.7011 - val_loss: 1.0230 - val_categorical_accuracy: 0.5887 - val_f1_score: 0.5884 - lr: 0.0025\n",
      "cnn3\n",
      "Epoch 1/8\n",
      "5625/5625 [==============================] - 84s 15ms/step - loss: 1.0591 - categorical_accuracy: 0.5440 - f1_score: 0.5388 - val_loss: 0.9952 - val_categorical_accuracy: 0.5729 - val_f1_score: 0.5657 - lr: 0.0100\n",
      "Epoch 2/8\n",
      "5625/5625 [==============================] - 83s 15ms/step - loss: 0.9516 - categorical_accuracy: 0.5926 - f1_score: 0.5902 - val_loss: 0.9588 - val_categorical_accuracy: 0.5927 - val_f1_score: 0.5906 - lr: 0.0082\n",
      "Epoch 3/8\n",
      "5625/5625 [==============================] - 85s 15ms/step - loss: 0.9087 - categorical_accuracy: 0.6123 - f1_score: 0.6107 - val_loss: 0.9648 - val_categorical_accuracy: 0.5860 - val_f1_score: 0.5786 - lr: 0.0067\n",
      "Epoch 4/8\n",
      "5625/5625 [==============================] - 83s 15ms/step - loss: 0.8719 - categorical_accuracy: 0.6296 - f1_score: 0.6283 - val_loss: 0.9512 - val_categorical_accuracy: 0.5947 - val_f1_score: 0.5950 - lr: 0.0055\n",
      "Epoch 5/8\n",
      "5625/5625 [==============================] - 87s 16ms/step - loss: 0.8360 - categorical_accuracy: 0.6477 - f1_score: 0.6466 - val_loss: 0.9542 - val_categorical_accuracy: 0.5945 - val_f1_score: 0.5949 - lr: 0.0045\n",
      "Epoch 6/8\n",
      "5625/5625 [==============================] - 82s 15ms/step - loss: 0.7982 - categorical_accuracy: 0.6656 - f1_score: 0.6647 - val_loss: 0.9705 - val_categorical_accuracy: 0.5975 - val_f1_score: 0.5936 - lr: 0.0037\n",
      "Epoch 7/8\n",
      "5625/5625 [==============================] - 82s 15ms/step - loss: 0.7596 - categorical_accuracy: 0.6856 - f1_score: 0.6848 - val_loss: 0.9939 - val_categorical_accuracy: 0.5965 - val_f1_score: 0.5946 - lr: 0.0030\n",
      "Epoch 8/8\n",
      "5625/5625 [==============================] - 80s 14ms/step - loss: 0.7199 - categorical_accuracy: 0.7060 - f1_score: 0.7053 - val_loss: 1.0306 - val_categorical_accuracy: 0.5874 - val_f1_score: 0.5872 - lr: 0.0025\n",
      "cnn4\n",
      "Epoch 1/8\n",
      "5625/5625 [==============================] - 111s 20ms/step - loss: 1.0490 - categorical_accuracy: 0.5489 - f1_score: 0.5443 - val_loss: 1.0095 - val_categorical_accuracy: 0.5716 - val_f1_score: 0.5634 - lr: 0.0100\n",
      "Epoch 2/8\n",
      "5625/5625 [==============================] - 103s 18ms/step - loss: 0.9509 - categorical_accuracy: 0.5932 - f1_score: 0.5908 - val_loss: 0.9608 - val_categorical_accuracy: 0.5907 - val_f1_score: 0.5861 - lr: 0.0082\n",
      "Epoch 3/8\n",
      "5625/5625 [==============================] - 118s 21ms/step - loss: 0.9083 - categorical_accuracy: 0.6126 - f1_score: 0.6110 - val_loss: 0.9608 - val_categorical_accuracy: 0.5877 - val_f1_score: 0.5803 - lr: 0.0067\n",
      "Epoch 4/8\n",
      "5625/5625 [==============================] - 111s 20ms/step - loss: 0.8712 - categorical_accuracy: 0.6303 - f1_score: 0.6290 - val_loss: 0.9480 - val_categorical_accuracy: 0.5969 - val_f1_score: 0.5964 - lr: 0.0055\n",
      "Epoch 5/8\n",
      "5625/5625 [==============================] - 83s 15ms/step - loss: 0.8346 - categorical_accuracy: 0.6484 - f1_score: 0.6474 - val_loss: 0.9570 - val_categorical_accuracy: 0.5946 - val_f1_score: 0.5945 - lr: 0.0045\n",
      "Epoch 6/8\n",
      "5625/5625 [==============================] - 83s 15ms/step - loss: 0.7969 - categorical_accuracy: 0.6675 - f1_score: 0.6667 - val_loss: 0.9763 - val_categorical_accuracy: 0.5978 - val_f1_score: 0.5950 - lr: 0.0037\n",
      "Epoch 7/8\n",
      "5625/5625 [==============================] - 87s 15ms/step - loss: 0.7574 - categorical_accuracy: 0.6871 - f1_score: 0.6864 - val_loss: 0.9980 - val_categorical_accuracy: 0.5943 - val_f1_score: 0.5922 - lr: 0.0030\n",
      "Epoch 8/8\n",
      "5625/5625 [==============================] - 84s 15ms/step - loss: 0.7168 - categorical_accuracy: 0.7083 - f1_score: 0.7077 - val_loss: 1.0217 - val_categorical_accuracy: 0.5892 - val_f1_score: 0.5878 - lr: 0.0025\n"
     ]
    }
   ],
   "source": [
    "model_list = [cnn1, cnn2, cnn3, cnn4]\n",
    "\n",
    "params=[\n",
    "    {\"dropout_rate\": .0,\"kernel_regularizer\": None, \"bias_regularizer\": None, \"activity_regularizer\": None},\n",
    "]\n",
    "\n",
    "def scheduler(epoch, lr):\n",
    "    if epoch < 1:\n",
    "        return lr\n",
    "    else:\n",
    "        return lr * tf.math.exp(-0.2)\n",
    "seeds = [42]\n",
    "for seed in seeds:\n",
    "    keras.utils.set_random_seed(seed)\n",
    "    for model_obj in model_list:\n",
    "        for param in params:\n",
    "\n",
    "            dropout_rate = param['dropout_rate']\n",
    "            kernel_regularizer = param['kernel_regularizer']\n",
    "            bias_regularizer = param['bias_regularizer']\n",
    "            activity_regularizer = param['activity_regularizer']\n",
    "\n",
    "            if kernel_regularizer is None:\n",
    "                regularizers_ = \"None\"\n",
    "            else:\n",
    "                regularizers_ = \"L1L2\"\n",
    "            if dropout_rate == .0:\n",
    "                dropout = \"0\"\n",
    "            else:\n",
    "                dropout = f\"{dropout_rate}\"\n",
    "\n",
    "            model = model_obj.model(vocabulary, dropout_rate, kernel_regularizer, bias_regularizer, activity_regularizer)\n",
    "            model.compile(optimizer=keras.optimizers.Adamax(learning_rate=0.01),\n",
    "                           loss=keras.losses.categorical_crossentropy,\n",
    "                           metrics=[keras.metrics.categorical_accuracy, tfa.metrics.F1Score(num_classes=6, average='weighted')]\n",
    "                           )\n",
    "            print(model.name)\n",
    "\n",
    "            if not os.path.exists(f\"checkpoint/{model.name}/\"):\n",
    "                os.mkdir(f\"checkpoint/{model.name}\")\n",
    "            if not os.path.exists(f\"checkpoint/{model.name}/{seed}/\"):\n",
    "                os.mkdir(f\"checkpoint/{model.name}/{seed}/\")\n",
    "            if not os.path.exists(f\"checkpoint/{model.name}/{seed}/{dropout}\"):\n",
    "                os.mkdir(f\"checkpoint/{model.name}/{seed}/{dropout}\")\n",
    "            if not os.path.exists(f\"checkpoint/{model.name}/{seed}/{dropout}/{regularizers_}\"):\n",
    "                os.mkdir(f\"checkpoint/{model.name}/{seed}/{dropout}/{regularizers_}\")\n",
    "\n",
    "            if not os.path.exists(f\"logs/{model.name}/\"):\n",
    "                os.mkdir(f\"logs/{model.name}\")\n",
    "            if not os.path.exists(f\"logs/{model.name}/{seed}/\"):\n",
    "                os.mkdir(f\"logs/{model.name}/{seed}/\")\n",
    "            if not os.path.exists(f\"logs/{model.name}/{seed}/{dropout}\"):\n",
    "                os.mkdir(f\"logs/{model.name}/{seed}/{dropout}\")\n",
    "            if not os.path.exists(f\"logs/{model.name}/{seed}/{dropout}/{regularizers_}\"):\n",
    "                os.mkdir(f\"logs/{model.name}/{seed}/{dropout}/{regularizers_}\")\n",
    "\n",
    "            # if not os.path.exists(f\"logs/{model.name}/{epsilone}\"):\n",
    "            #     os.mkdir(f\"logs/{model.name}/{epsilone}\")\n",
    "\n",
    "            chekpoint = keras.callbacks.ModelCheckpoint(f'checkpoint/{model.name}/{seed}/{dropout}/{regularizers_}/model.h5',\n",
    "            monitor='val_f1_score', mode='max', save_best_only=True)\n",
    "\n",
    "            sheduler = keras.callbacks.LearningRateScheduler(scheduler,0)\n",
    "            stop_nan = keras.callbacks.TerminateOnNaN()\n",
    "\n",
    "            tensorboard_callback = tf.keras.callbacks.TensorBoard(log_dir=f\"logs/{model.name}/{seed}/{dropout}/{regularizers_}/\")\n",
    "            #tensorboard_callback = tf.keras.callbacks.TensorBoard(log_dir=f\"logs/{model.name}/{seed}/{epsilone}/\")\n",
    "            model.fit(x=train_in, y=train_out, validation_data=(validation_in, validation_out), batch_size=128, epochs=8, callbacks=[sheduler, stop_nan, chekpoint, tensorboard_callback])"
   ],
   "metadata": {
    "collapsed": false
   }
  },
  {
   "cell_type": "code",
   "execution_count": null,
   "outputs": [],
   "source": [],
   "metadata": {
    "collapsed": false
   }
  },
  {
   "cell_type": "code",
   "execution_count": null,
   "outputs": [],
   "source": [
    "res = model.predict(train_in)"
   ],
   "metadata": {
    "collapsed": false
   }
  },
  {
   "cell_type": "code",
   "execution_count": null,
   "outputs": [],
   "source": [
    "val_res = model.predict(validation_in)"
   ],
   "metadata": {
    "collapsed": false
   }
  },
  {
   "cell_type": "code",
   "execution_count": null,
   "outputs": [],
   "source": [
    "val_out = np.argmax(validation_out, axis=1)\n",
    "train_out = np.argmax(train_out, axis=1)\n"
   ],
   "metadata": {
    "collapsed": false
   }
  },
  {
   "cell_type": "code",
   "execution_count": null,
   "outputs": [],
   "source": [
    "test[['read_at','date_added','date_updated' ,'started_at']] = test[['read_at','date_added','date_updated' ,'started_at']].parallel_applymap(convert_timestamp)\n",
    "\n",
    "test_data = [test['review_text'], test['n_comments'], test['n_votes'], test['read_at'], test['date_added'], test['date_updated'], test['started_at']]\n",
    "restest = model.predict(test_data)"
   ],
   "metadata": {
    "collapsed": false
   }
  },
  {
   "cell_type": "code",
   "execution_count": null,
   "outputs": [],
   "source": [
    "ff = []\n",
    "for line in tqdm(val_res):\n",
    "    tmp = -2\n",
    "    category = None\n",
    "    for i in (range(6)):\n",
    "        if line[i] > tmp:\n",
    "            category = i\n",
    "            tmp = line[i]\n",
    "    ff.append(category)\n",
    "val_data = np.array(ff)\n",
    "\n",
    "ff = []\n",
    "for line in tqdm(restest):\n",
    "    tmp = -2\n",
    "    category = None\n",
    "    for i in (range(6)):\n",
    "        if line[i] > tmp:\n",
    "            category = i\n",
    "            tmp = line[i]\n",
    "    ff.append(category)\n",
    "test_data = np.array(ff)\n",
    "\n",
    "ff = []\n",
    "for line in tqdm(res):\n",
    "    tmp = -2\n",
    "    category = None\n",
    "    for i in (range(6)):\n",
    "        if line[i] > tmp:\n",
    "            category = i\n",
    "            tmp = line[i]\n",
    "    ff.append(category)\n",
    "train_data = np.array(ff)"
   ],
   "metadata": {
    "collapsed": false
   }
  },
  {
   "cell_type": "code",
   "execution_count": null,
   "outputs": [],
   "source": [
    "print(classification_report(train_out, train_data))"
   ],
   "metadata": {
    "collapsed": false
   }
  },
  {
   "cell_type": "code",
   "execution_count": null,
   "outputs": [],
   "source": [
    "print(classification_report(val_out, val_data))"
   ],
   "metadata": {
    "collapsed": false
   }
  },
  {
   "cell_type": "code",
   "execution_count": null,
   "outputs": [],
   "source": [
    "test['rating'] = test_data\n",
    "\n",
    "id = test['review_id'].to_numpy()\n",
    "rating = test['rating'].to_numpy()\n",
    "df = pd.DataFrame( columns=['review_id', 'rating'])\n",
    "df['review_id'] = id\n",
    "df['rating'] = rating"
   ],
   "metadata": {
    "collapsed": false
   }
  },
  {
   "cell_type": "code",
   "execution_count": null,
   "outputs": [],
   "source": [
    "df.to_csv('submission_unet5_embedding_class_weights_model.csv',index=False)"
   ],
   "metadata": {
    "collapsed": false
   }
  },
  {
   "cell_type": "code",
   "execution_count": null,
   "outputs": [],
   "source": [
    "model.model.save('unet5')"
   ],
   "metadata": {
    "collapsed": false
   }
  },
  {
   "cell_type": "code",
   "execution_count": null,
   "outputs": [],
   "source": [],
   "metadata": {
    "collapsed": false
   }
  }
 ],
 "metadata": {
  "kernelspec": {
   "display_name": "Python 3",
   "language": "python",
   "name": "python3"
  },
  "language_info": {
   "codemirror_mode": {
    "name": "ipython",
    "version": 2
   },
   "file_extension": ".py",
   "mimetype": "text/x-python",
   "name": "python",
   "nbconvert_exporter": "python",
   "pygments_lexer": "ipython2",
   "version": "2.7.6"
  }
 },
 "nbformat": 4,
 "nbformat_minor": 0
}
