{
 "cells": [
  {
   "cell_type": "code",
   "execution_count": 1,
   "metadata": {
    "collapsed": true
   },
   "outputs": [],
   "source": [
    "import tensorflow as tf\n",
    "from tensorflow import keras\n",
    "import pandas as pd\n",
    "import numpy as np\n",
    "import os\n",
    "from tqdm.notebook import tqdm\n",
    "from Model import *\n",
    "import tensorflow_addons as tfa\n",
    "from sklearn.metrics import classification_report"
   ]
  },
  {
   "cell_type": "code",
   "execution_count": 1,
   "outputs": [],
   "source": [],
   "metadata": {
    "collapsed": false
   }
  },
  {
   "cell_type": "code",
   "execution_count": 2,
   "outputs": [],
   "source": [
    "train = pd.read_csv(\"../../dataset/goodreads_train.csv\")\n",
    "test = pd.read_csv(\"../../dataset/goodreads_test.csv\")\n",
    "vocabulary2 = np.load('../../vocabulaires/voc_without_std_word_count_5.npy', allow_pickle=True)"
   ],
   "metadata": {
    "collapsed": false
   }
  },
  {
   "cell_type": "code",
   "execution_count": 3,
   "outputs": [],
   "source": [
    "# lenght = 0\n",
    "# list_word = []\n",
    "# list_weight = []\n",
    "# with open('../dataset/glove.6B.300d.txt', encoding='utf-8') as f:\n",
    "#     for line in tqdm(f):\n",
    "#         values = line.split()\n",
    "#         word = values[0]#.replace('<','').replace('>', '')\n",
    "#         coefs = values[1:]\n",
    "#         if len(coefs) == 300:\n",
    "#             #list_weight.append(coefs)\n",
    "#             list_word.append(word)\n",
    "#             lenght += 1\n",
    "#         else:\n",
    "#             print(\"incorect dim\")"
   ],
   "metadata": {
    "collapsed": false
   }
  },
  {
   "cell_type": "code",
   "execution_count": 4,
   "outputs": [
    {
     "name": "stdout",
     "output_type": "stream",
     "text": [
      "unet1\n",
      "Epoch 1/9\n",
      "12000/12000 [==============================] - 212s 17ms/step - loss: 1.1997 - categorical_accuracy: 0.4869 - f1_score: 0.4671 - val_loss: 1.0371 - val_categorical_accuracy: 0.5542 - val_f1_score: 0.5336 - lr: 0.0010\n",
      "Epoch 2/9\n",
      "12000/12000 [==============================] - 207s 17ms/step - loss: 1.0472 - categorical_accuracy: 0.5552 - f1_score: 0.5444 - val_loss: 1.0000 - val_categorical_accuracy: 0.5718 - val_f1_score: 0.5622 - lr: 0.0010\n",
      "Epoch 3/9\n",
      "12000/12000 [==============================] - 205s 17ms/step - loss: 1.0072 - categorical_accuracy: 0.5737 - f1_score: 0.5660 - val_loss: 0.9846 - val_categorical_accuracy: 0.5775 - val_f1_score: 0.5686 - lr: 0.0010\n",
      "Epoch 4/9\n",
      "12000/12000 [==============================] - 208s 17ms/step - loss: 0.9804 - categorical_accuracy: 0.5863 - f1_score: 0.5801 - val_loss: 0.9737 - val_categorical_accuracy: 0.5835 - val_f1_score: 0.5768 - lr: 0.0010\n",
      "Epoch 5/9\n",
      "12000/12000 [==============================] - 210s 18ms/step - loss: 0.9548 - categorical_accuracy: 0.5971 - f1_score: 0.5915 - val_loss: 0.9710 - val_categorical_accuracy: 0.5854 - val_f1_score: 0.5821 - lr: 9.0484e-04\n",
      "Epoch 6/9\n",
      "12000/12000 [==============================] - 208s 17ms/step - loss: 0.9312 - categorical_accuracy: 0.6090 - f1_score: 0.6042 - val_loss: 0.9699 - val_categorical_accuracy: 0.5859 - val_f1_score: 0.5823 - lr: 8.1873e-04\n",
      "Epoch 7/9\n",
      "12000/12000 [==============================] - 210s 17ms/step - loss: 0.9090 - categorical_accuracy: 0.6195 - f1_score: 0.6153 - val_loss: 0.9776 - val_categorical_accuracy: 0.5868 - val_f1_score: 0.5821 - lr: 7.4082e-04\n",
      "Epoch 8/9\n",
      "12000/12000 [==============================] - 210s 18ms/step - loss: 0.8870 - categorical_accuracy: 0.6313 - f1_score: 0.6273 - val_loss: 1.0031 - val_categorical_accuracy: 0.5804 - val_f1_score: 0.5730 - lr: 6.7032e-04\n",
      "Epoch 9/9\n",
      "12000/12000 [==============================] - 209s 17ms/step - loss: 0.8660 - categorical_accuracy: 0.6419 - f1_score: 0.6383 - val_loss: 1.0048 - val_categorical_accuracy: 0.5808 - val_f1_score: 0.5770 - lr: 6.0653e-04\n",
      "unet1\n",
      "Epoch 1/9\n",
      "12000/12000 [==============================] - 213s 18ms/step - loss: 1.2137 - categorical_accuracy: 0.4824 - f1_score: 0.4601 - val_loss: 1.0486 - val_categorical_accuracy: 0.5543 - val_f1_score: 0.5399 - lr: 0.0010\n",
      "Epoch 2/9\n",
      "12000/12000 [==============================] - 210s 18ms/step - loss: 1.0598 - categorical_accuracy: 0.5513 - f1_score: 0.5402 - val_loss: 1.0206 - val_categorical_accuracy: 0.5642 - val_f1_score: 0.5567 - lr: 0.0010\n",
      "Epoch 3/9\n",
      "12000/12000 [==============================] - 208s 17ms/step - loss: 1.0163 - categorical_accuracy: 0.5702 - f1_score: 0.5626 - val_loss: 0.9863 - val_categorical_accuracy: 0.5805 - val_f1_score: 0.5758 - lr: 0.0010\n",
      "Epoch 4/9\n",
      "12000/12000 [==============================] - 206s 17ms/step - loss: 0.9865 - categorical_accuracy: 0.5826 - f1_score: 0.5768 - val_loss: 0.9949 - val_categorical_accuracy: 0.5741 - val_f1_score: 0.5719 - lr: 0.0010\n",
      "Epoch 5/9\n",
      "12000/12000 [==============================] - 206s 17ms/step - loss: 0.9586 - categorical_accuracy: 0.5958 - f1_score: 0.5907 - val_loss: 0.9831 - val_categorical_accuracy: 0.5780 - val_f1_score: 0.5755 - lr: 9.0484e-04\n",
      "Epoch 6/9\n",
      "12000/12000 [==============================] - 206s 17ms/step - loss: 0.9324 - categorical_accuracy: 0.6080 - f1_score: 0.6037 - val_loss: 0.9775 - val_categorical_accuracy: 0.5857 - val_f1_score: 0.5837 - lr: 8.1873e-04\n",
      "Epoch 7/9\n",
      "12000/12000 [==============================] - 206s 17ms/step - loss: 0.9072 - categorical_accuracy: 0.6202 - f1_score: 0.6164 - val_loss: 0.9791 - val_categorical_accuracy: 0.5845 - val_f1_score: 0.5816 - lr: 7.4082e-04\n",
      "Epoch 8/9\n",
      "12000/12000 [==============================] - 206s 17ms/step - loss: 0.8808 - categorical_accuracy: 0.6334 - f1_score: 0.6299 - val_loss: 1.0422 - val_categorical_accuracy: 0.5633 - val_f1_score: 0.5591 - lr: 6.7032e-04\n",
      "Epoch 9/9\n",
      "12000/12000 [==============================] - 207s 17ms/step - loss: 0.8559 - categorical_accuracy: 0.6462 - f1_score: 0.6430 - val_loss: 1.0119 - val_categorical_accuracy: 0.5789 - val_f1_score: 0.5758 - lr: 6.0653e-04\n"
     ]
    }
   ],
   "source": [
    "#model_list = [cnn1,cnn2, cnn3,cnn4,cnn5,cnn6, cnn8, cnn9, cnn10]\n",
    "model_list = [unet1]\n",
    "def scheduler(epoch, lr):\n",
    "    if epoch < 4:\n",
    "        return lr\n",
    "    else:\n",
    "        return lr * tf.math.exp(-0.1)\n",
    "for seed in [8,5]:\n",
    "    keras.utils.set_random_seed(seed)\n",
    "    for model_obj in model_list:\n",
    "        model = model_obj.Model(vocabulary2)\n",
    "        model.model.compile(optimizer=keras.optimizers.Adamax(learning_rate=0.001),\n",
    "                           loss=keras.losses.categorical_crossentropy,\n",
    "                           metrics=[keras.metrics.categorical_accuracy, tfa.metrics.F1Score(num_classes=6, average='weighted')]\n",
    "                           )\n",
    "        print(model.name)\n",
    "        #print(model.model.summary())\n",
    "        if not os.path.exists(f\"logs/{model.name}\"):\n",
    "            os.mkdir(f\"logs/{model.name}\")\n",
    "        tensorboard_callback = tf.keras.callbacks.TensorBoard(log_dir=f\"logs/{model.name}\")\n",
    "        model.run_experiment([train['review_text'], train['n_comments'], train['n_votes']], train['rating'], epochs=9, callbacks=[keras.callbacks.LearningRateScheduler(scheduler,0)], batch_size=60, validation_split=0.2)"
   ],
   "metadata": {
    "collapsed": false
   }
  },
  {
   "cell_type": "code",
   "execution_count": 5,
   "outputs": [
    {
     "name": "stdout",
     "output_type": "stream",
     "text": [
      "28125/28125 [==============================] - 164s 6ms/step\n"
     ]
    }
   ],
   "source": [
    "res = model.model.predict([train['review_text'], train['n_comments'], train['n_votes']])"
   ],
   "metadata": {
    "collapsed": false
   }
  },
  {
   "cell_type": "code",
   "execution_count": null,
   "outputs": [],
   "source": [
    "restest = model.model.predict([test['review_text'], test['n_comments'], test['n_votes']])"
   ],
   "metadata": {
    "collapsed": false
   }
  },
  {
   "cell_type": "code",
   "execution_count": null,
   "outputs": [],
   "source": [
    "ff = []\n",
    "for line in tqdm(restest):\n",
    "    tmp = -2\n",
    "    category = None\n",
    "    for i in (range(6)):\n",
    "        if line[i] > tmp:\n",
    "            category = i\n",
    "            tmp = line[i]\n",
    "    ff.append(category)\n",
    "test_data = np.array(ff)\n",
    "\n",
    "ff = []\n",
    "for line in tqdm(res):\n",
    "    tmp = -2\n",
    "    category = None\n",
    "    for i in (range(6)):\n",
    "        if line[i] > tmp:\n",
    "            category = i\n",
    "            tmp = line[i]\n",
    "    ff.append(category)\n",
    "train_data = np.array(ff)"
   ],
   "metadata": {
    "collapsed": false
   }
  },
  {
   "cell_type": "code",
   "execution_count": null,
   "outputs": [],
   "source": [
    "\n",
    "print(classification_report(train['rating'], train_data))"
   ],
   "metadata": {
    "collapsed": false
   }
  },
  {
   "cell_type": "code",
   "execution_count": null,
   "outputs": [],
   "source": [
    "test['rating'] = test_data\n",
    "\n",
    "id = test['review_id'].to_numpy()\n",
    "rating = test['rating'].to_numpy()\n",
    "df = pd.DataFrame( columns=['review_id', 'rating'])\n",
    "df['review_id'] = id\n",
    "df['rating'] = rating"
   ],
   "metadata": {
    "collapsed": false
   }
  },
  {
   "cell_type": "code",
   "execution_count": null,
   "outputs": [],
   "source": [
    "df.to_csv('submission_unet1_embedding_class_weights_model.csv',index=False )\n"
   ],
   "metadata": {
    "collapsed": false
   }
  },
  {
   "cell_type": "code",
   "execution_count": null,
   "outputs": [],
   "source": [],
   "metadata": {
    "collapsed": false
   }
  }
 ],
 "metadata": {
  "kernelspec": {
   "display_name": "Python 3",
   "language": "python",
   "name": "python3"
  },
  "language_info": {
   "codemirror_mode": {
    "name": "ipython",
    "version": 2
   },
   "file_extension": ".py",
   "mimetype": "text/x-python",
   "name": "python",
   "nbconvert_exporter": "python",
   "pygments_lexer": "ipython2",
   "version": "2.7.6"
  }
 },
 "nbformat": 4,
 "nbformat_minor": 0
}
