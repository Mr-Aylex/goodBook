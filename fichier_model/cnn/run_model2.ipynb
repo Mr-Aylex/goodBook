{
 "cells": [
  {
   "cell_type": "code",
   "execution_count": 1,
   "metadata": {
    "collapsed": true
   },
   "outputs": [],
   "source": [
    "import tensorflow as tf\n",
    "from tensorflow import keras\n",
    "import pandas as pd\n",
    "import numpy as np\n",
    "import os\n",
    "from tqdm.notebook import tqdm\n",
    "from Model import *\n",
    "import tensorflow_addons as tfa\n",
    "from sklearn.metrics import classification_report"
   ]
  },
  {
   "cell_type": "code",
   "execution_count": 1,
   "outputs": [],
   "source": [],
   "metadata": {
    "collapsed": false
   }
  },
  {
   "cell_type": "code",
   "execution_count": 2,
   "outputs": [],
   "source": [
    "train = pd.read_csv(\"../../dataset/goodreads_train.csv\")\n",
    "test = pd.read_csv(\"../../dataset/goodreads_test.csv\")\n",
    "vocabulary2 = np.load('../../vocabulaires/voc_without_std_word_count_5.npy', allow_pickle=True)"
   ],
   "metadata": {
    "collapsed": false
   }
  },
  {
   "cell_type": "code",
   "execution_count": 6,
   "outputs": [
    {
     "data": {
      "text/plain": "                                 user_id   book_id  \\\n1       8842281e1d1347389f2ab93d60773d4d     16981   \n2       8842281e1d1347389f2ab93d60773d4d  28684704   \n13      8842281e1d1347389f2ab93d60773d4d  16158596   \n16      8842281e1d1347389f2ab93d60773d4d  17860739   \n21      8842281e1d1347389f2ab93d60773d4d  12953520   \n...                                  ...       ...   \n899994  b9450d1c1f97f891c392b1105959b56e  12991245   \n899995  b9450d1c1f97f891c392b1105959b56e  11832081   \n899997  b9450d1c1f97f891c392b1105959b56e   8430896   \n899998  b9450d1c1f97f891c392b1105959b56e  12275680   \n899999  b9450d1c1f97f891c392b1105959b56e     17005   \n\n                               review_id  rating  \\\n1       a5d2c3628987712d0e05c4f90798eb67       3   \n2       2ede853b14dc4583f96cf5d120af636f       3   \n13      6ff8bbc4856aa403bbd8990407c9c77a       0   \n16      022bb6daffa49adc27f6b20b6ebeb37d       4   \n21      8666dfd554e310084c4bc72b2d357f3d       4   \n...                                  ...     ...   \n899994  ae4232f6979aa78c54cc3111ee1b9dc5       5   \n899995  7c34c15ad8cb28a4afca32946e2016ea       3   \n899997  feb9fe6439f9fbba8a1cce36020ad977       4   \n899998  741e29369f70531bfffbd02add86f228       4   \n899999  d55f3a967230940e75a314700caec9a5       3   \n\n                                              review_text  \\\n1       Recommended by Don Katz. Avail for free in Dec...   \n2       A fun, fast paced science fiction thriller. I ...   \n13                            Recommended by David Risher   \n16      An amazing and unique creation: JJ Abrams and ...   \n21      A hilarious romp through the known and unknown...   \n...                                                   ...   \n899994  Whew, this book is freaking brilliant! \\n I he...   \n899995  3.5 stars. \\n Jenna is a popular YA author and...   \n899997  ** spoiler alert ** \\n 3.5 stars. \\n This book...   \n899998  ** spoiler alert ** \\n Another fun read from M...   \n899999  ** spoiler alert ** \\n 3.5 stars \\n I liked it...   \n\n                            date_added                    date_updated  \\\n1       Mon Dec 05 10:46:44 -0800 2016  Wed Mar 22 11:37:04 -0700 2017   \n2       Tue Nov 15 11:29:22 -0800 2016  Mon Mar 20 23:40:27 -0700 2017   \n13      Mon Jul 07 10:56:15 -0700 2014  Mon Jul 07 10:56:39 -0700 2014   \n16      Wed Mar 26 13:51:30 -0700 2014  Tue Sep 23 01:44:36 -0700 2014   \n21      Tue Jul 10 20:26:21 -0700 2012  Wed Sep 12 23:32:04 -0700 2012   \n...                                ...                             ...   \n899994  Mon Nov 19 00:03:10 -0800 2012  Tue Nov 20 10:39:18 -0800 2012   \n899995  Fri Nov 16 22:10:17 -0800 2012  Sat Nov 17 22:42:44 -0800 2012   \n899997  Tue Nov 13 05:38:24 -0800 2012  Tue Nov 13 23:29:17 -0800 2012   \n899998  Mon Nov 12 05:42:30 -0800 2012  Tue Nov 13 22:32:05 -0800 2012   \n899999  Sun Nov 11 00:05:43 -0800 2012  Sun Nov 11 21:59:08 -0800 2012   \n\n                               read_at                      started_at  \\\n1                                  NaN                             NaN   \n2       Sat Mar 18 23:22:42 -0700 2017  Fri Mar 17 23:45:40 -0700 2017   \n13                                 NaN                             NaN   \n16      Sun Sep 21 00:00:00 -0700 2014  Sat Jul 26 00:00:00 -0700 2014   \n21      Mon Sep 10 00:00:00 -0700 2012  Tue Sep 04 00:00:00 -0700 2012   \n...                                ...                             ...   \n899994  Mon Nov 19 00:00:00 -0800 2012  Mon Nov 19 00:00:00 -0800 2012   \n899995  Sat Nov 17 00:00:00 -0800 2012  Fri Nov 16 00:00:00 -0800 2012   \n899997  Tue Nov 13 00:00:00 -0800 2012  Tue Nov 13 00:00:00 -0800 2012   \n899998  Tue Nov 13 00:00:00 -0800 2012  Mon Nov 12 00:00:00 -0800 2012   \n899999  Sun Nov 11 00:00:00 -0800 2012  Sun Nov 11 00:00:00 -0800 2012   \n\n        n_votes  n_comments  \n1             1           0  \n2            22           0  \n13            0           0  \n16            7           0  \n21            1           0  \n...         ...         ...  \n899994        3           0  \n899995        0           0  \n899997        1           0  \n899998        0           0  \n899999        0           0  \n\n[754002 rows x 11 columns]",
      "text/html": "<div>\n<style scoped>\n    .dataframe tbody tr th:only-of-type {\n        vertical-align: middle;\n    }\n\n    .dataframe tbody tr th {\n        vertical-align: top;\n    }\n\n    .dataframe thead th {\n        text-align: right;\n    }\n</style>\n<table border=\"1\" class=\"dataframe\">\n  <thead>\n    <tr style=\"text-align: right;\">\n      <th></th>\n      <th>user_id</th>\n      <th>book_id</th>\n      <th>review_id</th>\n      <th>rating</th>\n      <th>review_text</th>\n      <th>date_added</th>\n      <th>date_updated</th>\n      <th>read_at</th>\n      <th>started_at</th>\n      <th>n_votes</th>\n      <th>n_comments</th>\n    </tr>\n  </thead>\n  <tbody>\n    <tr>\n      <th>1</th>\n      <td>8842281e1d1347389f2ab93d60773d4d</td>\n      <td>16981</td>\n      <td>a5d2c3628987712d0e05c4f90798eb67</td>\n      <td>3</td>\n      <td>Recommended by Don Katz. Avail for free in Dec...</td>\n      <td>Mon Dec 05 10:46:44 -0800 2016</td>\n      <td>Wed Mar 22 11:37:04 -0700 2017</td>\n      <td>NaN</td>\n      <td>NaN</td>\n      <td>1</td>\n      <td>0</td>\n    </tr>\n    <tr>\n      <th>2</th>\n      <td>8842281e1d1347389f2ab93d60773d4d</td>\n      <td>28684704</td>\n      <td>2ede853b14dc4583f96cf5d120af636f</td>\n      <td>3</td>\n      <td>A fun, fast paced science fiction thriller. I ...</td>\n      <td>Tue Nov 15 11:29:22 -0800 2016</td>\n      <td>Mon Mar 20 23:40:27 -0700 2017</td>\n      <td>Sat Mar 18 23:22:42 -0700 2017</td>\n      <td>Fri Mar 17 23:45:40 -0700 2017</td>\n      <td>22</td>\n      <td>0</td>\n    </tr>\n    <tr>\n      <th>13</th>\n      <td>8842281e1d1347389f2ab93d60773d4d</td>\n      <td>16158596</td>\n      <td>6ff8bbc4856aa403bbd8990407c9c77a</td>\n      <td>0</td>\n      <td>Recommended by David Risher</td>\n      <td>Mon Jul 07 10:56:15 -0700 2014</td>\n      <td>Mon Jul 07 10:56:39 -0700 2014</td>\n      <td>NaN</td>\n      <td>NaN</td>\n      <td>0</td>\n      <td>0</td>\n    </tr>\n    <tr>\n      <th>16</th>\n      <td>8842281e1d1347389f2ab93d60773d4d</td>\n      <td>17860739</td>\n      <td>022bb6daffa49adc27f6b20b6ebeb37d</td>\n      <td>4</td>\n      <td>An amazing and unique creation: JJ Abrams and ...</td>\n      <td>Wed Mar 26 13:51:30 -0700 2014</td>\n      <td>Tue Sep 23 01:44:36 -0700 2014</td>\n      <td>Sun Sep 21 00:00:00 -0700 2014</td>\n      <td>Sat Jul 26 00:00:00 -0700 2014</td>\n      <td>7</td>\n      <td>0</td>\n    </tr>\n    <tr>\n      <th>21</th>\n      <td>8842281e1d1347389f2ab93d60773d4d</td>\n      <td>12953520</td>\n      <td>8666dfd554e310084c4bc72b2d357f3d</td>\n      <td>4</td>\n      <td>A hilarious romp through the known and unknown...</td>\n      <td>Tue Jul 10 20:26:21 -0700 2012</td>\n      <td>Wed Sep 12 23:32:04 -0700 2012</td>\n      <td>Mon Sep 10 00:00:00 -0700 2012</td>\n      <td>Tue Sep 04 00:00:00 -0700 2012</td>\n      <td>1</td>\n      <td>0</td>\n    </tr>\n    <tr>\n      <th>...</th>\n      <td>...</td>\n      <td>...</td>\n      <td>...</td>\n      <td>...</td>\n      <td>...</td>\n      <td>...</td>\n      <td>...</td>\n      <td>...</td>\n      <td>...</td>\n      <td>...</td>\n      <td>...</td>\n    </tr>\n    <tr>\n      <th>899994</th>\n      <td>b9450d1c1f97f891c392b1105959b56e</td>\n      <td>12991245</td>\n      <td>ae4232f6979aa78c54cc3111ee1b9dc5</td>\n      <td>5</td>\n      <td>Whew, this book is freaking brilliant! \\n I he...</td>\n      <td>Mon Nov 19 00:03:10 -0800 2012</td>\n      <td>Tue Nov 20 10:39:18 -0800 2012</td>\n      <td>Mon Nov 19 00:00:00 -0800 2012</td>\n      <td>Mon Nov 19 00:00:00 -0800 2012</td>\n      <td>3</td>\n      <td>0</td>\n    </tr>\n    <tr>\n      <th>899995</th>\n      <td>b9450d1c1f97f891c392b1105959b56e</td>\n      <td>11832081</td>\n      <td>7c34c15ad8cb28a4afca32946e2016ea</td>\n      <td>3</td>\n      <td>3.5 stars. \\n Jenna is a popular YA author and...</td>\n      <td>Fri Nov 16 22:10:17 -0800 2012</td>\n      <td>Sat Nov 17 22:42:44 -0800 2012</td>\n      <td>Sat Nov 17 00:00:00 -0800 2012</td>\n      <td>Fri Nov 16 00:00:00 -0800 2012</td>\n      <td>0</td>\n      <td>0</td>\n    </tr>\n    <tr>\n      <th>899997</th>\n      <td>b9450d1c1f97f891c392b1105959b56e</td>\n      <td>8430896</td>\n      <td>feb9fe6439f9fbba8a1cce36020ad977</td>\n      <td>4</td>\n      <td>** spoiler alert ** \\n 3.5 stars. \\n This book...</td>\n      <td>Tue Nov 13 05:38:24 -0800 2012</td>\n      <td>Tue Nov 13 23:29:17 -0800 2012</td>\n      <td>Tue Nov 13 00:00:00 -0800 2012</td>\n      <td>Tue Nov 13 00:00:00 -0800 2012</td>\n      <td>1</td>\n      <td>0</td>\n    </tr>\n    <tr>\n      <th>899998</th>\n      <td>b9450d1c1f97f891c392b1105959b56e</td>\n      <td>12275680</td>\n      <td>741e29369f70531bfffbd02add86f228</td>\n      <td>4</td>\n      <td>** spoiler alert ** \\n Another fun read from M...</td>\n      <td>Mon Nov 12 05:42:30 -0800 2012</td>\n      <td>Tue Nov 13 22:32:05 -0800 2012</td>\n      <td>Tue Nov 13 00:00:00 -0800 2012</td>\n      <td>Mon Nov 12 00:00:00 -0800 2012</td>\n      <td>0</td>\n      <td>0</td>\n    </tr>\n    <tr>\n      <th>899999</th>\n      <td>b9450d1c1f97f891c392b1105959b56e</td>\n      <td>17005</td>\n      <td>d55f3a967230940e75a314700caec9a5</td>\n      <td>3</td>\n      <td>** spoiler alert ** \\n 3.5 stars \\n I liked it...</td>\n      <td>Sun Nov 11 00:05:43 -0800 2012</td>\n      <td>Sun Nov 11 21:59:08 -0800 2012</td>\n      <td>Sun Nov 11 00:00:00 -0800 2012</td>\n      <td>Sun Nov 11 00:00:00 -0800 2012</td>\n      <td>0</td>\n      <td>0</td>\n    </tr>\n  </tbody>\n</table>\n<p>754002 rows × 11 columns</p>\n</div>"
     },
     "execution_count": 6,
     "metadata": {},
     "output_type": "execute_result"
    }
   ],
   "source": [
    "# show comment with 0 votes\n",
    "train[train['n_comments'] == 0]"
   ],
   "metadata": {
    "collapsed": false
   }
  },
  {
   "cell_type": "code",
   "execution_count": 7,
   "outputs": [
    {
     "data": {
      "text/plain": "                                 user_id   book_id  \\\n0       8842281e1d1347389f2ab93d60773d4d  18245960   \n3       8842281e1d1347389f2ab93d60773d4d  27161156   \n4       8842281e1d1347389f2ab93d60773d4d  25884323   \n5       8842281e1d1347389f2ab93d60773d4d  19398490   \n6       8842281e1d1347389f2ab93d60773d4d  22318578   \n...                                  ...       ...   \n899989  b9450d1c1f97f891c392b1105959b56e  15818969   \n899991  b9450d1c1f97f891c392b1105959b56e  16113791   \n899992  b9450d1c1f97f891c392b1105959b56e  15992339   \n899993  b9450d1c1f97f891c392b1105959b56e  15717943   \n899996  b9450d1c1f97f891c392b1105959b56e  16095092   \n\n                               review_id  rating  \\\n0       dfdbb7b0eb5a7e4c26d59a937e2e5feb       5   \n3       ced5675e55cd9d38a524743f5c40996e       0   \n4       332732725863131279a8e345b63ac33e       4   \n5       ea4a220b10e6b5c796dae0e3b970aff1       4   \n6       5fe9882bfe4b0520a322820c4c55747d       5   \n...                                  ...     ...   \n899989  b591cacf61c6940699d193313a4d77a7       5   \n899991  2a0209aab2627778617e1565e674833b       5   \n899992  e4d6c4c063cbbe442b5adaa6e57aaa05       3   \n899993  813928f3116d2a8da6949c8c6095af8f       5   \n899996  e979c735276431915d089cfaf446d64f       3   \n\n                                              review_text  \\\n0       This is a special book. It started slow for ab...   \n3       Recommended reading to understand what is goin...   \n4       I really enjoyed this book, and there is a lot...   \n5       A beautiful story. It is rare to encounter a b...   \n6       5 stars for giving me a better framework for h...   \n...                                                   ...   \n899989  ** spoiler alert ** \\n This is definitely one ...   \n899991  ** spoiler alert ** \\n 4.5 stars. \\n This is t...   \n899992  This is a short story about Kami's summer befo...   \n899993  ** spoiler alert ** \\n 5 Stars! \\n Thank you M...   \n899996  This was a quick read for me. I have read a lo...   \n\n                            date_added                    date_updated  \\\n0       Sun Jul 30 07:44:10 -0700 2017  Wed Aug 30 00:00:26 -0700 2017   \n3       Wed Nov 09 17:37:04 -0800 2016  Wed Nov 09 17:38:20 -0800 2016   \n4       Mon Apr 25 09:31:23 -0700 2016  Mon Apr 25 09:31:23 -0700 2016   \n5       Sun Jan 03 21:20:46 -0800 2016  Tue Sep 20 23:30:15 -0700 2016   \n6       Sun Jun 07 12:50:13 -0700 2015  Wed Mar 22 11:36:58 -0700 2017   \n...                                ...                             ...   \n899989  Sat Nov 24 23:20:58 -0800 2012  Tue Nov 27 05:45:48 -0800 2012   \n899991  Wed Nov 21 22:39:24 -0800 2012  Fri Dec 21 21:34:22 -0800 2012   \n899992  Wed Nov 21 06:05:17 -0800 2012  Thu Nov 22 07:10:05 -0800 2012   \n899993  Mon Nov 19 06:10:32 -0800 2012  Fri Dec 21 22:11:53 -0800 2012   \n899996  Fri Nov 16 22:09:49 -0800 2012  Sat Nov 17 23:38:58 -0800 2012   \n\n                               read_at                      started_at  \\\n0       Sat Aug 26 12:05:52 -0700 2017  Tue Aug 15 13:23:18 -0700 2017   \n3                                  NaN                             NaN   \n4       Sun Jun 26 00:00:00 -0700 2016  Sat May 28 00:00:00 -0700 2016   \n5       Tue Sep 13 11:51:51 -0700 2016  Sat Aug 20 07:03:03 -0700 2016   \n6       Sun Aug 09 00:00:00 -0700 2015  Sun Jun 07 00:00:00 -0700 2015   \n...                                ...                             ...   \n899989  Mon Nov 26 00:00:00 -0800 2012  Sun Nov 25 00:00:00 -0800 2012   \n899991  Sat Dec 15 00:00:00 -0800 2012  Fri Dec 14 00:00:00 -0800 2012   \n899992  Wed Nov 21 00:00:00 -0800 2012  Wed Nov 21 00:00:00 -0800 2012   \n899993  Thu Dec 20 00:00:00 -0800 2012  Wed Dec 19 00:00:00 -0800 2012   \n899996  Sat Nov 17 00:00:00 -0800 2012  Fri Nov 16 00:00:00 -0800 2012   \n\n        n_votes  n_comments  \n0            28           1  \n3             5           1  \n4             9           1  \n5            35           5  \n6            24           3  \n...         ...         ...  \n899989        6           4  \n899991        1           2  \n899992        0           3  \n899993        4           6  \n899996        1           1  \n\n[145990 rows x 11 columns]",
      "text/html": "<div>\n<style scoped>\n    .dataframe tbody tr th:only-of-type {\n        vertical-align: middle;\n    }\n\n    .dataframe tbody tr th {\n        vertical-align: top;\n    }\n\n    .dataframe thead th {\n        text-align: right;\n    }\n</style>\n<table border=\"1\" class=\"dataframe\">\n  <thead>\n    <tr style=\"text-align: right;\">\n      <th></th>\n      <th>user_id</th>\n      <th>book_id</th>\n      <th>review_id</th>\n      <th>rating</th>\n      <th>review_text</th>\n      <th>date_added</th>\n      <th>date_updated</th>\n      <th>read_at</th>\n      <th>started_at</th>\n      <th>n_votes</th>\n      <th>n_comments</th>\n    </tr>\n  </thead>\n  <tbody>\n    <tr>\n      <th>0</th>\n      <td>8842281e1d1347389f2ab93d60773d4d</td>\n      <td>18245960</td>\n      <td>dfdbb7b0eb5a7e4c26d59a937e2e5feb</td>\n      <td>5</td>\n      <td>This is a special book. It started slow for ab...</td>\n      <td>Sun Jul 30 07:44:10 -0700 2017</td>\n      <td>Wed Aug 30 00:00:26 -0700 2017</td>\n      <td>Sat Aug 26 12:05:52 -0700 2017</td>\n      <td>Tue Aug 15 13:23:18 -0700 2017</td>\n      <td>28</td>\n      <td>1</td>\n    </tr>\n    <tr>\n      <th>3</th>\n      <td>8842281e1d1347389f2ab93d60773d4d</td>\n      <td>27161156</td>\n      <td>ced5675e55cd9d38a524743f5c40996e</td>\n      <td>0</td>\n      <td>Recommended reading to understand what is goin...</td>\n      <td>Wed Nov 09 17:37:04 -0800 2016</td>\n      <td>Wed Nov 09 17:38:20 -0800 2016</td>\n      <td>NaN</td>\n      <td>NaN</td>\n      <td>5</td>\n      <td>1</td>\n    </tr>\n    <tr>\n      <th>4</th>\n      <td>8842281e1d1347389f2ab93d60773d4d</td>\n      <td>25884323</td>\n      <td>332732725863131279a8e345b63ac33e</td>\n      <td>4</td>\n      <td>I really enjoyed this book, and there is a lot...</td>\n      <td>Mon Apr 25 09:31:23 -0700 2016</td>\n      <td>Mon Apr 25 09:31:23 -0700 2016</td>\n      <td>Sun Jun 26 00:00:00 -0700 2016</td>\n      <td>Sat May 28 00:00:00 -0700 2016</td>\n      <td>9</td>\n      <td>1</td>\n    </tr>\n    <tr>\n      <th>5</th>\n      <td>8842281e1d1347389f2ab93d60773d4d</td>\n      <td>19398490</td>\n      <td>ea4a220b10e6b5c796dae0e3b970aff1</td>\n      <td>4</td>\n      <td>A beautiful story. It is rare to encounter a b...</td>\n      <td>Sun Jan 03 21:20:46 -0800 2016</td>\n      <td>Tue Sep 20 23:30:15 -0700 2016</td>\n      <td>Tue Sep 13 11:51:51 -0700 2016</td>\n      <td>Sat Aug 20 07:03:03 -0700 2016</td>\n      <td>35</td>\n      <td>5</td>\n    </tr>\n    <tr>\n      <th>6</th>\n      <td>8842281e1d1347389f2ab93d60773d4d</td>\n      <td>22318578</td>\n      <td>5fe9882bfe4b0520a322820c4c55747d</td>\n      <td>5</td>\n      <td>5 stars for giving me a better framework for h...</td>\n      <td>Sun Jun 07 12:50:13 -0700 2015</td>\n      <td>Wed Mar 22 11:36:58 -0700 2017</td>\n      <td>Sun Aug 09 00:00:00 -0700 2015</td>\n      <td>Sun Jun 07 00:00:00 -0700 2015</td>\n      <td>24</td>\n      <td>3</td>\n    </tr>\n    <tr>\n      <th>...</th>\n      <td>...</td>\n      <td>...</td>\n      <td>...</td>\n      <td>...</td>\n      <td>...</td>\n      <td>...</td>\n      <td>...</td>\n      <td>...</td>\n      <td>...</td>\n      <td>...</td>\n      <td>...</td>\n    </tr>\n    <tr>\n      <th>899989</th>\n      <td>b9450d1c1f97f891c392b1105959b56e</td>\n      <td>15818969</td>\n      <td>b591cacf61c6940699d193313a4d77a7</td>\n      <td>5</td>\n      <td>** spoiler alert ** \\n This is definitely one ...</td>\n      <td>Sat Nov 24 23:20:58 -0800 2012</td>\n      <td>Tue Nov 27 05:45:48 -0800 2012</td>\n      <td>Mon Nov 26 00:00:00 -0800 2012</td>\n      <td>Sun Nov 25 00:00:00 -0800 2012</td>\n      <td>6</td>\n      <td>4</td>\n    </tr>\n    <tr>\n      <th>899991</th>\n      <td>b9450d1c1f97f891c392b1105959b56e</td>\n      <td>16113791</td>\n      <td>2a0209aab2627778617e1565e674833b</td>\n      <td>5</td>\n      <td>** spoiler alert ** \\n 4.5 stars. \\n This is t...</td>\n      <td>Wed Nov 21 22:39:24 -0800 2012</td>\n      <td>Fri Dec 21 21:34:22 -0800 2012</td>\n      <td>Sat Dec 15 00:00:00 -0800 2012</td>\n      <td>Fri Dec 14 00:00:00 -0800 2012</td>\n      <td>1</td>\n      <td>2</td>\n    </tr>\n    <tr>\n      <th>899992</th>\n      <td>b9450d1c1f97f891c392b1105959b56e</td>\n      <td>15992339</td>\n      <td>e4d6c4c063cbbe442b5adaa6e57aaa05</td>\n      <td>3</td>\n      <td>This is a short story about Kami's summer befo...</td>\n      <td>Wed Nov 21 06:05:17 -0800 2012</td>\n      <td>Thu Nov 22 07:10:05 -0800 2012</td>\n      <td>Wed Nov 21 00:00:00 -0800 2012</td>\n      <td>Wed Nov 21 00:00:00 -0800 2012</td>\n      <td>0</td>\n      <td>3</td>\n    </tr>\n    <tr>\n      <th>899993</th>\n      <td>b9450d1c1f97f891c392b1105959b56e</td>\n      <td>15717943</td>\n      <td>813928f3116d2a8da6949c8c6095af8f</td>\n      <td>5</td>\n      <td>** spoiler alert ** \\n 5 Stars! \\n Thank you M...</td>\n      <td>Mon Nov 19 06:10:32 -0800 2012</td>\n      <td>Fri Dec 21 22:11:53 -0800 2012</td>\n      <td>Thu Dec 20 00:00:00 -0800 2012</td>\n      <td>Wed Dec 19 00:00:00 -0800 2012</td>\n      <td>4</td>\n      <td>6</td>\n    </tr>\n    <tr>\n      <th>899996</th>\n      <td>b9450d1c1f97f891c392b1105959b56e</td>\n      <td>16095092</td>\n      <td>e979c735276431915d089cfaf446d64f</td>\n      <td>3</td>\n      <td>This was a quick read for me. I have read a lo...</td>\n      <td>Fri Nov 16 22:09:49 -0800 2012</td>\n      <td>Sat Nov 17 23:38:58 -0800 2012</td>\n      <td>Sat Nov 17 00:00:00 -0800 2012</td>\n      <td>Fri Nov 16 00:00:00 -0800 2012</td>\n      <td>1</td>\n      <td>1</td>\n    </tr>\n  </tbody>\n</table>\n<p>145990 rows × 11 columns</p>\n</div>"
     },
     "execution_count": 7,
     "metadata": {},
     "output_type": "execute_result"
    }
   ],
   "source": [
    "train[train['n_comments'] > 0]"
   ],
   "metadata": {
    "collapsed": false
   }
  },
  {
   "cell_type": "code",
   "execution_count": 3,
   "outputs": [],
   "source": [
    "# lenght = 0\n",
    "# list_word = []\n",
    "# list_weight = []\n",
    "# with open('../dataset/glove.6B.300d.txt', encoding='utf-8') as f:\n",
    "#     for line in tqdm(f):\n",
    "#         values = line.split()\n",
    "#         word = values[0]#.replace('<','').replace('>', '')\n",
    "#         coefs = values[1:]\n",
    "#         if len(coefs) == 300:\n",
    "#             #list_weight.append(coefs)\n",
    "#             list_word.append(word)\n",
    "#             lenght += 1\n",
    "#         else:\n",
    "#             print(\"incorect dim\")"
   ],
   "metadata": {
    "collapsed": false
   }
  },
  {
   "cell_type": "code",
   "execution_count": 4,
   "outputs": [
    {
     "name": "stdout",
     "output_type": "stream",
     "text": [
      "unet1\n",
      "Epoch 1/9\n",
      "12000/12000 [==============================] - 212s 17ms/step - loss: 1.1997 - categorical_accuracy: 0.4869 - f1_score: 0.4671 - val_loss: 1.0371 - val_categorical_accuracy: 0.5542 - val_f1_score: 0.5336 - lr: 0.0010\n",
      "Epoch 2/9\n",
      "12000/12000 [==============================] - 207s 17ms/step - loss: 1.0472 - categorical_accuracy: 0.5552 - f1_score: 0.5444 - val_loss: 1.0000 - val_categorical_accuracy: 0.5718 - val_f1_score: 0.5622 - lr: 0.0010\n",
      "Epoch 3/9\n",
      "12000/12000 [==============================] - 205s 17ms/step - loss: 1.0072 - categorical_accuracy: 0.5737 - f1_score: 0.5660 - val_loss: 0.9846 - val_categorical_accuracy: 0.5775 - val_f1_score: 0.5686 - lr: 0.0010\n",
      "Epoch 4/9\n",
      "12000/12000 [==============================] - 208s 17ms/step - loss: 0.9804 - categorical_accuracy: 0.5863 - f1_score: 0.5801 - val_loss: 0.9737 - val_categorical_accuracy: 0.5835 - val_f1_score: 0.5768 - lr: 0.0010\n",
      "Epoch 5/9\n",
      "12000/12000 [==============================] - 210s 18ms/step - loss: 0.9548 - categorical_accuracy: 0.5971 - f1_score: 0.5915 - val_loss: 0.9710 - val_categorical_accuracy: 0.5854 - val_f1_score: 0.5821 - lr: 9.0484e-04\n",
      "Epoch 6/9\n",
      "12000/12000 [==============================] - 208s 17ms/step - loss: 0.9312 - categorical_accuracy: 0.6090 - f1_score: 0.6042 - val_loss: 0.9699 - val_categorical_accuracy: 0.5859 - val_f1_score: 0.5823 - lr: 8.1873e-04\n",
      "Epoch 7/9\n",
      "12000/12000 [==============================] - 210s 17ms/step - loss: 0.9090 - categorical_accuracy: 0.6195 - f1_score: 0.6153 - val_loss: 0.9776 - val_categorical_accuracy: 0.5868 - val_f1_score: 0.5821 - lr: 7.4082e-04\n",
      "Epoch 8/9\n",
      "12000/12000 [==============================] - 210s 18ms/step - loss: 0.8870 - categorical_accuracy: 0.6313 - f1_score: 0.6273 - val_loss: 1.0031 - val_categorical_accuracy: 0.5804 - val_f1_score: 0.5730 - lr: 6.7032e-04\n",
      "Epoch 9/9\n",
      "12000/12000 [==============================] - 209s 17ms/step - loss: 0.8660 - categorical_accuracy: 0.6419 - f1_score: 0.6383 - val_loss: 1.0048 - val_categorical_accuracy: 0.5808 - val_f1_score: 0.5770 - lr: 6.0653e-04\n",
      "unet1\n",
      "Epoch 1/9\n",
      "12000/12000 [==============================] - 213s 18ms/step - loss: 1.2137 - categorical_accuracy: 0.4824 - f1_score: 0.4601 - val_loss: 1.0486 - val_categorical_accuracy: 0.5543 - val_f1_score: 0.5399 - lr: 0.0010\n",
      "Epoch 2/9\n",
      "12000/12000 [==============================] - 210s 18ms/step - loss: 1.0598 - categorical_accuracy: 0.5513 - f1_score: 0.5402 - val_loss: 1.0206 - val_categorical_accuracy: 0.5642 - val_f1_score: 0.5567 - lr: 0.0010\n",
      "Epoch 3/9\n",
      "12000/12000 [==============================] - 208s 17ms/step - loss: 1.0163 - categorical_accuracy: 0.5702 - f1_score: 0.5626 - val_loss: 0.9863 - val_categorical_accuracy: 0.5805 - val_f1_score: 0.5758 - lr: 0.0010\n",
      "Epoch 4/9\n",
      "12000/12000 [==============================] - 206s 17ms/step - loss: 0.9865 - categorical_accuracy: 0.5826 - f1_score: 0.5768 - val_loss: 0.9949 - val_categorical_accuracy: 0.5741 - val_f1_score: 0.5719 - lr: 0.0010\n",
      "Epoch 5/9\n",
      "12000/12000 [==============================] - 206s 17ms/step - loss: 0.9586 - categorical_accuracy: 0.5958 - f1_score: 0.5907 - val_loss: 0.9831 - val_categorical_accuracy: 0.5780 - val_f1_score: 0.5755 - lr: 9.0484e-04\n",
      "Epoch 6/9\n",
      "12000/12000 [==============================] - 206s 17ms/step - loss: 0.9324 - categorical_accuracy: 0.6080 - f1_score: 0.6037 - val_loss: 0.9775 - val_categorical_accuracy: 0.5857 - val_f1_score: 0.5837 - lr: 8.1873e-04\n",
      "Epoch 7/9\n",
      "12000/12000 [==============================] - 206s 17ms/step - loss: 0.9072 - categorical_accuracy: 0.6202 - f1_score: 0.6164 - val_loss: 0.9791 - val_categorical_accuracy: 0.5845 - val_f1_score: 0.5816 - lr: 7.4082e-04\n",
      "Epoch 8/9\n",
      "12000/12000 [==============================] - 206s 17ms/step - loss: 0.8808 - categorical_accuracy: 0.6334 - f1_score: 0.6299 - val_loss: 1.0422 - val_categorical_accuracy: 0.5633 - val_f1_score: 0.5591 - lr: 6.7032e-04\n",
      "Epoch 9/9\n",
      "12000/12000 [==============================] - 207s 17ms/step - loss: 0.8559 - categorical_accuracy: 0.6462 - f1_score: 0.6430 - val_loss: 1.0119 - val_categorical_accuracy: 0.5789 - val_f1_score: 0.5758 - lr: 6.0653e-04\n"
     ]
    }
   ],
   "source": [
    "#model_list = [cnn1,cnn2, cnn3,cnn4,cnn5,cnn6, cnn8, cnn9, cnn10]\n",
    "model_list = [unet1]\n",
    "def scheduler(epoch, lr):\n",
    "    if epoch < 4:\n",
    "        return lr\n",
    "    else:\n",
    "        return lr * tf.math.exp(-0.1)\n",
    "for seed in [8,5]:\n",
    "    keras.utils.set_random_seed(seed)\n",
    "    for model_obj in model_list:\n",
    "        model = model_obj.Model(vocabulary2)\n",
    "        model.model.compile(optimizer=keras.optimizers.Adamax(learning_rate=0.001),\n",
    "                           loss=keras.losses.categorical_crossentropy,\n",
    "                           metrics=[keras.metrics.categorical_accuracy, tfa.metrics.F1Score(num_classes=6, average='weighted')]\n",
    "                           )\n",
    "        print(model.name)\n",
    "        #print(model.model.summary())\n",
    "        if not os.path.exists(f\"logs/{model.name}\"):\n",
    "            os.mkdir(f\"logs/{model.name}\")\n",
    "        tensorboard_callback = tf.keras.callbacks.TensorBoard(log_dir=f\"logs/{model.name}\")\n",
    "        model.run_experiment([train['review_text'], train['n_comments'], train['n_votes']], train['rating'], epochs=9, callbacks=[keras.callbacks.LearningRateScheduler(scheduler,0)], batch_size=60, validation_split=0.2)"
   ],
   "metadata": {
    "collapsed": false
   }
  },
  {
   "cell_type": "code",
   "execution_count": 5,
   "outputs": [
    {
     "name": "stdout",
     "output_type": "stream",
     "text": [
      "28125/28125 [==============================] - 164s 6ms/step\n"
     ]
    }
   ],
   "source": [
    "res = model.model.predict([train['review_text'], train['n_comments'], train['n_votes']])"
   ],
   "metadata": {
    "collapsed": false
   }
  },
  {
   "cell_type": "code",
   "execution_count": null,
   "outputs": [],
   "source": [
    "restest = model.model.predict([test['review_text'], test['n_comments'], test['n_votes']])"
   ],
   "metadata": {
    "collapsed": false
   }
  },
  {
   "cell_type": "code",
   "execution_count": null,
   "outputs": [],
   "source": [
    "ff = []\n",
    "for line in tqdm(restest):\n",
    "    tmp = -2\n",
    "    category = None\n",
    "    for i in (range(6)):\n",
    "        if line[i] > tmp:\n",
    "            category = i\n",
    "            tmp = line[i]\n",
    "    ff.append(category)\n",
    "test_data = np.array(ff)\n",
    "\n",
    "ff = []\n",
    "for line in tqdm(res):\n",
    "    tmp = -2\n",
    "    category = None\n",
    "    for i in (range(6)):\n",
    "        if line[i] > tmp:\n",
    "            category = i\n",
    "            tmp = line[i]\n",
    "    ff.append(category)\n",
    "train_data = np.array(ff)"
   ],
   "metadata": {
    "collapsed": false
   }
  },
  {
   "cell_type": "code",
   "execution_count": null,
   "outputs": [],
   "source": [
    "\n",
    "print(classification_report(train['rating'], train_data))"
   ],
   "metadata": {
    "collapsed": false
   }
  },
  {
   "cell_type": "code",
   "execution_count": null,
   "outputs": [],
   "source": [
    "test['rating'] = test_data\n",
    "\n",
    "id = test['review_id'].to_numpy()\n",
    "rating = test['rating'].to_numpy()\n",
    "df = pd.DataFrame( columns=['review_id', 'rating'])\n",
    "df['review_id'] = id\n",
    "df['rating'] = rating"
   ],
   "metadata": {
    "collapsed": false
   }
  },
  {
   "cell_type": "code",
   "execution_count": null,
   "outputs": [],
   "source": [
    "df.to_csv('submission_unet1_embedding_class_weights_model.csv',index=False )\n"
   ],
   "metadata": {
    "collapsed": false
   }
  },
  {
   "cell_type": "code",
   "execution_count": null,
   "outputs": [],
   "source": [],
   "metadata": {
    "collapsed": false
   }
  }
 ],
 "metadata": {
  "kernelspec": {
   "display_name": "Python 3",
   "language": "python",
   "name": "python3"
  },
  "language_info": {
   "codemirror_mode": {
    "name": "ipython",
    "version": 2
   },
   "file_extension": ".py",
   "mimetype": "text/x-python",
   "name": "python",
   "nbconvert_exporter": "python",
   "pygments_lexer": "ipython2",
   "version": "2.7.6"
  }
 },
 "nbformat": 4,
 "nbformat_minor": 0
}
