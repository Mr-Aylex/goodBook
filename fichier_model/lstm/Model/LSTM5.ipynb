{
 "cells": [
  {
   "cell_type": "code",
   "execution_count": 1,
   "metadata": {
    "collapsed": true
   },
   "outputs": [],
   "source": [
    "import numpy as np\n",
    "import tensorflow as tf\n",
    "from tensorflow import keras\n",
    "from tensorflow.keras import layers\n",
    "from tensorflow.python.keras.callbacks import TensorBoard\n",
    "from sklearn.utils import class_weight\n",
    "import tensorflow_addons as tfa\n",
    "import pandas as pd\n",
    "import numpy as np\n",
    "from multiprocessing import  Pool\n",
    "from tqdm.notebook import tqdm\n",
    "import nltk\n",
    "from keras.layers import Dense, Dropout\n",
    "from nltk.corpus import stopwords\n",
    "from nltk.stem.porter import PorterStemmer\n",
    "from nltk.stem import WordNetLemmatizer\n",
    "from time import time\n",
    "from sklearn.metrics import classification_report\n",
    "import tensorflow_addons as tfa"
   ]
  },
  {
   "cell_type": "code",
   "execution_count": 2,
   "outputs": [
    {
     "name": "stdout",
     "output_type": "stream",
     "text": [
      "open dataset\n"
     ]
    }
   ],
   "source": [
    "print(\"open dataset\")\n",
    "tqdm.pandas()\n",
    "train = pd.read_csv(\"C:/Users/alhus/PycharmProjects/goodBook/dataset/goodreads_train.csv\")"
   ],
   "metadata": {
    "collapsed": false
   }
  },
  {
   "cell_type": "code",
   "execution_count": 3,
   "outputs": [],
   "source": [
    "test = pd.read_csv(\"C:/Users/alhus/PycharmProjects/goodBook/dataset/goodreads_test.csv\")"
   ],
   "metadata": {
    "collapsed": false
   }
  },
  {
   "cell_type": "code",
   "execution_count": 4,
   "outputs": [],
   "source": [
    "train_prepro = pd.DataFrame(data=np.load(file = \"C:/Users/alhus/PycharmProjects/goodBook/prepro_train_archive_PN_less.npy\", allow_pickle=True), columns=['review_text'])['review_text']"
   ],
   "metadata": {
    "collapsed": false
   }
  },
  {
   "cell_type": "code",
   "execution_count": 5,
   "outputs": [
    {
     "data": {
      "text/plain": "0         this special book . it started slow first thir...\n1         recommended . free : http : //www.audible.com/...\n2         a fun , fast paced science fiction thriller . ...\n3         recommended reading understand going middle am...\n4         i really enjoyed book , lot recommend . it dra...\n                                ...                        \n899995    3.5 star . popular author agent want character...\n899996    this quick read . i read lot book recently one...\n899997    * spoiler alert * 3.5 star . this book sweet i...\n899998    * spoiler alert another fun read ! 's new assi...\n899999    * spoiler alert * 3.5 star i liked ! the story...\nName: review_text, Length: 900000, dtype: object"
     },
     "execution_count": 5,
     "metadata": {},
     "output_type": "execute_result"
    }
   ],
   "source": [
    "train_prepro"
   ],
   "metadata": {
    "collapsed": false
   }
  },
  {
   "cell_type": "code",
   "execution_count": 6,
   "outputs": [],
   "source": [
    "train['review_text'] = train_prepro"
   ],
   "metadata": {
    "collapsed": false
   }
  },
  {
   "cell_type": "code",
   "execution_count": 7,
   "outputs": [],
   "source": [
    "train = train[train[\"review_text\"] != \"\"]"
   ],
   "metadata": {
    "collapsed": false
   }
  },
  {
   "cell_type": "code",
   "execution_count": 8,
   "outputs": [
    {
     "name": "stdout",
     "output_type": "stream",
     "text": [
      "0   0\n"
     ]
    }
   ],
   "source": [
    "print(\"0  \",train[train['review_text'] == \"\"][\"rating\"].count())\n"
   ],
   "metadata": {
    "collapsed": false
   }
  },
  {
   "cell_type": "code",
   "execution_count": 9,
   "outputs": [],
   "source": [
    "rating = keras.utils.to_categorical(train['rating'], num_classes=6)\n",
    "rating = rating.astype(int)"
   ],
   "metadata": {
    "collapsed": false
   }
  },
  {
   "cell_type": "code",
   "execution_count": 10,
   "outputs": [
    {
     "data": {
      "text/plain": "array([[0, 0, 0, 0, 0, 1],\n       [0, 0, 0, 1, 0, 0],\n       [0, 0, 0, 1, 0, 0],\n       ...,\n       [0, 0, 0, 0, 1, 0],\n       [0, 0, 0, 0, 1, 0],\n       [0, 0, 0, 1, 0, 0]])"
     },
     "execution_count": 10,
     "metadata": {},
     "output_type": "execute_result"
    }
   ],
   "source": [
    "rating"
   ],
   "metadata": {
    "collapsed": false
   }
  },
  {
   "cell_type": "code",
   "execution_count": 11,
   "outputs": [],
   "source": [
    "mylen = len(np.load('C:/Users/alhus/PycharmProjects/goodBook/voc_lemm_without_NP.npy'))"
   ],
   "metadata": {
    "collapsed": false
   }
  },
  {
   "cell_type": "code",
   "execution_count": 12,
   "outputs": [],
   "source": [
    "model = keras.Sequential()\n",
    "\"\"\"inputs2 = keras.Input(shape=(1), dtype=tf.int64)\n",
    "inputs3 = keras.Input(shape=(1), dtype=tf.int64)\"\"\"\n",
    "\n",
    "model.add(keras.layers.TextVectorization(\n",
    "    standardize='lower_and_strip_punctuation',\n",
    "    split='whitespace',\n",
    "    output_mode='int',\n",
    "    output_sequence_length=352,\n",
    "    vocabulary=np.load('C:/Users/alhus/PycharmProjects/goodBook/voc_lemm_without_NP.npy')\n",
    "))"
   ],
   "metadata": {
    "collapsed": false
   }
  },
  {
   "cell_type": "code",
   "execution_count": 13,
   "outputs": [],
   "source": [
    "#conc = keras.layers.concatenate([vectorize_layer])\n",
    "model.add(tf.keras.layers.Embedding(input_dim=mylen+1,output_dim=64,mask_zero=True))\n",
    "model.add(keras.layers.LSTM(64, input_shape= (352, 64)))\n",
    "model.add(Dropout(0.2))\n",
    "model.add(keras.layers.Dense(128, activation=tf.keras.activations.relu))\n",
    "\n",
    "\n",
    "model.add(keras.layers.Dense(6, activation=tf.keras.activations.softmax))"
   ],
   "metadata": {
    "collapsed": false
   }
  },
  {
   "cell_type": "code",
   "execution_count": 14,
   "outputs": [],
   "source": [
    "\n",
    "tensorboard = TensorBoard(log_dir=\"C:/Users/alhus/PycharmProjects/goodBook/logs/lstm5\".format(time()))"
   ],
   "metadata": {
    "collapsed": false
   }
  },
  {
   "cell_type": "code",
   "execution_count": 15,
   "outputs": [],
   "source": [
    "#for learning_rate in learning_rates:\n",
    "model.compile(optimizer=tf.keras.optimizers.Adamax(learning_rate=0.01),\n",
    "              loss=tf.keras.losses.categorical_crossentropy,\n",
    "              metrics=[tf.keras.metrics.categorical_accuracy, tfa.metrics.F1Score(num_classes=6, average=\"weighted\")]\n",
    "              )"
   ],
   "metadata": {
    "collapsed": false
   }
  },
  {
   "cell_type": "code",
   "execution_count": 16,
   "outputs": [],
   "source": [
    "#class_weights = class_weight.compute_class_weight(class_weight='balanced',classes= np.unique(train['rating']), y = train['rating'])\n",
    "#weight = {i : class_weights[i] for i in range(6)}"
   ],
   "metadata": {
    "collapsed": false
   }
  },
  {
   "cell_type": "code",
   "execution_count": 17,
   "outputs": [
    {
     "name": "stderr",
     "output_type": "stream",
     "text": [
      "C:\\Users\\alhus\\anaconda3\\envs\\Book_Review_Project\\lib\\site-packages\\keras\\engine\\data_adapter.py:1699: FutureWarning: The behavior of `series[i:j]` with an integer-dtype index is deprecated. In a future version, this will be treated as *label-based* indexing, consistent with e.g. `series[i]` lookups. To retain the old behavior, use `series.iloc[i:j]`. To get the future behavior, use `series.loc[i:j]`.\n",
      "  return t[start:end]\n"
     ]
    },
    {
     "name": "stdout",
     "output_type": "stream",
     "text": [
      "Epoch 1/10\n",
      "720/720 [==============================] - 446s 611ms/step - loss: 1.1328 - categorical_accuracy: 0.5159 - f1_score: 0.5068 - val_loss: 1.0562 - val_categorical_accuracy: 0.5450 - val_f1_score: 0.5345\n",
      "Epoch 2/10\n",
      "720/720 [==============================] - 407s 565ms/step - loss: 1.0223 - categorical_accuracy: 0.5639 - f1_score: 0.5592 - val_loss: 1.0113 - val_categorical_accuracy: 0.5656 - val_f1_score: 0.5619\n",
      "Epoch 3/10\n",
      "720/720 [==============================] - 369s 513ms/step - loss: 0.9743 - categorical_accuracy: 0.5861 - f1_score: 0.5825 - val_loss: 0.9920 - val_categorical_accuracy: 0.5763 - val_f1_score: 0.5710\n",
      "Epoch 4/10\n",
      "720/720 [==============================] - 370s 514ms/step - loss: 0.9376 - categorical_accuracy: 0.6031 - f1_score: 0.6001 - val_loss: 0.9939 - val_categorical_accuracy: 0.5741 - val_f1_score: 0.5681\n",
      "Epoch 5/10\n",
      "720/720 [==============================] - 385s 534ms/step - loss: 0.9062 - categorical_accuracy: 0.6170 - f1_score: 0.6145 - val_loss: 1.0067 - val_categorical_accuracy: 0.5719 - val_f1_score: 0.5662\n",
      "Epoch 6/10\n",
      "720/720 [==============================] - 384s 534ms/step - loss: 0.8714 - categorical_accuracy: 0.6334 - f1_score: 0.6311 - val_loss: 1.0278 - val_categorical_accuracy: 0.5765 - val_f1_score: 0.5717\n",
      "Epoch 7/10\n",
      "720/720 [==============================] - 387s 538ms/step - loss: 0.8333 - categorical_accuracy: 0.6523 - f1_score: 0.6504 - val_loss: 1.0406 - val_categorical_accuracy: 0.5733 - val_f1_score: 0.5704\n",
      "Epoch 8/10\n",
      "720/720 [==============================] - 393s 546ms/step - loss: 0.7925 - categorical_accuracy: 0.6720 - f1_score: 0.6704 - val_loss: 1.0738 - val_categorical_accuracy: 0.5681 - val_f1_score: 0.5641\n",
      "Epoch 9/10\n",
      "720/720 [==============================] - 380s 529ms/step - loss: 0.7459 - categorical_accuracy: 0.6942 - f1_score: 0.6929 - val_loss: 1.1405 - val_categorical_accuracy: 0.5624 - val_f1_score: 0.5605\n",
      "Epoch 10/10\n",
      "720/720 [==============================] - 395s 549ms/step - loss: 0.6995 - categorical_accuracy: 0.7153 - f1_score: 0.7142 - val_loss: 1.2381 - val_categorical_accuracy: 0.5590 - val_f1_score: 0.5571\n",
      "Model: \"sequential\"\n",
      "_________________________________________________________________\n",
      " Layer (type)                Output Shape              Param #   \n",
      "=================================================================\n",
      " text_vectorization (TextVec  (None, 352)              0         \n",
      " torization)                                                     \n",
      "                                                                 \n",
      " embedding (Embedding)       (None, 352, 64)           25061312  \n",
      "                                                                 \n",
      " lstm (LSTM)                 (None, 64)                33024     \n",
      "                                                                 \n",
      " dropout (Dropout)           (None, 64)                0         \n",
      "                                                                 \n",
      " dense (Dense)               (None, 128)               8320      \n",
      "                                                                 \n",
      " dense_1 (Dense)             (None, 6)                 774       \n",
      "                                                                 \n",
      "=================================================================\n",
      "Total params: 25,103,430\n",
      "Trainable params: 25,103,430\n",
      "Non-trainable params: 0\n",
      "_________________________________________________________________\n"
     ]
    }
   ],
   "source": [
    "model.fit(train['review_text'], rating, epochs=10,\n",
    "                  callbacks=[\n",
    "                      tf.keras.callbacks.TensorBoard(log_dir=\"C:/Users/alhus/PycharmProjects/goodBook/logs/lstm5\"),\n",
    "                  ],\n",
    "                  batch_size=1000, shuffle= True, validation_split=0.2\n",
    "                  )\n",
    "model.summary()"
   ],
   "metadata": {
    "collapsed": false
   }
  },
  {
   "cell_type": "code",
   "execution_count": 18,
   "outputs": [],
   "source": [
    "test_prepro = pd.DataFrame(data=np.load(file=\"C:/Users/alhus/PycharmProjects/goodBook/prepro_test_archive_PN_less.npy\", allow_pickle=True), columns=['review_text'])['review_text']\n",
    "test['review_text'] = test_prepro"
   ],
   "metadata": {
    "collapsed": false
   }
  },
  {
   "cell_type": "code",
   "execution_count": 19,
   "outputs": [
    {
     "name": "stdout",
     "output_type": "stream",
     "text": [
      "WARNING:tensorflow:Layers in a Sequential model should only have a single input tensor. Received: inputs=(<tf.Tensor 'IteratorGetNext:0' shape=(None, 1) dtype=string>,). Consider rewriting this model with the Functional API.\n",
      "14939/14939 [==============================] - 165s 11ms/step\n"
     ]
    }
   ],
   "source": [
    "restest = model.predict([test['review_text']])"
   ],
   "metadata": {
    "collapsed": false
   }
  },
  {
   "cell_type": "code",
   "execution_count": 20,
   "outputs": [
    {
     "data": {
      "text/plain": "  0%|          | 0/478033 [00:00<?, ?it/s]",
      "application/vnd.jupyter.widget-view+json": {
       "version_major": 2,
       "version_minor": 0,
       "model_id": "e88f924f95004308a40bd57a6669167a"
      }
     },
     "metadata": {},
     "output_type": "display_data"
    }
   ],
   "source": [
    "ff = []\n",
    "for line in tqdm(restest):\n",
    "    tmp = -2\n",
    "    category = None\n",
    "    for i in (range(6)):\n",
    "        if line[i] > tmp:\n",
    "            category = i\n",
    "            tmp = line[i]\n",
    "    ff.append(category)\n",
    "data = np.array(ff)"
   ],
   "metadata": {
    "collapsed": false
   }
  },
  {
   "cell_type": "code",
   "execution_count": 21,
   "outputs": [],
   "source": [
    "test['rating'] = data"
   ],
   "metadata": {
    "collapsed": false
   }
  },
  {
   "cell_type": "code",
   "execution_count": 22,
   "outputs": [],
   "source": [
    "id = test['review_id'].to_numpy()\n",
    "rating = test['rating'].to_numpy()\n",
    "df = pd.DataFrame( columns=['review_id', 'rating'])"
   ],
   "metadata": {
    "collapsed": false
   }
  },
  {
   "cell_type": "code",
   "execution_count": 23,
   "outputs": [],
   "source": [
    "df['review_id'] = id\n",
    "df['rating'] = rating"
   ],
   "metadata": {
    "collapsed": false
   }
  },
  {
   "cell_type": "code",
   "execution_count": 24,
   "outputs": [],
   "source": [
    "df.to_csv('submission_lstm12_model.csv',index=False )"
   ],
   "metadata": {
    "collapsed": false
   }
  },
  {
   "cell_type": "code",
   "execution_count": 25,
   "outputs": [
    {
     "name": "stdout",
     "output_type": "stream",
     "text": [
      "Model: \"sequential\"\n",
      "_________________________________________________________________\n",
      " Layer (type)                Output Shape              Param #   \n",
      "=================================================================\n",
      " text_vectorization (TextVec  (None, 352)              0         \n",
      " torization)                                                     \n",
      "                                                                 \n",
      " embedding (Embedding)       (None, 352, 64)           25061312  \n",
      "                                                                 \n",
      " lstm (LSTM)                 (None, 64)                33024     \n",
      "                                                                 \n",
      " dropout (Dropout)           (None, 64)                0         \n",
      "                                                                 \n",
      " dense (Dense)               (None, 128)               8320      \n",
      "                                                                 \n",
      " dense_1 (Dense)             (None, 6)                 774       \n",
      "                                                                 \n",
      "=================================================================\n",
      "Total params: 25,103,430\n",
      "Trainable params: 25,103,430\n",
      "Non-trainable params: 0\n",
      "_________________________________________________________________\n"
     ]
    }
   ],
   "source": [
    "model.summary()"
   ],
   "metadata": {
    "collapsed": false
   }
  },
  {
   "cell_type": "code",
   "execution_count": 26,
   "outputs": [],
   "source": [
    "from keras import backend as K"
   ],
   "metadata": {
    "collapsed": false
   }
  },
  {
   "cell_type": "code",
   "execution_count": 27,
   "outputs": [
    {
     "data": {
      "text/plain": "<function keras.backend.clear_session()>"
     },
     "execution_count": 27,
     "metadata": {},
     "output_type": "execute_result"
    }
   ],
   "source": [
    "K.clear_session"
   ],
   "metadata": {
    "collapsed": false
   }
  },
  {
   "cell_type": "code",
   "execution_count": 28,
   "outputs": [],
   "source": [
    "del model"
   ],
   "metadata": {
    "collapsed": false
   }
  },
  {
   "cell_type": "code",
   "execution_count": 29,
   "outputs": [
    {
     "name": "stdout",
     "output_type": "stream",
     "text": [
      "0   0\n"
     ]
    }
   ],
   "source": [
    "print(\"0  \",train[train['review_text'] == \"\"][\"rating\"].count())\n"
   ],
   "metadata": {
    "collapsed": false
   }
  }
 ],
 "metadata": {
  "kernelspec": {
   "display_name": "Python 3",
   "language": "python",
   "name": "python3"
  },
  "language_info": {
   "codemirror_mode": {
    "name": "ipython",
    "version": 2
   },
   "file_extension": ".py",
   "mimetype": "text/x-python",
   "name": "python",
   "nbconvert_exporter": "python",
   "pygments_lexer": "ipython2",
   "version": "2.7.6"
  }
 },
 "nbformat": 4,
 "nbformat_minor": 0
}
