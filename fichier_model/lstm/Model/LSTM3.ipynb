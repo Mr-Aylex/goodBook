{
 "cells": [
  {
   "cell_type": "code",
   "execution_count": 1,
   "metadata": {
    "collapsed": true
   },
   "outputs": [],
   "source": [
    "import numpy as np\n",
    "import tensorflow as tf\n",
    "from tensorflow import keras\n",
    "from tensorflow.keras import layers\n",
    "from tensorflow.python.keras.callbacks import TensorBoard\n",
    "from sklearn.utils import class_weight\n",
    "import tensorflow_addons as tfa\n",
    "import pandas as pd\n",
    "import numpy as np\n",
    "from multiprocessing import  Pool\n",
    "from tqdm.notebook import tqdm\n",
    "import nltk\n",
    "from keras.layers import Dense, Dropout\n",
    "from nltk.corpus import stopwords\n",
    "from nltk.stem.porter import PorterStemmer\n",
    "from nltk.stem import WordNetLemmatizer\n",
    "from time import time\n",
    "from sklearn.metrics import classification_report\n",
    "import tensorflow_addons as tfa"
   ]
  },
  {
   "cell_type": "code",
   "execution_count": 2,
   "outputs": [
    {
     "name": "stdout",
     "output_type": "stream",
     "text": [
      "open dataset\n"
     ]
    }
   ],
   "source": [
    "print(\"open dataset\")\n",
    "tqdm.pandas()\n",
    "train = pd.read_csv(\"C:/Users/alhus/PycharmProjects/goodBook/dataset/goodreads_train.csv\")"
   ],
   "metadata": {
    "collapsed": false
   }
  },
  {
   "cell_type": "code",
   "execution_count": 3,
   "outputs": [],
   "source": [
    "test = pd.read_csv(\"C:/Users/alhus/PycharmProjects/goodBook/dataset/goodreads_test.csv\")"
   ],
   "metadata": {
    "collapsed": false
   }
  },
  {
   "cell_type": "code",
   "execution_count": 4,
   "outputs": [],
   "source": [
    "train_prepro = pd.DataFrame(data=np.load(file = \"C:/Users/alhus/PycharmProjects/goodBook/prepro_train_archive_PN_less.npy\", allow_pickle=True), columns=['review_text'])['review_text']"
   ],
   "metadata": {
    "collapsed": false
   }
  },
  {
   "cell_type": "code",
   "execution_count": 5,
   "outputs": [
    {
     "data": {
      "text/plain": "0         this special book . it started slow first thir...\n1         recommended . free : http : //www.audible.com/...\n2         a fun , fast paced science fiction thriller . ...\n3         recommended reading understand going middle am...\n4         i really enjoyed book , lot recommend . it dra...\n                                ...                        \n899995    3.5 star . popular author agent want character...\n899996    this quick read . i read lot book recently one...\n899997    * spoiler alert * 3.5 star . this book sweet i...\n899998    * spoiler alert another fun read ! 's new assi...\n899999    * spoiler alert * 3.5 star i liked ! the story...\nName: review_text, Length: 900000, dtype: object"
     },
     "execution_count": 5,
     "metadata": {},
     "output_type": "execute_result"
    }
   ],
   "source": [
    "train_prepro"
   ],
   "metadata": {
    "collapsed": false
   }
  },
  {
   "cell_type": "code",
   "execution_count": 6,
   "outputs": [],
   "source": [
    "train['review_text'] = train_prepro"
   ],
   "metadata": {
    "collapsed": false
   }
  },
  {
   "cell_type": "code",
   "execution_count": 7,
   "outputs": [],
   "source": [
    "train = train[train[\"review_text\"] != \"\"]"
   ],
   "metadata": {
    "collapsed": false
   }
  },
  {
   "cell_type": "code",
   "execution_count": 8,
   "outputs": [
    {
     "name": "stdout",
     "output_type": "stream",
     "text": [
      "0   0\n"
     ]
    }
   ],
   "source": [
    "print(\"0  \",train[train['review_text'] == \"\"][\"rating\"].count())\n"
   ],
   "metadata": {
    "collapsed": false
   }
  },
  {
   "cell_type": "code",
   "execution_count": 9,
   "outputs": [],
   "source": [
    "rating = keras.utils.to_categorical(train['rating'], num_classes=6)\n",
    "rating = rating.astype(int)"
   ],
   "metadata": {
    "collapsed": false
   }
  },
  {
   "cell_type": "code",
   "execution_count": 10,
   "outputs": [
    {
     "data": {
      "text/plain": "array([[0, 0, 0, 0, 0, 1],\n       [0, 0, 0, 1, 0, 0],\n       [0, 0, 0, 1, 0, 0],\n       ...,\n       [0, 0, 0, 0, 1, 0],\n       [0, 0, 0, 0, 1, 0],\n       [0, 0, 0, 1, 0, 0]])"
     },
     "execution_count": 10,
     "metadata": {},
     "output_type": "execute_result"
    }
   ],
   "source": [
    "rating"
   ],
   "metadata": {
    "collapsed": false
   }
  },
  {
   "cell_type": "code",
   "execution_count": 11,
   "outputs": [],
   "source": [
    "mylen = len(np.load('C:/Users/alhus/PycharmProjects/goodBook/voc_lemm_without_NP.npy'))"
   ],
   "metadata": {
    "collapsed": false
   }
  },
  {
   "cell_type": "code",
   "execution_count": 12,
   "outputs": [],
   "source": [
    "model = keras.Sequential()\n",
    "\"\"\"inputs2 = keras.Input(shape=(1), dtype=tf.int64)\n",
    "inputs3 = keras.Input(shape=(1), dtype=tf.int64)\"\"\"\n",
    "\n",
    "model.add(keras.layers.TextVectorization(\n",
    "    standardize='lower_and_strip_punctuation',\n",
    "    split='whitespace',\n",
    "    output_mode='int',\n",
    "    output_sequence_length=352,\n",
    "    vocabulary=np.load('C:/Users/alhus/PycharmProjects/goodBook/voc_lemm_without_NP.npy')\n",
    "))"
   ],
   "metadata": {
    "collapsed": false
   }
  },
  {
   "cell_type": "code",
   "execution_count": 13,
   "outputs": [],
   "source": [
    "#conc = keras.layers.concatenate([vectorize_layer])\n",
    "model.add(tf.keras.layers.Embedding(input_dim=mylen+1,output_dim=32,mask_zero=True))\n",
    "model.add(keras.layers.LSTM(64, input_shape= (352, 32), return_sequences=True))\n",
    "model.add(keras.layers.LSTM(64, return_sequences=True))\n",
    "model.add(keras.layers.LSTM(64))\n",
    "model.add(Dropout(0.2))\n",
    "model.add(keras.layers.Dense(128, activation=tf.keras.activations.relu))\n",
    "\n",
    "\n",
    "model.add(keras.layers.Dense(6, activation=tf.keras.activations.softmax))"
   ],
   "metadata": {
    "collapsed": false
   }
  },
  {
   "cell_type": "code",
   "execution_count": 14,
   "outputs": [],
   "source": [
    "\n",
    "tensorboard = TensorBoard(log_dir=\"C:/Users/alhus/PycharmProjects/goodBook/logs/lstm3\".format(time()))"
   ],
   "metadata": {
    "collapsed": false
   }
  },
  {
   "cell_type": "code",
   "execution_count": 15,
   "outputs": [],
   "source": [
    "#for learning_rate in learning_rates:\n",
    "model.compile(optimizer=tf.keras.optimizers.Adamax(learning_rate=0.01),\n",
    "              loss=tf.keras.losses.categorical_crossentropy,\n",
    "              metrics=[tf.keras.metrics.categorical_accuracy, tfa.metrics.F1Score(num_classes=6, average=\"weighted\")]\n",
    "              )"
   ],
   "metadata": {
    "collapsed": false
   }
  },
  {
   "cell_type": "code",
   "execution_count": 16,
   "outputs": [],
   "source": [
    "#class_weights = class_weight.compute_class_weight(class_weight='balanced',classes= np.unique(train['rating']), y = train['rating'])\n",
    "#weight = {i : class_weights[i] for i in range(6)}"
   ],
   "metadata": {
    "collapsed": false
   }
  },
  {
   "cell_type": "code",
   "execution_count": 17,
   "outputs": [
    {
     "name": "stderr",
     "output_type": "stream",
     "text": [
      "C:\\Users\\alhus\\anaconda3\\envs\\Book_Review_Project\\lib\\site-packages\\keras\\engine\\data_adapter.py:1699: FutureWarning: The behavior of `series[i:j]` with an integer-dtype index is deprecated. In a future version, this will be treated as *label-based* indexing, consistent with e.g. `series[i]` lookups. To retain the old behavior, use `series.iloc[i:j]`. To get the future behavior, use `series.loc[i:j]`.\n",
      "  return t[start:end]\n"
     ]
    },
    {
     "name": "stdout",
     "output_type": "stream",
     "text": [
      "Epoch 1/10\n",
      "1440/1440 [==============================] - 1579s 1s/step - loss: 1.1341 - categorical_accuracy: 0.5121 - f1_score: 0.5028 - val_loss: 1.0429 - val_categorical_accuracy: 0.5515 - val_f1_score: 0.5464\n",
      "Epoch 2/10\n",
      "1440/1440 [==============================] - 1586s 1s/step - loss: 1.0227 - categorical_accuracy: 0.5620 - f1_score: 0.5576 - val_loss: 1.0008 - val_categorical_accuracy: 0.5693 - val_f1_score: 0.5653\n",
      "Epoch 3/10\n",
      "1440/1440 [==============================] - 1584s 1s/step - loss: 0.9697 - categorical_accuracy: 0.5876 - f1_score: 0.5844 - val_loss: 0.9772 - val_categorical_accuracy: 0.5825 - val_f1_score: 0.5778\n",
      "Epoch 4/10\n",
      "1440/1440 [==============================] - 1590s 1s/step - loss: 0.9372 - categorical_accuracy: 0.6026 - f1_score: 0.5998 - val_loss: 0.9745 - val_categorical_accuracy: 0.5855 - val_f1_score: 0.5794\n",
      "Epoch 5/10\n",
      "1440/1440 [==============================] - 2121s 1s/step - loss: 0.9079 - categorical_accuracy: 0.6154 - f1_score: 0.6130 - val_loss: 0.9704 - val_categorical_accuracy: 0.5863 - val_f1_score: 0.5861\n",
      "Epoch 6/10\n",
      "1440/1440 [==============================] - 1572s 1s/step - loss: 0.8783 - categorical_accuracy: 0.6299 - f1_score: 0.6279 - val_loss: 0.9701 - val_categorical_accuracy: 0.5896 - val_f1_score: 0.5866\n",
      "Epoch 7/10\n",
      "1440/1440 [==============================] - 1663s 1s/step - loss: 0.8433 - categorical_accuracy: 0.6461 - f1_score: 0.6444 - val_loss: 0.9864 - val_categorical_accuracy: 0.5887 - val_f1_score: 0.5875\n",
      "Epoch 8/10\n",
      "1440/1440 [==============================] - 1389s 965ms/step - loss: 0.7987 - categorical_accuracy: 0.6673 - f1_score: 0.6659 - val_loss: 1.0386 - val_categorical_accuracy: 0.5783 - val_f1_score: 0.5745\n",
      "Epoch 9/10\n",
      "1440/1440 [==============================] - 1630s 1s/step - loss: 0.7438 - categorical_accuracy: 0.6936 - f1_score: 0.6925 - val_loss: 1.0988 - val_categorical_accuracy: 0.5726 - val_f1_score: 0.5717\n",
      "Epoch 10/10\n",
      "1440/1440 [==============================] - 1653s 1s/step - loss: 0.6813 - categorical_accuracy: 0.7211 - f1_score: 0.7202 - val_loss: 1.2680 - val_categorical_accuracy: 0.5604 - val_f1_score: 0.5602\n",
      "Model: \"sequential\"\n",
      "_________________________________________________________________\n",
      " Layer (type)                Output Shape              Param #   \n",
      "=================================================================\n",
      " text_vectorization (TextVec  (None, 352)              0         \n",
      " torization)                                                     \n",
      "                                                                 \n",
      " embedding (Embedding)       (None, 352, 32)           12530656  \n",
      "                                                                 \n",
      " lstm (LSTM)                 (None, 352, 64)           24832     \n",
      "                                                                 \n",
      " lstm_1 (LSTM)               (None, 352, 64)           33024     \n",
      "                                                                 \n",
      " lstm_2 (LSTM)               (None, 64)                33024     \n",
      "                                                                 \n",
      " dropout (Dropout)           (None, 64)                0         \n",
      "                                                                 \n",
      " dense (Dense)               (None, 128)               8320      \n",
      "                                                                 \n",
      " dense_1 (Dense)             (None, 6)                 774       \n",
      "                                                                 \n",
      "=================================================================\n",
      "Total params: 12,630,630\n",
      "Trainable params: 12,630,630\n",
      "Non-trainable params: 0\n",
      "_________________________________________________________________\n"
     ]
    }
   ],
   "source": [
    "model.fit(train['review_text'], rating, epochs=10,\n",
    "                  callbacks=[\n",
    "                      tf.keras.callbacks.TensorBoard(log_dir=\"C:/Users/alhus/PycharmProjects/goodBook/logs/lstm3\"),\n",
    "                  ],\n",
    "                  batch_size=500, shuffle= True, validation_split=0.2\n",
    "                  )\n",
    "model.summary()"
   ],
   "metadata": {
    "collapsed": false
   }
  },
  {
   "cell_type": "code",
   "execution_count": 18,
   "outputs": [],
   "source": [
    "test_prepro = pd.DataFrame(data=np.load(file=\"C:/Users/alhus/PycharmProjects/goodBook/prepro_test_archive_PN_less.npy\", allow_pickle=True), columns=['review_text'])['review_text']\n",
    "test['review_text'] = test_prepro"
   ],
   "metadata": {
    "collapsed": false
   }
  },
  {
   "cell_type": "code",
   "execution_count": 19,
   "outputs": [
    {
     "name": "stdout",
     "output_type": "stream",
     "text": [
      "WARNING:tensorflow:Layers in a Sequential model should only have a single input tensor. Received: inputs=(<tf.Tensor 'IteratorGetNext:0' shape=(None, 1) dtype=string>,). Consider rewriting this model with the Functional API.\n",
      " 7125/14939 [=============>................] - ETA: 4:02"
     ]
    },
    {
     "name": "stderr",
     "output_type": "stream",
     "text": [
      "\n",
      "KeyboardInterrupt\n",
      "\n"
     ]
    }
   ],
   "source": [
    "restest = model.predict([test['review_text']])"
   ],
   "metadata": {
    "collapsed": false
   }
  },
  {
   "cell_type": "code",
   "execution_count": null,
   "outputs": [],
   "source": [
    "ff = []\n",
    "for line in tqdm(restest):\n",
    "    tmp = -2\n",
    "    category = None\n",
    "    for i in (range(6)):\n",
    "        if line[i] > tmp:\n",
    "            category = i\n",
    "            tmp = line[i]\n",
    "    ff.append(category)\n",
    "data = np.array(ff)"
   ],
   "metadata": {
    "collapsed": false
   }
  },
  {
   "cell_type": "code",
   "execution_count": null,
   "outputs": [],
   "source": [
    "test['rating'] = data"
   ],
   "metadata": {
    "collapsed": false
   }
  },
  {
   "cell_type": "code",
   "execution_count": null,
   "outputs": [],
   "source": [
    "id = test['review_id'].to_numpy()\n",
    "rating = test['rating'].to_numpy()\n",
    "df = pd.DataFrame( columns=['review_id', 'rating'])"
   ],
   "metadata": {
    "collapsed": false
   }
  },
  {
   "cell_type": "code",
   "execution_count": null,
   "outputs": [],
   "source": [
    "df['review_id'] = id\n",
    "df['rating'] = rating"
   ],
   "metadata": {
    "collapsed": false
   }
  },
  {
   "cell_type": "code",
   "execution_count": null,
   "outputs": [],
   "source": [
    "df.to_csv('submission_lstm12_model.csv',index=False )"
   ],
   "metadata": {
    "collapsed": false
   }
  },
  {
   "cell_type": "code",
   "execution_count": null,
   "outputs": [],
   "source": [
    "model.summary()"
   ],
   "metadata": {
    "collapsed": false
   }
  },
  {
   "cell_type": "code",
   "execution_count": null,
   "outputs": [],
   "source": [
    "from keras import backend as K"
   ],
   "metadata": {
    "collapsed": false
   }
  },
  {
   "cell_type": "code",
   "execution_count": null,
   "outputs": [],
   "source": [
    "K.clear_session"
   ],
   "metadata": {
    "collapsed": false
   }
  },
  {
   "cell_type": "code",
   "execution_count": null,
   "outputs": [],
   "source": [
    "del model"
   ],
   "metadata": {
    "collapsed": false
   }
  },
  {
   "cell_type": "code",
   "execution_count": null,
   "outputs": [],
   "source": [
    "print(\"0  \",train[train['review_text'] == \"\"][\"rating\"].count())\n"
   ],
   "metadata": {
    "collapsed": false
   }
  }
 ],
 "metadata": {
  "kernelspec": {
   "display_name": "Python 3",
   "language": "python",
   "name": "python3"
  },
  "language_info": {
   "codemirror_mode": {
    "name": "ipython",
    "version": 2
   },
   "file_extension": ".py",
   "mimetype": "text/x-python",
   "name": "python",
   "nbconvert_exporter": "python",
   "pygments_lexer": "ipython2",
   "version": "2.7.6"
  }
 },
 "nbformat": 4,
 "nbformat_minor": 0
}
