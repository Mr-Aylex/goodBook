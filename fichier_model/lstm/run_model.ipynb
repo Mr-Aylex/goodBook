{
 "cells": [
  {
   "cell_type": "code",
   "execution_count": 1,
   "metadata": {
    "collapsed": true
   },
   "outputs": [
    {
     "name": "stdout",
     "output_type": "stream",
     "text": [
      "INFO: Pandarallel will run on 16 workers.\n",
      "INFO: Pandarallel will use standard multiprocessing data transfer (pipe) to transfer data between the main process and workers.\n",
      "\n",
      "WARNING: You are on Windows. If you detect any issue with pandarallel, be sure you checked out the Troubleshooting page:\n",
      "https://nalepae.github.io/pandarallel/troubleshooting/\n"
     ]
    }
   ],
   "source": [
    "import tensorflow as tf\n",
    "from tensorflow import keras\n",
    "import pandas as pd\n",
    "import numpy as np\n",
    "import os\n",
    "from tqdm.notebook import tqdm\n",
    "from Model import *\n",
    "from pandarallel import pandarallel\n",
    "import tensorflow_addons as tfa\n",
    "pandarallel.initialize(progress_bar=True, nb_workers=16)\n",
    "tqdm.pandas()"
   ]
  },
  {
   "cell_type": "code",
   "execution_count": 2,
   "outputs": [
    {
     "name": "stderr",
     "output_type": "stream",
     "text": [
      "C:\\Users\\Carmo\\AppData\\Local\\Temp\\ipykernel_41376\\4249455549.py:4: FutureWarning: The default value of regex will change from True to False in a future version.\n",
      "  train['review_text'] = train['review_text'].str.replace('[^\\w\\s]','')\n"
     ]
    },
    {
     "data": {
      "text/plain": "VBox(children=(HBox(children=(IntProgress(value=0, description='0.00%', max=225000), Label(value='0 / 225000')…",
      "application/vnd.jupyter.widget-view+json": {
       "version_major": 2,
       "version_minor": 0,
       "model_id": "91892e3c724e4fe2931a74ac99aaecce"
      }
     },
     "metadata": {},
     "output_type": "display_data"
    }
   ],
   "source": [
    "train = pd.read_csv(\"../../dataset/goodreads_train.csv\")\n",
    "test = pd.read_csv(\"../../dataset/goodreads_test.csv\")\n",
    "vocabulary = np.load('../../vocabulaires/voc_without_std_word_count_5.npy', allow_pickle=True)\n",
    "train['review_text'] = train['review_text'].str.replace('[^\\w\\s]','')\n",
    "\n",
    "def convert_timestamp(x):\n",
    "    import pandas as pd\n",
    "    if pd.isna(x):#parallel_apply\n",
    "        return 0.0\n",
    "    else:\n",
    "        try:\n",
    "            return float(pd.Timestamp(x).value / 10**18)\n",
    "        except:\n",
    "            return 0\n",
    "train[['read_at','date_added','date_updated' ,'started_at']] = train[['read_at','date_added','date_updated' ,'started_at']].parallel_applymap(convert_timestamp)\n",
    "\n",
    "inputs_data = [train['review_text'], train['n_comments'], train['n_votes'], train['read_at'], train['date_added'], train['date_updated'], train['started_at']]\n",
    "#model_list = [cnn1,cnn2, cnn3,cnn4,cnn5,cnn6, cnn8, cnn9, cnn10]"
   ],
   "metadata": {
    "collapsed": false
   }
  },
  {
   "cell_type": "code",
   "execution_count": null,
   "outputs": [
    {
     "name": "stdout",
     "output_type": "stream",
     "text": [
      "lstm6\n",
      "Model: \"model\"\n",
      "__________________________________________________________________________________________________\n",
      " Layer (type)                   Output Shape         Param #     Connected to                     \n",
      "==================================================================================================\n",
      " input_1 (InputLayer)           [(None, 1)]          0           []                               \n",
      "                                                                                                  \n",
      " text_vectorization (TextVector  (None, 256)         0           ['input_1[0][0]']                \n",
      " ization)                                                                                         \n",
      "                                                                                                  \n",
      " embedding (Embedding)          (None, 256, 300)     32849700    ['text_vectorization[0][0]']     \n",
      "                                                                                                  \n",
      " bidirectional (Bidirectional)  (None, 256, 600)     1442400     ['embedding[0][0]']              \n",
      "                                                                                                  \n",
      " input_4 (InputLayer)           [(None, 1)]          0           []                               \n",
      "                                                                                                  \n",
      " input_5 (InputLayer)           [(None, 1)]          0           []                               \n",
      "                                                                                                  \n",
      " input_6 (InputLayer)           [(None, 1)]          0           []                               \n",
      "                                                                                                  \n",
      " input_7 (InputLayer)           [(None, 1)]          0           []                               \n",
      "                                                                                                  \n",
      " lstm_1 (LSTM)                  (None, 300)          1081200     ['bidirectional[0][0]']          \n",
      "                                                                                                  \n",
      " concatenate (Concatenate)      (None, 4)            0           ['input_4[0][0]',                \n",
      "                                                                  'input_5[0][0]',                \n",
      "                                                                  'input_6[0][0]',                \n",
      "                                                                  'input_7[0][0]']                \n",
      "                                                                                                  \n",
      " flatten (Flatten)              (None, 300)          0           ['lstm_1[0][0]']                 \n",
      "                                                                                                  \n",
      " dense (Dense)                  (None, 32)           160         ['concatenate[0][0]']            \n",
      "                                                                                                  \n",
      " concatenate_1 (Concatenate)    (None, 332)          0           ['flatten[0][0]',                \n",
      "                                                                  'dense[0][0]']                  \n",
      "                                                                                                  \n",
      " dense_1 (Dense)                (None, 64)           21312       ['concatenate_1[0][0]']          \n",
      "                                                                                                  \n",
      " dropout (Dropout)              (None, 64)           0           ['dense_1[0][0]']                \n",
      "                                                                                                  \n",
      " dense_2 (Dense)                (None, 32)           2080        ['dropout[0][0]']                \n",
      "                                                                                                  \n",
      " dropout_1 (Dropout)            (None, 32)           0           ['dense_2[0][0]']                \n",
      "                                                                                                  \n",
      " input_2 (InputLayer)           [(None, 1)]          0           []                               \n",
      "                                                                                                  \n",
      " input_3 (InputLayer)           [(None, 1)]          0           []                               \n",
      "                                                                                                  \n",
      " concatenate_2 (Concatenate)    (None, 34)           0           ['dropout_1[0][0]',              \n",
      "                                                                  'input_2[0][0]',                \n",
      "                                                                  'input_3[0][0]']                \n",
      "                                                                                                  \n",
      " dense_3 (Dense)                (None, 16)           560         ['concatenate_2[0][0]']          \n",
      "                                                                                                  \n",
      " dropout_2 (Dropout)            (None, 16)           0           ['dense_3[0][0]']                \n",
      "                                                                                                  \n",
      " dense_4 (Dense)                (None, 16)           272         ['dropout_2[0][0]']              \n",
      "                                                                                                  \n",
      " dropout_3 (Dropout)            (None, 16)           0           ['dense_4[0][0]']                \n",
      "                                                                                                  \n",
      " dense_5 (Dense)                (None, 6)            102         ['dropout_3[0][0]']              \n",
      "                                                                                                  \n",
      "==================================================================================================\n",
      "Total params: 35,397,786\n",
      "Trainable params: 35,397,786\n",
      "Non-trainable params: 0\n",
      "__________________________________________________________________________________________________\n",
      "Epoch 1/15\n",
      "22500/22500 [==============================] - 2095s 93ms/step - loss: 1.5965 - categorical_accuracy: 0.3317 - f1_score: 0.2653 - val_loss: 1.5070 - val_categorical_accuracy: 0.3556 - val_f1_score: 0.2354 - lr: 1.0000e-04\n",
      "Epoch 2/15\n",
      "22500/22500 [==============================] - 2075s 92ms/step - loss: 1.5055 - categorical_accuracy: 0.3406 - f1_score: 0.2519 - val_loss: 1.4683 - val_categorical_accuracy: 0.3526 - val_f1_score: 0.2336 - lr: 1.0000e-04\n",
      "Epoch 3/15\n",
      "  208/22500 [..............................] - ETA: 30:54 - loss: 1.4766 - categorical_accuracy: 0.3454 - f1_score: 0.2501"
     ]
    }
   ],
   "source": [
    "\n",
    "def scheduler(epoch, lr):\n",
    "    if epoch < 2:\n",
    "        return lr\n",
    "    else:\n",
    "        return lr * tf.math.exp(-0.2)\n",
    "\n",
    "model_list = [lstm6]\n",
    "seeds = [42]\n",
    "for seed in seeds:\n",
    "    keras.utils.set_random_seed(seed)\n",
    "    for model_obj in model_list:\n",
    "        model = model_obj.Model(vocabulary)\n",
    "        model.model.compile(optimizer=keras.optimizers.Adamax(learning_rate=0.0001),\n",
    "                           loss=keras.losses.categorical_crossentropy,\n",
    "                           metrics=[keras.metrics.categorical_accuracy, tfa.metrics.F1Score(num_classes=6, average='weighted')]\n",
    "                           )\n",
    "\n",
    "        print(model.name)\n",
    "        model.model.summary()\n",
    "        chekpoint = keras.callbacks.ModelCheckpoint(f'checkpoint/{model.name}/', save_weights_only=True,\n",
    "        monitor='val_f1_score',\n",
    "        mode='max',\n",
    "        save_best_only=True)\n",
    "        if not os.path.exists(f\"logs/{model.name}\"):\n",
    "            os.mkdir(f\"logs/{model.name}\")\n",
    "        tensorboard_callback = tf.keras.callbacks.TensorBoard(log_dir=f\"logs/{model.name}\")\n",
    "        model.run_experiment(inputs_data, train['rating'], epochs=15, callbacks=[keras.callbacks.LearningRateScheduler(scheduler,0),chekpoint], batch_size=32)"
   ],
   "metadata": {
    "collapsed": false,
    "pycharm": {
     "is_executing": true
    }
   }
  },
  {
   "cell_type": "code",
   "execution_count": 5,
   "outputs": [
    {
     "name": "stderr",
     "output_type": "stream",
     "text": [
      "WARNING:absl:Found untraced functions such as gru_cell_1_layer_call_fn, gru_cell_1_layer_call_and_return_conditional_losses, gru_cell_2_layer_call_fn, gru_cell_2_layer_call_and_return_conditional_losses, gru_cell_4_layer_call_fn while saving (showing 5 of 12). These functions will not be directly callable after loading.\n"
     ]
    },
    {
     "name": "stdout",
     "output_type": "stream",
     "text": [
      "INFO:tensorflow:Assets written to: lstm6\\assets\n"
     ]
    },
    {
     "name": "stderr",
     "output_type": "stream",
     "text": [
      "INFO:tensorflow:Assets written to: lstm6\\assets\n"
     ]
    }
   ],
   "source": [
    "model.model.save('lstm6')"
   ],
   "metadata": {
    "collapsed": false
   }
  },
  {
   "cell_type": "code",
   "execution_count": 5,
   "outputs": [
    {
     "name": "stdout",
     "output_type": "stream",
     "text": [
      "Epoch 1/5\n",
      "7200/7200 [==============================] - 2432s 338ms/step - loss: 1.1402 - categorical_accuracy: 0.5574 - val_loss: 1.1219 - val_categorical_accuracy: 0.5644\n",
      "Epoch 2/5\n",
      "7200/7200 [==============================] - 2405s 334ms/step - loss: 1.1352 - categorical_accuracy: 0.5589 - val_loss: 1.0965 - val_categorical_accuracy: 0.5703\n",
      "Epoch 3/5\n",
      "7200/7200 [==============================] - 2388s 332ms/step - loss: 1.1286 - categorical_accuracy: 0.5616 - val_loss: 1.1076 - val_categorical_accuracy: 0.5680\n",
      "Epoch 4/5\n",
      "7200/7200 [==============================] - 2374s 330ms/step - loss: 1.1238 - categorical_accuracy: 0.5639 - val_loss: 1.1135 - val_categorical_accuracy: 0.5698\n",
      "Epoch 5/5\n",
      "7200/7200 [==============================] - 2378s 330ms/step - loss: 1.1177 - categorical_accuracy: 0.5672 - val_loss: 1.1016 - val_categorical_accuracy: 0.5698\n"
     ]
    },
    {
     "data": {
      "text/plain": "<keras.callbacks.History at 0x2c13d4827d0>"
     },
     "execution_count": 5,
     "metadata": {},
     "output_type": "execute_result"
    }
   ],
   "source": [
    "model.run_experiment([train['review_text'], train['n_comments'], train['n_votes']], train['rating'], epochs=5, batch_size=100)"
   ],
   "metadata": {
    "collapsed": false
   }
  },
  {
   "cell_type": "code",
   "execution_count": 6,
   "outputs": [
    {
     "name": "stdout",
     "output_type": "stream",
     "text": [
      "Epoch 1/5\n",
      "7200/7200 [==============================] - 2393s 332ms/step - loss: 1.1138 - categorical_accuracy: 0.5688 - val_loss: 1.1079 - val_categorical_accuracy: 0.5692\n",
      "Epoch 2/5\n",
      "7200/7200 [==============================] - 2378s 330ms/step - loss: 1.1094 - categorical_accuracy: 0.5710 - val_loss: 1.0996 - val_categorical_accuracy: 0.5728\n",
      "Epoch 3/5\n",
      "7200/7200 [==============================] - 2423s 337ms/step - loss: 1.1033 - categorical_accuracy: 0.5732 - val_loss: 1.1029 - val_categorical_accuracy: 0.5725\n",
      "Epoch 4/5\n",
      "7200/7200 [==============================] - 2415s 335ms/step - loss: 1.0995 - categorical_accuracy: 0.5744 - val_loss: 1.0974 - val_categorical_accuracy: 0.5769\n",
      "Epoch 5/5\n",
      "7200/7200 [==============================] - 2407s 334ms/step - loss: 1.0954 - categorical_accuracy: 0.5753 - val_loss: 1.0859 - val_categorical_accuracy: 0.5777\n"
     ]
    },
    {
     "data": {
      "text/plain": "<keras.callbacks.History at 0x2c2b4220640>"
     },
     "execution_count": 6,
     "metadata": {},
     "output_type": "execute_result"
    }
   ],
   "source": [
    "model.run_experiment([train['review_text'], train['n_comments'], train['n_votes']], train['rating'], epochs=5, batch_size=100)"
   ],
   "metadata": {
    "collapsed": false
   }
  },
  {
   "cell_type": "code",
   "execution_count": 7,
   "outputs": [
    {
     "name": "stdout",
     "output_type": "stream",
     "text": [
      "Epoch 1/15\n",
      "7200/7200 [==============================] - 2401s 333ms/step - loss: 1.0907 - categorical_accuracy: 0.5773 - val_loss: 1.0850 - val_categorical_accuracy: 0.5822\n",
      "Epoch 2/15\n",
      "7200/7200 [==============================] - 2372s 329ms/step - loss: 1.0857 - categorical_accuracy: 0.5792 - val_loss: 1.1049 - val_categorical_accuracy: 0.5740\n",
      "Epoch 3/15\n",
      "7200/7200 [==============================] - 2378s 330ms/step - loss: 1.0810 - categorical_accuracy: 0.5809 - val_loss: 1.1267 - val_categorical_accuracy: 0.5646\n",
      "Epoch 4/15\n",
      "7200/7200 [==============================] - 2374s 330ms/step - loss: 1.0763 - categorical_accuracy: 0.5827 - val_loss: 1.0881 - val_categorical_accuracy: 0.5822\n",
      "Epoch 5/15\n",
      "7200/7200 [==============================] - 2372s 329ms/step - loss: 1.0719 - categorical_accuracy: 0.5842 - val_loss: 1.0753 - val_categorical_accuracy: 0.5853\n",
      "Epoch 6/15\n",
      "7200/7200 [==============================] - 2362s 328ms/step - loss: 1.0651 - categorical_accuracy: 0.5866 - val_loss: 1.1117 - val_categorical_accuracy: 0.5816\n",
      "Epoch 7/15\n",
      "7200/7200 [==============================] - 2359s 328ms/step - loss: 1.0615 - categorical_accuracy: 0.5872 - val_loss: 1.1217 - val_categorical_accuracy: 0.5726\n",
      "Epoch 8/15\n",
      "7200/7200 [==============================] - 2362s 328ms/step - loss: 1.0549 - categorical_accuracy: 0.5892 - val_loss: 1.1210 - val_categorical_accuracy: 0.5736\n",
      "Epoch 9/15\n",
      "7200/7200 [==============================] - 2420s 336ms/step - loss: 1.0494 - categorical_accuracy: 0.5915 - val_loss: 1.1842 - val_categorical_accuracy: 0.5426\n",
      "Epoch 10/15\n",
      "7200/7200 [==============================] - 2403s 334ms/step - loss: 1.0434 - categorical_accuracy: 0.5920 - val_loss: 1.1258 - val_categorical_accuracy: 0.5721\n",
      "Epoch 11/15\n",
      "7200/7200 [==============================] - 2400s 333ms/step - loss: 1.0354 - categorical_accuracy: 0.5930 - val_loss: 1.0857 - val_categorical_accuracy: 0.5871\n",
      "Epoch 12/15\n",
      "7200/7200 [==============================] - 2406s 334ms/step - loss: 1.0299 - categorical_accuracy: 0.5957 - val_loss: 1.1567 - val_categorical_accuracy: 0.5636\n",
      "Epoch 13/15\n",
      "7200/7200 [==============================] - 2366s 329ms/step - loss: 1.0256 - categorical_accuracy: 0.5974 - val_loss: 1.1322 - val_categorical_accuracy: 0.5687\n",
      "Epoch 14/15\n",
      "7200/7200 [==============================] - 2373s 330ms/step - loss: 1.0180 - categorical_accuracy: 0.5984 - val_loss: 1.1403 - val_categorical_accuracy: 0.5687\n",
      "Epoch 15/15\n",
      "7200/7200 [==============================] - 2371s 329ms/step - loss: 1.0090 - categorical_accuracy: 0.6005 - val_loss: 1.1382 - val_categorical_accuracy: 0.5714\n"
     ]
    },
    {
     "data": {
      "text/plain": "<keras.callbacks.History at 0x2c12266ec20>"
     },
     "execution_count": 7,
     "metadata": {},
     "output_type": "execute_result"
    }
   ],
   "source": [
    "model.run_experiment([train['review_text'], train['n_comments'], train['n_votes']], train['rating'], epochs=15, batch_size=100)"
   ],
   "metadata": {
    "collapsed": false
   }
  },
  {
   "cell_type": "code",
   "execution_count": 8,
   "outputs": [
    {
     "name": "stdout",
     "output_type": "stream",
     "text": [
      "Model: \"model\"\n",
      "__________________________________________________________________________________________________\n",
      " Layer (type)                   Output Shape         Param #     Connected to                     \n",
      "==================================================================================================\n",
      " input_1 (InputLayer)           [(None, 1)]          0           []                               \n",
      "                                                                                                  \n",
      " text_vectorization (TextVector  (None, 1400)        0           ['input_1[0][0]']                \n",
      " ization)                                                                                         \n",
      "                                                                                                  \n",
      " embedding (Embedding)          (None, 1400, 64)     3200000     ['text_vectorization[0][0]']     \n",
      "                                                                                                  \n",
      " bidirectional (Bidirectional)  (None, 1400, 128)    49920       ['embedding[0][0]']              \n",
      "                                                                                                  \n",
      " bidirectional_1 (Bidirectional  (None, 64)          31104       ['bidirectional[0][0]']          \n",
      " )                                                                                                \n",
      "                                                                                                  \n",
      " flatten (Flatten)              (None, 64)           0           ['bidirectional_1[0][0]']        \n",
      "                                                                                                  \n",
      " dense (Dense)                  (None, 32)           2080        ['flatten[0][0]']                \n",
      "                                                                                                  \n",
      " dropout (Dropout)              (None, 32)           0           ['dense[0][0]']                  \n",
      "                                                                                                  \n",
      " dense_1 (Dense)                (None, 16)           528         ['dropout[0][0]']                \n",
      "                                                                                                  \n",
      " dropout_1 (Dropout)            (None, 16)           0           ['dense_1[0][0]']                \n",
      "                                                                                                  \n",
      " dense_2 (Dense)                (None, 16)           272         ['dropout_1[0][0]']              \n",
      "                                                                                                  \n",
      " dropout_2 (Dropout)            (None, 16)           0           ['dense_2[0][0]']                \n",
      "                                                                                                  \n",
      " dense_3 (Dense)                (None, 16)           272         ['dropout_2[0][0]']              \n",
      "                                                                                                  \n",
      " dropout_3 (Dropout)            (None, 16)           0           ['dense_3[0][0]']                \n",
      "                                                                                                  \n",
      " input_2 (InputLayer)           [(None, 1)]          0           []                               \n",
      "                                                                                                  \n",
      " input_3 (InputLayer)           [(None, 1)]          0           []                               \n",
      "                                                                                                  \n",
      " concatenate (Concatenate)      (None, 18)           0           ['dropout_3[0][0]',              \n",
      "                                                                  'input_2[0][0]',                \n",
      "                                                                  'input_3[0][0]']                \n",
      "                                                                                                  \n",
      " dense_4 (Dense)                (None, 6)            114         ['concatenate[0][0]']            \n",
      "                                                                                                  \n",
      "==================================================================================================\n",
      "Total params: 3,284,290\n",
      "Trainable params: 3,284,290\n",
      "Non-trainable params: 0\n",
      "__________________________________________________________________________________________________\n"
     ]
    }
   ],
   "source": [
    "model.model.summary()"
   ],
   "metadata": {
    "collapsed": false
   }
  },
  {
   "cell_type": "code",
   "execution_count": null,
   "outputs": [],
   "source": [],
   "metadata": {
    "collapsed": false
   }
  }
 ],
 "metadata": {
  "kernelspec": {
   "display_name": "Python 3",
   "language": "python",
   "name": "python3"
  },
  "language_info": {
   "codemirror_mode": {
    "name": "ipython",
    "version": 2
   },
   "file_extension": ".py",
   "mimetype": "text/x-python",
   "name": "python",
   "nbconvert_exporter": "python",
   "pygments_lexer": "ipython2",
   "version": "2.7.6"
  }
 },
 "nbformat": 4,
 "nbformat_minor": 0
}
