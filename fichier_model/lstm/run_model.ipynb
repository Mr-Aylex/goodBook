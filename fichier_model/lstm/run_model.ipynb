{
 "cells": [
  {
   "cell_type": "code",
   "execution_count": 1,
   "metadata": {
    "collapsed": true
   },
   "outputs": [],
   "source": [
    "import tensorflow as tf\n",
    "from tensorflow import keras\n",
    "import pandas as pd\n",
    "import numpy as np\n",
    "import os\n",
    "from tqdm.notebook import tqdm\n",
    "from Model import *"
   ]
  },
  {
   "cell_type": "code",
   "execution_count": 2,
   "outputs": [],
   "source": [
    "tf.random.set_seed(7)"
   ],
   "metadata": {
    "collapsed": false
   }
  },
  {
   "cell_type": "code",
   "execution_count": null,
   "outputs": [
    {
     "name": "stdout",
     "output_type": "stream",
     "text": [
      "lstm6\n",
      "Model: \"model\"\n",
      "__________________________________________________________________________________________________\n",
      " Layer (type)                   Output Shape         Param #     Connected to                     \n",
      "==================================================================================================\n",
      " input_1 (InputLayer)           [(None, 1)]          0           []                               \n",
      "                                                                                                  \n",
      " text_vectorization (TextVector  (None, 1400)        0           ['input_1[0][0]']                \n",
      " ization)                                                                                         \n",
      "                                                                                                  \n",
      " embedding (Embedding)          (None, 1400, 32)     1600000     ['text_vectorization[0][0]']     \n",
      "                                                                                                  \n",
      " bidirectional (Bidirectional)  (None, 1400, 64)     12672       ['embedding[0][0]']              \n",
      "                                                                                                  \n",
      " bidirectional_1 (Bidirectional  (None, 1400, 64)    18816       ['bidirectional[0][0]']          \n",
      " )                                                                                                \n",
      "                                                                                                  \n",
      " bidirectional_2 (Bidirectional  (None, 1400, 40)    10320       ['bidirectional_1[0][0]']        \n",
      " )                                                                                                \n",
      "                                                                                                  \n",
      " locally_connected1d (LocallyCo  (None, 1398, 16)    2706528     ['bidirectional_2[0][0]']        \n",
      " nnected1D)                                                                                       \n",
      "                                                                                                  \n",
      " flatten (Flatten)              (None, 22368)        0           ['locally_connected1d[0][0]']    \n",
      "                                                                                                  \n",
      " dense (Dense)                  (None, 32)           715808      ['flatten[0][0]']                \n",
      "                                                                                                  \n",
      " dropout (Dropout)              (None, 32)           0           ['dense[0][0]']                  \n",
      "                                                                                                  \n",
      " dense_1 (Dense)                (None, 16)           528         ['dropout[0][0]']                \n",
      "                                                                                                  \n",
      " dropout_1 (Dropout)            (None, 16)           0           ['dense_1[0][0]']                \n",
      "                                                                                                  \n",
      " dense_2 (Dense)                (None, 16)           272         ['dropout_1[0][0]']              \n",
      "                                                                                                  \n",
      " dropout_2 (Dropout)            (None, 16)           0           ['dense_2[0][0]']                \n",
      "                                                                                                  \n",
      " dense_3 (Dense)                (None, 16)           272         ['dropout_2[0][0]']              \n",
      "                                                                                                  \n",
      " dropout_3 (Dropout)            (None, 16)           0           ['dense_3[0][0]']                \n",
      "                                                                                                  \n",
      " input_2 (InputLayer)           [(None, 1)]          0           []                               \n",
      "                                                                                                  \n",
      " input_3 (InputLayer)           [(None, 1)]          0           []                               \n",
      "                                                                                                  \n",
      " concatenate (Concatenate)      (None, 18)           0           ['dropout_3[0][0]',              \n",
      "                                                                  'input_2[0][0]',                \n",
      "                                                                  'input_3[0][0]']                \n",
      "                                                                                                  \n",
      " dense_4 (Dense)                (None, 6)            114         ['concatenate[0][0]']            \n",
      "                                                                                                  \n",
      "==================================================================================================\n",
      "Total params: 5,065,330\n",
      "Trainable params: 5,065,330\n",
      "Non-trainable params: 0\n",
      "__________________________________________________________________________________________________\n",
      "Epoch 1/30\n",
      "31305/31305 [==============================] - 13121s 418ms/step - loss: 1.9163 - categorical_accuracy: 0.2834 - val_loss: 1.3775 - val_categorical_accuracy: 0.4654\n",
      "Epoch 2/30\n",
      "31305/31305 [==============================] - 13116s 419ms/step - loss: 1.3730 - categorical_accuracy: 0.4661 - val_loss: 1.2412 - val_categorical_accuracy: 0.5041\n",
      "Epoch 3/30\n",
      "31305/31305 [==============================] - 13189s 421ms/step - loss: 1.3035 - categorical_accuracy: 0.4985 - val_loss: 1.1872 - val_categorical_accuracy: 0.5456\n",
      "Epoch 4/30\n",
      "31305/31305 [==============================] - 13283s 424ms/step - loss: 1.2778 - categorical_accuracy: 0.5102 - val_loss: 1.2644 - val_categorical_accuracy: 0.5120\n",
      "Epoch 5/30\n",
      "31305/31305 [==============================] - 13442s 429ms/step - loss: 1.2553 - categorical_accuracy: 0.5223 - val_loss: 1.1476 - val_categorical_accuracy: 0.5602\n",
      "Epoch 6/30\n",
      "31305/31305 [==============================] - 13473s 430ms/step - loss: 1.2397 - categorical_accuracy: 0.5291 - val_loss: 1.2421 - val_categorical_accuracy: 0.5280\n",
      "Epoch 7/30\n",
      "31305/31305 [==============================] - 13265s 424ms/step - loss: 1.2297 - categorical_accuracy: 0.5351 - val_loss: 1.1659 - val_categorical_accuracy: 0.5535\n",
      "Epoch 8/30\n",
      "31305/31305 [==============================] - 13122s 419ms/step - loss: 1.2198 - categorical_accuracy: 0.5402 - val_loss: 1.2071 - val_categorical_accuracy: 0.5434\n",
      "Epoch 9/30\n",
      "31305/31305 [==============================] - 13154s 420ms/step - loss: 1.2125 - categorical_accuracy: 0.5445 - val_loss: 1.1307 - val_categorical_accuracy: 0.5661\n",
      "Epoch 10/30\n",
      "31305/31305 [==============================] - 13200s 422ms/step - loss: 1.2053 - categorical_accuracy: 0.5483 - val_loss: 1.1701 - val_categorical_accuracy: 0.5487\n",
      "Epoch 11/30\n",
      "31305/31305 [==============================] - 13378s 427ms/step - loss: 1.1988 - categorical_accuracy: 0.5503 - val_loss: 1.1339 - val_categorical_accuracy: 0.5675\n",
      "Epoch 12/30\n",
      "31305/31305 [==============================] - 13491s 431ms/step - loss: 1.1943 - categorical_accuracy: 0.5527 - val_loss: 1.1374 - val_categorical_accuracy: 0.5741\n",
      "Epoch 13/30\n",
      "31305/31305 [==============================] - 13489s 431ms/step - loss: 1.1870 - categorical_accuracy: 0.5559 - val_loss: 1.1466 - val_categorical_accuracy: 0.5712\n",
      "Epoch 14/30\n",
      "31305/31305 [==============================] - 13884s 444ms/step - loss: 1.1810 - categorical_accuracy: 0.5584 - val_loss: 1.1813 - val_categorical_accuracy: 0.5548\n",
      "Epoch 15/30\n",
      "31305/31305 [==============================] - 14407s 460ms/step - loss: 1.1778 - categorical_accuracy: 0.5591 - val_loss: 1.1222 - val_categorical_accuracy: 0.5772\n",
      "Epoch 16/30\n",
      "31305/31305 [==============================] - 14381s 459ms/step - loss: 1.1742 - categorical_accuracy: 0.5609 - val_loss: 1.2713 - val_categorical_accuracy: 0.5304\n",
      "Epoch 17/30\n",
      "31305/31305 [==============================] - 14325s 458ms/step - loss: 1.1710 - categorical_accuracy: 0.5613 - val_loss: 1.2478 - val_categorical_accuracy: 0.5360\n",
      "Epoch 18/30\n",
      "13478/31305 [===========>..................] - ETA: 2:02:52 - loss: 1.1599 - categorical_accuracy: 0.5664"
     ]
    }
   ],
   "source": [
    "#model_list = [cnn1,cnn2, cnn3,cnn4,cnn5,cnn6, cnn8, cnn9, cnn10]\n",
    "model_list = [lstm6]\n",
    "for model_obj in model_list:\n",
    "    model = model_obj.Model(vocabulary2)\n",
    "    print(model.name)\n",
    "    model.model.summary()\n",
    "    if not os.path.exists(f\"logs/{model.name}\"):\n",
    "        os.mkdir(f\"logs/{model.name}\")\n",
    "    tensorboard_callback = tf.keras.callbacks.TensorBoard(log_dir=f\"logs/{model.name}\")\n",
    "    model.run_experiment([train['review_text'], train['n_comments'], train['n_votes']], train['rating'], epochs=30, tensorboard_callback=tensorboard_callback, batch_size=23)"
   ],
   "metadata": {
    "collapsed": false,
    "pycharm": {
     "is_executing": true
    }
   }
  },
  {
   "cell_type": "code",
   "execution_count": 3,
   "outputs": [],
   "source": [
    "train = pd.read_csv(\"../../dataset/goodreads_train.csv\")\n",
    "vocabulary2 = np.load('../../vocabulaires/voc_without_std_word_count_5.npy', allow_pickle=True)[:50000]"
   ],
   "metadata": {
    "collapsed": false
   }
  },
  {
   "cell_type": "code",
   "execution_count": 5,
   "outputs": [
    {
     "name": "stdout",
     "output_type": "stream",
     "text": [
      "Epoch 1/5\n",
      "7200/7200 [==============================] - 2432s 338ms/step - loss: 1.1402 - categorical_accuracy: 0.5574 - val_loss: 1.1219 - val_categorical_accuracy: 0.5644\n",
      "Epoch 2/5\n",
      "7200/7200 [==============================] - 2405s 334ms/step - loss: 1.1352 - categorical_accuracy: 0.5589 - val_loss: 1.0965 - val_categorical_accuracy: 0.5703\n",
      "Epoch 3/5\n",
      "7200/7200 [==============================] - 2388s 332ms/step - loss: 1.1286 - categorical_accuracy: 0.5616 - val_loss: 1.1076 - val_categorical_accuracy: 0.5680\n",
      "Epoch 4/5\n",
      "7200/7200 [==============================] - 2374s 330ms/step - loss: 1.1238 - categorical_accuracy: 0.5639 - val_loss: 1.1135 - val_categorical_accuracy: 0.5698\n",
      "Epoch 5/5\n",
      "7200/7200 [==============================] - 2378s 330ms/step - loss: 1.1177 - categorical_accuracy: 0.5672 - val_loss: 1.1016 - val_categorical_accuracy: 0.5698\n"
     ]
    },
    {
     "data": {
      "text/plain": "<keras.callbacks.History at 0x2c13d4827d0>"
     },
     "execution_count": 5,
     "metadata": {},
     "output_type": "execute_result"
    }
   ],
   "source": [
    "model.run_experiment([train['review_text'], train['n_comments'], train['n_votes']], train['rating'], epochs=5, batch_size=100)"
   ],
   "metadata": {
    "collapsed": false
   }
  },
  {
   "cell_type": "code",
   "execution_count": 6,
   "outputs": [
    {
     "name": "stdout",
     "output_type": "stream",
     "text": [
      "Epoch 1/5\n",
      "7200/7200 [==============================] - 2393s 332ms/step - loss: 1.1138 - categorical_accuracy: 0.5688 - val_loss: 1.1079 - val_categorical_accuracy: 0.5692\n",
      "Epoch 2/5\n",
      "7200/7200 [==============================] - 2378s 330ms/step - loss: 1.1094 - categorical_accuracy: 0.5710 - val_loss: 1.0996 - val_categorical_accuracy: 0.5728\n",
      "Epoch 3/5\n",
      "7200/7200 [==============================] - 2423s 337ms/step - loss: 1.1033 - categorical_accuracy: 0.5732 - val_loss: 1.1029 - val_categorical_accuracy: 0.5725\n",
      "Epoch 4/5\n",
      "7200/7200 [==============================] - 2415s 335ms/step - loss: 1.0995 - categorical_accuracy: 0.5744 - val_loss: 1.0974 - val_categorical_accuracy: 0.5769\n",
      "Epoch 5/5\n",
      "7200/7200 [==============================] - 2407s 334ms/step - loss: 1.0954 - categorical_accuracy: 0.5753 - val_loss: 1.0859 - val_categorical_accuracy: 0.5777\n"
     ]
    },
    {
     "data": {
      "text/plain": "<keras.callbacks.History at 0x2c2b4220640>"
     },
     "execution_count": 6,
     "metadata": {},
     "output_type": "execute_result"
    }
   ],
   "source": [
    "model.run_experiment([train['review_text'], train['n_comments'], train['n_votes']], train['rating'], epochs=5, batch_size=100)"
   ],
   "metadata": {
    "collapsed": false
   }
  },
  {
   "cell_type": "code",
   "execution_count": 7,
   "outputs": [
    {
     "name": "stdout",
     "output_type": "stream",
     "text": [
      "Epoch 1/15\n",
      "7200/7200 [==============================] - 2401s 333ms/step - loss: 1.0907 - categorical_accuracy: 0.5773 - val_loss: 1.0850 - val_categorical_accuracy: 0.5822\n",
      "Epoch 2/15\n",
      "7200/7200 [==============================] - 2372s 329ms/step - loss: 1.0857 - categorical_accuracy: 0.5792 - val_loss: 1.1049 - val_categorical_accuracy: 0.5740\n",
      "Epoch 3/15\n",
      "7200/7200 [==============================] - 2378s 330ms/step - loss: 1.0810 - categorical_accuracy: 0.5809 - val_loss: 1.1267 - val_categorical_accuracy: 0.5646\n",
      "Epoch 4/15\n",
      "7200/7200 [==============================] - 2374s 330ms/step - loss: 1.0763 - categorical_accuracy: 0.5827 - val_loss: 1.0881 - val_categorical_accuracy: 0.5822\n",
      "Epoch 5/15\n",
      "7200/7200 [==============================] - 2372s 329ms/step - loss: 1.0719 - categorical_accuracy: 0.5842 - val_loss: 1.0753 - val_categorical_accuracy: 0.5853\n",
      "Epoch 6/15\n",
      "7200/7200 [==============================] - 2362s 328ms/step - loss: 1.0651 - categorical_accuracy: 0.5866 - val_loss: 1.1117 - val_categorical_accuracy: 0.5816\n",
      "Epoch 7/15\n",
      "7200/7200 [==============================] - 2359s 328ms/step - loss: 1.0615 - categorical_accuracy: 0.5872 - val_loss: 1.1217 - val_categorical_accuracy: 0.5726\n",
      "Epoch 8/15\n",
      "7200/7200 [==============================] - 2362s 328ms/step - loss: 1.0549 - categorical_accuracy: 0.5892 - val_loss: 1.1210 - val_categorical_accuracy: 0.5736\n",
      "Epoch 9/15\n",
      "7200/7200 [==============================] - 2420s 336ms/step - loss: 1.0494 - categorical_accuracy: 0.5915 - val_loss: 1.1842 - val_categorical_accuracy: 0.5426\n",
      "Epoch 10/15\n",
      "7200/7200 [==============================] - 2403s 334ms/step - loss: 1.0434 - categorical_accuracy: 0.5920 - val_loss: 1.1258 - val_categorical_accuracy: 0.5721\n",
      "Epoch 11/15\n",
      "7200/7200 [==============================] - 2400s 333ms/step - loss: 1.0354 - categorical_accuracy: 0.5930 - val_loss: 1.0857 - val_categorical_accuracy: 0.5871\n",
      "Epoch 12/15\n",
      "7200/7200 [==============================] - 2406s 334ms/step - loss: 1.0299 - categorical_accuracy: 0.5957 - val_loss: 1.1567 - val_categorical_accuracy: 0.5636\n",
      "Epoch 13/15\n",
      "7200/7200 [==============================] - 2366s 329ms/step - loss: 1.0256 - categorical_accuracy: 0.5974 - val_loss: 1.1322 - val_categorical_accuracy: 0.5687\n",
      "Epoch 14/15\n",
      "7200/7200 [==============================] - 2373s 330ms/step - loss: 1.0180 - categorical_accuracy: 0.5984 - val_loss: 1.1403 - val_categorical_accuracy: 0.5687\n",
      "Epoch 15/15\n",
      "7200/7200 [==============================] - 2371s 329ms/step - loss: 1.0090 - categorical_accuracy: 0.6005 - val_loss: 1.1382 - val_categorical_accuracy: 0.5714\n"
     ]
    },
    {
     "data": {
      "text/plain": "<keras.callbacks.History at 0x2c12266ec20>"
     },
     "execution_count": 7,
     "metadata": {},
     "output_type": "execute_result"
    }
   ],
   "source": [
    "model.run_experiment([train['review_text'], train['n_comments'], train['n_votes']], train['rating'], epochs=15, batch_size=100)"
   ],
   "metadata": {
    "collapsed": false
   }
  },
  {
   "cell_type": "code",
   "execution_count": 8,
   "outputs": [
    {
     "name": "stdout",
     "output_type": "stream",
     "text": [
      "Model: \"model\"\n",
      "__________________________________________________________________________________________________\n",
      " Layer (type)                   Output Shape         Param #     Connected to                     \n",
      "==================================================================================================\n",
      " input_1 (InputLayer)           [(None, 1)]          0           []                               \n",
      "                                                                                                  \n",
      " text_vectorization (TextVector  (None, 1400)        0           ['input_1[0][0]']                \n",
      " ization)                                                                                         \n",
      "                                                                                                  \n",
      " embedding (Embedding)          (None, 1400, 64)     3200000     ['text_vectorization[0][0]']     \n",
      "                                                                                                  \n",
      " bidirectional (Bidirectional)  (None, 1400, 128)    49920       ['embedding[0][0]']              \n",
      "                                                                                                  \n",
      " bidirectional_1 (Bidirectional  (None, 64)          31104       ['bidirectional[0][0]']          \n",
      " )                                                                                                \n",
      "                                                                                                  \n",
      " flatten (Flatten)              (None, 64)           0           ['bidirectional_1[0][0]']        \n",
      "                                                                                                  \n",
      " dense (Dense)                  (None, 32)           2080        ['flatten[0][0]']                \n",
      "                                                                                                  \n",
      " dropout (Dropout)              (None, 32)           0           ['dense[0][0]']                  \n",
      "                                                                                                  \n",
      " dense_1 (Dense)                (None, 16)           528         ['dropout[0][0]']                \n",
      "                                                                                                  \n",
      " dropout_1 (Dropout)            (None, 16)           0           ['dense_1[0][0]']                \n",
      "                                                                                                  \n",
      " dense_2 (Dense)                (None, 16)           272         ['dropout_1[0][0]']              \n",
      "                                                                                                  \n",
      " dropout_2 (Dropout)            (None, 16)           0           ['dense_2[0][0]']                \n",
      "                                                                                                  \n",
      " dense_3 (Dense)                (None, 16)           272         ['dropout_2[0][0]']              \n",
      "                                                                                                  \n",
      " dropout_3 (Dropout)            (None, 16)           0           ['dense_3[0][0]']                \n",
      "                                                                                                  \n",
      " input_2 (InputLayer)           [(None, 1)]          0           []                               \n",
      "                                                                                                  \n",
      " input_3 (InputLayer)           [(None, 1)]          0           []                               \n",
      "                                                                                                  \n",
      " concatenate (Concatenate)      (None, 18)           0           ['dropout_3[0][0]',              \n",
      "                                                                  'input_2[0][0]',                \n",
      "                                                                  'input_3[0][0]']                \n",
      "                                                                                                  \n",
      " dense_4 (Dense)                (None, 6)            114         ['concatenate[0][0]']            \n",
      "                                                                                                  \n",
      "==================================================================================================\n",
      "Total params: 3,284,290\n",
      "Trainable params: 3,284,290\n",
      "Non-trainable params: 0\n",
      "__________________________________________________________________________________________________\n"
     ]
    }
   ],
   "source": [
    "model.model.summary()"
   ],
   "metadata": {
    "collapsed": false
   }
  },
  {
   "cell_type": "code",
   "execution_count": null,
   "outputs": [],
   "source": [],
   "metadata": {
    "collapsed": false
   }
  }
 ],
 "metadata": {
  "kernelspec": {
   "display_name": "Python 3",
   "language": "python",
   "name": "python3"
  },
  "language_info": {
   "codemirror_mode": {
    "name": "ipython",
    "version": 2
   },
   "file_extension": ".py",
   "mimetype": "text/x-python",
   "name": "python",
   "nbconvert_exporter": "python",
   "pygments_lexer": "ipython2",
   "version": "2.7.6"
  }
 },
 "nbformat": 4,
 "nbformat_minor": 0
}
